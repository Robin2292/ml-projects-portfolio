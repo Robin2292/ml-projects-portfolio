{
  "cells": [
    {
      "cell_type": "markdown",
      "id": "f2fa9628",
      "metadata": {
        "id": "f2fa9628"
      },
      "source": [
        "# 2025 COMP90042 Project"
      ]
    },
    {
      "cell_type": "markdown",
      "id": "3c820f25",
      "metadata": {
        "id": "3c820f25"
      },
      "source": [
        "This notebook demonstrates a fact-checking system that verifies claims using evidence passages from a knowledge base. The system first retrieves relevant evidence for each claim and then classifies the claim's veracity based on the evidence. We classify each claim into one of four categories: SUPPORTS, REFUTES, NOT_ENOUGH_INFO, or DISPUTED, according to the evidence found.\n",
        "\n",
        "We use a provided dataset of claims and evidences:\n",
        "\n",
        "* Training set: Labeled claims (with ground-truth label and evidence IDs) for model training.\n",
        "* Development set: Labeled claims for validation and analysis.\n",
        "* Test set: Unlabeled claims for which we will predict labels.\n",
        "* Evidence corpus: A JSON knowledge base of evidence passages, indexed by IDs.\n",
        "\n",
        "The overall workflow is:\n",
        "\n",
        "1. Data Loading: Read claim datasets and evidence corpus.\n",
        "2. Evidence Indexing: Preprocess and index evidence texts (using keywords and n-grams) for efficient retrieval.\n",
        "3. Candidate Retrieval: For each claim, retrieve a shortlist of candidate evidence passages from the index.\n",
        "4. Retrieval Model Training: Train a BERT-based model to identify relevant evidence among candidates (binary classification).\n",
        "5. Evidence Retrieval: Use the trained model to select top relevant evidence for each claim.\n",
        "6. Claim Classification Model Training: Train a BERT-based classifier to predict the claim's label (SUPPORTS/REFUTES/NEI) given claim-evidence pairs.\n",
        "7. Claim Verification: Apply the classifier to the retrieved evidence for each claim and determine the final label (with logic to handle the DISPUTED case)."
      ]
    },
    {
      "cell_type": "markdown",
      "id": "7c36a5c5",
      "metadata": {
        "id": "7c36a5c5"
      },
      "source": [
        "# 1.DataSet Processing"
      ]
    },
    {
      "cell_type": "markdown",
      "id": "7bf817e6",
      "metadata": {
        "id": "7bf817e6"
      },
      "source": [
        "First, we load the training and development claims, as well as the evidence corpus. Each claim has an ID, a text, a label (for train/dev), and a list of evidence IDs (the IDs of supporting/refuting evidence passages in the corpus). The evidence corpus is a dictionary mapping evidence IDs to the text of each evidence passage."
      ]
    },
    {
      "cell_type": "code",
      "execution_count": 10,
      "id": "bf07009f-ef5d-4c35-aabd-c73cf27d861f",
      "metadata": {
        "colab": {
          "base_uri": "https://localhost:8080/"
        },
        "id": "bf07009f-ef5d-4c35-aabd-c73cf27d861f",
        "outputId": "4fc06a6a-2dd1-4321-fc5f-90bef146606b"
      },
      "outputs": [
        {
          "name": "stdout",
          "output_type": "stream",
          "text": [
            "Drive already mounted at /content/drive; to attempt to forcibly remount, call drive.mount(\"/content/drive\", force_remount=True).\n"
          ]
        }
      ],
      "source": [
        "import json\n",
        "import pandas as pd\n",
        "from pathlib import Path\n",
        "\n",
        "# # Using Google Drive to access data\n",
        "from google.colab import drive\n",
        "drive.mount('/content/drive')\n",
        "\n",
        "# Define data directory and file paths\n",
        "# DATA_DIR = Path(\"/root/data\")      # Using sever\n",
        "# RESULT_DIR = Path(\"/root/result\")  # Using sever\n",
        "DATA_DIR = Path(\"/content/drive/MyDrive/COMP90042/data\")      # Using Google Drive\n",
        "RESULT_DIR = Path(\"/content/drive/MyDrive/COMP90042/result\")  # Using Google Drive\n",
        "NER_DIR = RESULT_DIR / \"ner\"\n",
        "train_claims_path = DATA_DIR / \"train-claims.json\"\n",
        "dev_claims_path   = DATA_DIR / \"dev-claims.json\"\n",
        "evidence_path     = DATA_DIR / \"evidence.json\""
      ]
    },
    {
      "cell_type": "code",
      "execution_count": 11,
      "id": "db62a62d-8d69-476d-9ea2-213e03e65716",
      "metadata": {
        "colab": {
          "base_uri": "https://localhost:8080/"
        },
        "id": "db62a62d-8d69-476d-9ea2-213e03e65716",
        "outputId": "07584ae6-dbce-4f53-a619-30881d7eb23f"
      },
      "outputs": [
        {
          "name": "stdout",
          "output_type": "stream",
          "text": [
            "Number of training claims: 1228\n",
            "Number of development claims: 154\n",
            "Number of evidences: 1208827\n",
            "\n",
            "Example training claim ID: claim-1937\n",
            "Claim text: Not only is there no scientific evidence that CO2 is a pollutant, higher CO2 concentrations actually help ecosystems support more plant and animal life.\n",
            "Claim label: DISPUTED\n",
            "Evidence IDs for this claim: ['evidence-442946', 'evidence-1194317', 'evidence-12171'] ...\n"
          ]
        }
      ],
      "source": [
        "# Load the datasets from JSON files\n",
        "with open(train_claims_path, 'r') as f:\n",
        "    train_claims = json.load(f)\n",
        "with open(dev_claims_path, 'r') as f:\n",
        "    dev_claims = json.load(f)\n",
        "with open(evidence_path, 'r') as f:\n",
        "    evidences = json.load(f)\n",
        "\n",
        "# Print basic information about the datasets\n",
        "print(f\"Number of training claims: {len(train_claims)}\")\n",
        "print(f\"Number of development claims: {len(dev_claims)}\")\n",
        "print(f\"Number of evidences: {len(evidences)}\")\n",
        "\n",
        "# Display an example training claim and its evidence IDs\n",
        "example_claim_id, example_claim = next(iter(train_claims.items()))\n",
        "print(\"\\nExample training claim ID:\", example_claim_id)\n",
        "print(\"Claim text:\", example_claim[\"claim_text\"])\n",
        "print(\"Claim label:\", example_claim.get(\"claim_label\", \"(no label)\"))\n",
        "print(\"Evidence IDs for this claim:\", example_claim[\"evidences\"][:5], \"...\")\n"
      ]
    },
    {
      "cell_type": "markdown",
      "id": "0aa46ba5",
      "metadata": {
        "id": "0aa46ba5"
      },
      "source": [
        "## Sampling Positive and Negative Training Pairs\n",
        "\n",
        "In this section, we generate training data for the **evidence retrieval model**.\n",
        "\n",
        "We create three sets of samples:\n",
        "1. **Positive samples:** Real claim-evidence pairs from the training set.\n",
        "2. **Related negative samples:** Evidence used by other claims, but not this one.\n",
        "3. **Distant negative samples:** Random evidence not linked to any claims.\n"
      ]
    },
    {
      "cell_type": "code",
      "execution_count": 18,
      "id": "9d913eab-f9e8-4e8e-9264-868c82635d6f",
      "metadata": {
        "colab": {
          "base_uri": "https://localhost:8080/",
          "height": 362
        },
        "id": "9d913eab-f9e8-4e8e-9264-868c82635d6f",
        "outputId": "9dd7f62b-52d9-48b2-b3bf-a80a456efae6"
      },
      "outputs": [
        {
          "name": "stdout",
          "output_type": "stream",
          "text": [
            "Positive samples: (4122, 5)\n",
            "Related negative samples: (4122, 5)\n",
            "Distant negative samples: (4122, 5)\n",
            "Total combined samples: (12366, 5)\n"
          ]
        },
        {
          "data": {
            "application/vnd.google.colaboratory.intrinsic+json": {
              "summary": "{\n  \"name\": \"combined_samples\",\n  \"rows\": 12366,\n  \"fields\": [\n    {\n      \"column\": \"claim\",\n      \"properties\": {\n        \"dtype\": \"category\",\n        \"num_unique_values\": 1228,\n        \"samples\": [\n          \"claim-1645\",\n          \"claim-904\",\n          \"claim-666\"\n        ],\n        \"semantic_type\": \"\",\n        \"description\": \"\"\n      }\n    },\n    {\n      \"column\": \"claim_text\",\n      \"properties\": {\n        \"dtype\": \"category\",\n        \"num_unique_values\": 1228,\n        \"samples\": [\n          \"Cosmic rays show no trend over the last 30 years & have had little impact on recent global warming.\",\n          \"Without human intervention, the concentration of CO2 has climbed as high as 7,000 parts per million (ppm) in prior eras, whereas at present the concentration is just over 400 ppm.\",\n          \"while it\\u2019s true that studies in some regions show polar bears are lighter in weight than they were in the 1980s, there is no evidence that more individuals are starving to death or becoming too thin to reproduce because of less summer ice.\"\n        ],\n        \"semantic_type\": \"\",\n        \"description\": \"\"\n      }\n    },\n    {\n      \"column\": \"evidence\",\n      \"properties\": {\n        \"dtype\": \"string\",\n        \"num_unique_values\": 7223,\n        \"samples\": [\n          \"evidence-752797\",\n          \"evidence-989919\",\n          \"evidence-827865\"\n        ],\n        \"semantic_type\": \"\",\n        \"description\": \"\"\n      }\n    },\n    {\n      \"column\": \"evidence_text\",\n      \"properties\": {\n        \"dtype\": \"string\",\n        \"num_unique_values\": 7218,\n        \"samples\": [\n          \"Other causal or contributing factors to the extinction may have been the Deccan Traps and other volcanic eruptions, climate change, and sea level change.\",\n          \"Cumulative anthropogenic (i.e., human-emitted) emissions of CO 2 from fossil fuel use are a major cause of global warming, and give some indication of which countries have contributed most to human-induced climate change.\",\n          \"Lovi Poe (born 1989), a Filipino actress and model\"\n        ],\n        \"semantic_type\": \"\",\n        \"description\": \"\"\n      }\n    },\n    {\n      \"column\": \"related\",\n      \"properties\": {\n        \"dtype\": \"number\",\n        \"std\": 0,\n        \"min\": 0,\n        \"max\": 1,\n        \"num_unique_values\": 2,\n        \"samples\": [\n          0,\n          1\n        ],\n        \"semantic_type\": \"\",\n        \"description\": \"\"\n      }\n    }\n  ]\n}",
              "type": "dataframe",
              "variable_name": "combined_samples"
            },
            "text/html": [
              "\n",
              "  <div id=\"df-2dd531ae-c56f-40ae-9c24-ea302ba9cb3e\" class=\"colab-df-container\">\n",
              "    <div>\n",
              "<style scoped>\n",
              "    .dataframe tbody tr th:only-of-type {\n",
              "        vertical-align: middle;\n",
              "    }\n",
              "\n",
              "    .dataframe tbody tr th {\n",
              "        vertical-align: top;\n",
              "    }\n",
              "\n",
              "    .dataframe thead th {\n",
              "        text-align: right;\n",
              "    }\n",
              "</style>\n",
              "<table border=\"1\" class=\"dataframe\">\n",
              "  <thead>\n",
              "    <tr style=\"text-align: right;\">\n",
              "      <th></th>\n",
              "      <th>claim</th>\n",
              "      <th>claim_text</th>\n",
              "      <th>evidence</th>\n",
              "      <th>evidence_text</th>\n",
              "      <th>related</th>\n",
              "    </tr>\n",
              "  </thead>\n",
              "  <tbody>\n",
              "    <tr>\n",
              "      <th>0</th>\n",
              "      <td>claim-1937</td>\n",
              "      <td>Not only is there no scientific evidence that ...</td>\n",
              "      <td>evidence-442946</td>\n",
              "      <td>At very high concentrations (100 times atmosph...</td>\n",
              "      <td>1</td>\n",
              "    </tr>\n",
              "    <tr>\n",
              "      <th>1</th>\n",
              "      <td>claim-1937</td>\n",
              "      <td>Not only is there no scientific evidence that ...</td>\n",
              "      <td>evidence-1194317</td>\n",
              "      <td>Plants can grow as much as 50 percent faster i...</td>\n",
              "      <td>1</td>\n",
              "    </tr>\n",
              "    <tr>\n",
              "      <th>2</th>\n",
              "      <td>claim-1937</td>\n",
              "      <td>Not only is there no scientific evidence that ...</td>\n",
              "      <td>evidence-12171</td>\n",
              "      <td>Higher carbon dioxide concentrations will favo...</td>\n",
              "      <td>1</td>\n",
              "    </tr>\n",
              "    <tr>\n",
              "      <th>3</th>\n",
              "      <td>claim-126</td>\n",
              "      <td>El Niño drove record highs in global temperatu...</td>\n",
              "      <td>evidence-338219</td>\n",
              "      <td>While ‘climate change’ can be due to natural f...</td>\n",
              "      <td>1</td>\n",
              "    </tr>\n",
              "    <tr>\n",
              "      <th>4</th>\n",
              "      <td>claim-126</td>\n",
              "      <td>El Niño drove record highs in global temperatu...</td>\n",
              "      <td>evidence-1127398</td>\n",
              "      <td>This acceleration is due mostly to human-cause...</td>\n",
              "      <td>1</td>\n",
              "    </tr>\n",
              "  </tbody>\n",
              "</table>\n",
              "</div>\n",
              "    <div class=\"colab-df-buttons\">\n",
              "\n",
              "  <div class=\"colab-df-container\">\n",
              "    <button class=\"colab-df-convert\" onclick=\"convertToInteractive('df-2dd531ae-c56f-40ae-9c24-ea302ba9cb3e')\"\n",
              "            title=\"Convert this dataframe to an interactive table.\"\n",
              "            style=\"display:none;\">\n",
              "\n",
              "  <svg xmlns=\"http://www.w3.org/2000/svg\" height=\"24px\" viewBox=\"0 -960 960 960\">\n",
              "    <path d=\"M120-120v-720h720v720H120Zm60-500h600v-160H180v160Zm220 220h160v-160H400v160Zm0 220h160v-160H400v160ZM180-400h160v-160H180v160Zm440 0h160v-160H620v160ZM180-180h160v-160H180v160Zm440 0h160v-160H620v160Z\"/>\n",
              "  </svg>\n",
              "    </button>\n",
              "\n",
              "  <style>\n",
              "    .colab-df-container {\n",
              "      display:flex;\n",
              "      gap: 12px;\n",
              "    }\n",
              "\n",
              "    .colab-df-convert {\n",
              "      background-color: #E8F0FE;\n",
              "      border: none;\n",
              "      border-radius: 50%;\n",
              "      cursor: pointer;\n",
              "      display: none;\n",
              "      fill: #1967D2;\n",
              "      height: 32px;\n",
              "      padding: 0 0 0 0;\n",
              "      width: 32px;\n",
              "    }\n",
              "\n",
              "    .colab-df-convert:hover {\n",
              "      background-color: #E2EBFA;\n",
              "      box-shadow: 0px 1px 2px rgba(60, 64, 67, 0.3), 0px 1px 3px 1px rgba(60, 64, 67, 0.15);\n",
              "      fill: #174EA6;\n",
              "    }\n",
              "\n",
              "    .colab-df-buttons div {\n",
              "      margin-bottom: 4px;\n",
              "    }\n",
              "\n",
              "    [theme=dark] .colab-df-convert {\n",
              "      background-color: #3B4455;\n",
              "      fill: #D2E3FC;\n",
              "    }\n",
              "\n",
              "    [theme=dark] .colab-df-convert:hover {\n",
              "      background-color: #434B5C;\n",
              "      box-shadow: 0px 1px 3px 1px rgba(0, 0, 0, 0.15);\n",
              "      filter: drop-shadow(0px 1px 2px rgba(0, 0, 0, 0.3));\n",
              "      fill: #FFFFFF;\n",
              "    }\n",
              "  </style>\n",
              "\n",
              "    <script>\n",
              "      const buttonEl =\n",
              "        document.querySelector('#df-2dd531ae-c56f-40ae-9c24-ea302ba9cb3e button.colab-df-convert');\n",
              "      buttonEl.style.display =\n",
              "        google.colab.kernel.accessAllowed ? 'block' : 'none';\n",
              "\n",
              "      async function convertToInteractive(key) {\n",
              "        const element = document.querySelector('#df-2dd531ae-c56f-40ae-9c24-ea302ba9cb3e');\n",
              "        const dataTable =\n",
              "          await google.colab.kernel.invokeFunction('convertToInteractive',\n",
              "                                                    [key], {});\n",
              "        if (!dataTable) return;\n",
              "\n",
              "        const docLinkHtml = 'Like what you see? Visit the ' +\n",
              "          '<a target=\"_blank\" href=https://colab.research.google.com/notebooks/data_table.ipynb>data table notebook</a>'\n",
              "          + ' to learn more about interactive tables.';\n",
              "        element.innerHTML = '';\n",
              "        dataTable['output_type'] = 'display_data';\n",
              "        await google.colab.output.renderOutput(dataTable, element);\n",
              "        const docLink = document.createElement('div');\n",
              "        docLink.innerHTML = docLinkHtml;\n",
              "        element.appendChild(docLink);\n",
              "      }\n",
              "    </script>\n",
              "  </div>\n",
              "\n",
              "\n",
              "    <div id=\"df-33864818-83d8-4fa0-8b82-1599bb3258e2\">\n",
              "      <button class=\"colab-df-quickchart\" onclick=\"quickchart('df-33864818-83d8-4fa0-8b82-1599bb3258e2')\"\n",
              "                title=\"Suggest charts\"\n",
              "                style=\"display:none;\">\n",
              "\n",
              "<svg xmlns=\"http://www.w3.org/2000/svg\" height=\"24px\"viewBox=\"0 0 24 24\"\n",
              "     width=\"24px\">\n",
              "    <g>\n",
              "        <path d=\"M19 3H5c-1.1 0-2 .9-2 2v14c0 1.1.9 2 2 2h14c1.1 0 2-.9 2-2V5c0-1.1-.9-2-2-2zM9 17H7v-7h2v7zm4 0h-2V7h2v10zm4 0h-2v-4h2v4z\"/>\n",
              "    </g>\n",
              "</svg>\n",
              "      </button>\n",
              "\n",
              "<style>\n",
              "  .colab-df-quickchart {\n",
              "      --bg-color: #E8F0FE;\n",
              "      --fill-color: #1967D2;\n",
              "      --hover-bg-color: #E2EBFA;\n",
              "      --hover-fill-color: #174EA6;\n",
              "      --disabled-fill-color: #AAA;\n",
              "      --disabled-bg-color: #DDD;\n",
              "  }\n",
              "\n",
              "  [theme=dark] .colab-df-quickchart {\n",
              "      --bg-color: #3B4455;\n",
              "      --fill-color: #D2E3FC;\n",
              "      --hover-bg-color: #434B5C;\n",
              "      --hover-fill-color: #FFFFFF;\n",
              "      --disabled-bg-color: #3B4455;\n",
              "      --disabled-fill-color: #666;\n",
              "  }\n",
              "\n",
              "  .colab-df-quickchart {\n",
              "    background-color: var(--bg-color);\n",
              "    border: none;\n",
              "    border-radius: 50%;\n",
              "    cursor: pointer;\n",
              "    display: none;\n",
              "    fill: var(--fill-color);\n",
              "    height: 32px;\n",
              "    padding: 0;\n",
              "    width: 32px;\n",
              "  }\n",
              "\n",
              "  .colab-df-quickchart:hover {\n",
              "    background-color: var(--hover-bg-color);\n",
              "    box-shadow: 0 1px 2px rgba(60, 64, 67, 0.3), 0 1px 3px 1px rgba(60, 64, 67, 0.15);\n",
              "    fill: var(--button-hover-fill-color);\n",
              "  }\n",
              "\n",
              "  .colab-df-quickchart-complete:disabled,\n",
              "  .colab-df-quickchart-complete:disabled:hover {\n",
              "    background-color: var(--disabled-bg-color);\n",
              "    fill: var(--disabled-fill-color);\n",
              "    box-shadow: none;\n",
              "  }\n",
              "\n",
              "  .colab-df-spinner {\n",
              "    border: 2px solid var(--fill-color);\n",
              "    border-color: transparent;\n",
              "    border-bottom-color: var(--fill-color);\n",
              "    animation:\n",
              "      spin 1s steps(1) infinite;\n",
              "  }\n",
              "\n",
              "  @keyframes spin {\n",
              "    0% {\n",
              "      border-color: transparent;\n",
              "      border-bottom-color: var(--fill-color);\n",
              "      border-left-color: var(--fill-color);\n",
              "    }\n",
              "    20% {\n",
              "      border-color: transparent;\n",
              "      border-left-color: var(--fill-color);\n",
              "      border-top-color: var(--fill-color);\n",
              "    }\n",
              "    30% {\n",
              "      border-color: transparent;\n",
              "      border-left-color: var(--fill-color);\n",
              "      border-top-color: var(--fill-color);\n",
              "      border-right-color: var(--fill-color);\n",
              "    }\n",
              "    40% {\n",
              "      border-color: transparent;\n",
              "      border-right-color: var(--fill-color);\n",
              "      border-top-color: var(--fill-color);\n",
              "    }\n",
              "    60% {\n",
              "      border-color: transparent;\n",
              "      border-right-color: var(--fill-color);\n",
              "    }\n",
              "    80% {\n",
              "      border-color: transparent;\n",
              "      border-right-color: var(--fill-color);\n",
              "      border-bottom-color: var(--fill-color);\n",
              "    }\n",
              "    90% {\n",
              "      border-color: transparent;\n",
              "      border-bottom-color: var(--fill-color);\n",
              "    }\n",
              "  }\n",
              "</style>\n",
              "\n",
              "      <script>\n",
              "        async function quickchart(key) {\n",
              "          const quickchartButtonEl =\n",
              "            document.querySelector('#' + key + ' button');\n",
              "          quickchartButtonEl.disabled = true;  // To prevent multiple clicks.\n",
              "          quickchartButtonEl.classList.add('colab-df-spinner');\n",
              "          try {\n",
              "            const charts = await google.colab.kernel.invokeFunction(\n",
              "                'suggestCharts', [key], {});\n",
              "          } catch (error) {\n",
              "            console.error('Error during call to suggestCharts:', error);\n",
              "          }\n",
              "          quickchartButtonEl.classList.remove('colab-df-spinner');\n",
              "          quickchartButtonEl.classList.add('colab-df-quickchart-complete');\n",
              "        }\n",
              "        (() => {\n",
              "          let quickchartButtonEl =\n",
              "            document.querySelector('#df-33864818-83d8-4fa0-8b82-1599bb3258e2 button');\n",
              "          quickchartButtonEl.style.display =\n",
              "            google.colab.kernel.accessAllowed ? 'block' : 'none';\n",
              "        })();\n",
              "      </script>\n",
              "    </div>\n",
              "\n",
              "    </div>\n",
              "  </div>\n"
            ],
            "text/plain": [
              "        claim                                         claim_text  \\\n",
              "0  claim-1937  Not only is there no scientific evidence that ...   \n",
              "1  claim-1937  Not only is there no scientific evidence that ...   \n",
              "2  claim-1937  Not only is there no scientific evidence that ...   \n",
              "3   claim-126  El Niño drove record highs in global temperatu...   \n",
              "4   claim-126  El Niño drove record highs in global temperatu...   \n",
              "\n",
              "           evidence                                      evidence_text  \\\n",
              "0   evidence-442946  At very high concentrations (100 times atmosph...   \n",
              "1  evidence-1194317  Plants can grow as much as 50 percent faster i...   \n",
              "2    evidence-12171  Higher carbon dioxide concentrations will favo...   \n",
              "3   evidence-338219  While ‘climate change’ can be due to natural f...   \n",
              "4  evidence-1127398  This acceleration is due mostly to human-cause...   \n",
              "\n",
              "   related  \n",
              "0        1  \n",
              "1        1  \n",
              "2        1  \n",
              "3        1  \n",
              "4        1  "
            ]
          },
          "execution_count": 18,
          "metadata": {},
          "output_type": "execute_result"
        }
      ],
      "source": [
        "# Sampling\n",
        "import numpy as np\n",
        "np.random.seed(42)  # set random seed for reproducibility\n",
        "\n",
        "# Prepare lists to accumulate sample pairs\n",
        "positive_samples = []\n",
        "related_negative_samples = []\n",
        "distant_negative_samples = []\n",
        "\n",
        "# Pre-compute a list of all evidence IDs used in *any* training claim (for related negatives)\n",
        "all_train_evidence_ids = set()\n",
        "for cid, claim in train_claims.items():\n",
        "    for evid in claim[\"evidences\"]:\n",
        "        all_train_evidence_ids.add(str(evid))\n",
        "all_train_evidence_ids = list(all_train_evidence_ids)\n",
        "\n",
        "# Construct positive samples\n",
        "for claim_id, claim in train_claims.items():\n",
        "    claim_text = claim[\"claim_text\"]\n",
        "    for evid_id in claim[\"evidences\"]:\n",
        "        evid_id = str(evid_id)\n",
        "        # Only add if the evidence text exists in our evidences dictionary\n",
        "        if evid_id in evidences:\n",
        "            positive_samples.append({\n",
        "                \"claim\": claim_id,\n",
        "                \"claim_text\": claim_text,\n",
        "                \"evidence\": evid_id,\n",
        "                \"evidence_text\": evidences[evid_id],\n",
        "                \"related\": 1  # positive label\n",
        "            })\n",
        "\n",
        "# Construct related negative samples\n",
        "for claim_id, claim in train_claims.items():\n",
        "    claim_text = claim[\"claim_text\"]\n",
        "    claim_evids = {str(eid) for eid in claim[\"evidences\"]}\n",
        "    # Candidates are evidences used by other claims (all train evidence minus this claim's)\n",
        "    candidates = [e for e in all_train_evidence_ids if e not in claim_evids]\n",
        "    # Sample the same number of negatives as positive evidences for this claim\n",
        "    n_needed = len(claim_evids)\n",
        "    if n_needed > 0:\n",
        "        sampled = np.random.choice(candidates, size=n_needed, replace=False)\n",
        "        for evid_id in sampled:\n",
        "            if evid_id in evidences:\n",
        "                related_negative_samples.append({\n",
        "                    \"claim\": claim_id,\n",
        "                    \"claim_text\": claim_text,\n",
        "                    \"evidence\": evid_id,\n",
        "                    \"evidence_text\": evidences[evid_id],\n",
        "                    \"related\": 0  # negative label\n",
        "                })\n",
        "\n",
        "# Construct distant negative samples\n",
        "for claim_id, claim in train_claims.items():\n",
        "    claim_text = claim[\"claim_text\"]\n",
        "    claim_evids = {str(eid) for eid in claim[\"evidences\"]}\n",
        "    # Candidates are all evidences *except* those used by this claim\n",
        "    candidates = [e for e in evidences.keys() if e not in claim_evids]\n",
        "    n_needed = len(claim_evids)\n",
        "    if n_needed > 0:\n",
        "        sampled = np.random.choice(candidates, size=n_needed, replace=False)\n",
        "        for evid_id in sampled:\n",
        "            distant_negative_samples.append({\n",
        "                \"claim\": claim_id,\n",
        "                \"claim_text\": claim_text,\n",
        "                \"evidence\": evid_id,\n",
        "                \"evidence_text\": evidences[evid_id],\n",
        "                \"related\": 0  # negative label\n",
        "                })\n",
        "\n",
        "# Create DataFrames for each set of samples\n",
        "pos_df = pd.DataFrame(positive_samples)\n",
        "rel_neg_df = pd.DataFrame(related_negative_samples)\n",
        "dist_neg_df = pd.DataFrame(distant_negative_samples)\n",
        "\n",
        "# Concatenate all samples into one DataFrame\n",
        "combined_samples = pd.concat([pos_df, rel_neg_df, dist_neg_df], ignore_index=True)\n",
        "print(\"Positive samples:\", pos_df.shape)\n",
        "print(\"Related negative samples:\", rel_neg_df.shape)\n",
        "print(\"Distant negative samples:\", dist_neg_df.shape)\n",
        "print(\"Total combined samples:\", combined_samples.shape)\n",
        "\n",
        "# Show a few examples of the combined training pairs\n",
        "combined_samples.head(5)"
      ]
    },
    {
      "cell_type": "code",
      "execution_count": 21,
      "id": "fad0b343",
      "metadata": {
        "colab": {
          "base_uri": "https://localhost:8080/"
        },
        "id": "fad0b343",
        "outputId": "88869816-83b8-4e94-9a6b-2bc26b240d44"
      },
      "outputs": [
        {
          "name": "stdout",
          "output_type": "stream",
          "text": [
            "Combined training pairs saved to /content/drive/MyDrive/COMP90042/data/train_claim_evidence_pair_rns.json\n"
          ]
        }
      ],
      "source": [
        "# Save the combined claim-evidence training pairs to a JSON file\n",
        "output_path = DATA_DIR / \"train_claim_evidence_pair_rns.json\"\n",
        "combined_samples.to_json(output_path, orient=\"records\", force_ascii=False)\n",
        "print(f\"Combined training pairs saved to {output_path}\")"
      ]
    },
    {
      "cell_type": "markdown",
      "id": "a7a8f258",
      "metadata": {
        "id": "a7a8f258"
      },
      "source": [
        "\n",
        "## Evidence Indexing for Candidate Retrieval\n",
        "\n",
        "Given the extremely large evidence corpus, directly searching through all evidence passages for each claim would be inefficient. Instead, we build an index of the evidence texts to quickly retrieve a manageable number of candidate evidences for each claim. We will use two indexing strategies:\n",
        "\n",
        "* **Keyword Index**: Extract important keywords (e.g. nouns, proper nouns) from each evidence text using spaCy, and index evidence by these keywords. This allows us to find evidences containing the same key terms as the claim.\n",
        "* **Character n-gram Index**: Additionally, index each evidence text by character prefixes and suffixes (4-8 characters long) of words. This helps capture partial matches or morphological variations of terms.\n",
        "\n",
        "Using these indices, for each claim we can retrieve a shortlist of evidence IDs that are likely relevant (share keywords or similar terms), instead of scanning the entire corpus."
      ]
    },
    {
      "cell_type": "code",
      "execution_count": 19,
      "id": "e8fc604a",
      "metadata": {
        "colab": {
          "base_uri": "https://localhost:8080/"
        },
        "id": "e8fc604a",
        "outputId": "53fbd8d1-2ddf-4c1b-ba7a-84c8f2507b48"
      },
      "outputs": [
        {
          "name": "stdout",
          "output_type": "stream",
          "text": [
            "\r⠙ Loading compatibility table...\r\u001b[2K\u001b[38;5;2m✔ Loaded compatibility table\u001b[0m\n",
            "\u001b[1m\n",
            "================= Installed pipeline packages (spaCy v3.8.5) =================\u001b[0m\n",
            "\u001b[38;5;4mℹ spaCy installation: /usr/local/lib/python3.11/dist-packages/spacy\u001b[0m\n",
            "\n",
            "NAME             SPACY            VERSION                            \n",
            "en_core_web_sm   >=3.8.0,<3.9.0   \u001b[38;5;2m3.8.0\u001b[0m   \u001b[38;5;2m✔\u001b[0m\n",
            "\n",
            "Collecting en-core-web-sm==3.8.0\n",
            "  Downloading https://github.com/explosion/spacy-models/releases/download/en_core_web_sm-3.8.0/en_core_web_sm-3.8.0-py3-none-any.whl (12.8 MB)\n",
            "\u001b[2K     \u001b[90m━━━━━━━━━━━━━━━━━━━━━━━━━━━━━━━━━━━━━━━━\u001b[0m \u001b[32m12.8/12.8 MB\u001b[0m \u001b[31m70.0 MB/s\u001b[0m eta \u001b[36m0:00:00\u001b[0m\n",
            "\u001b[?25h\u001b[38;5;2m✔ Download and installation successful\u001b[0m\n",
            "You can now load the package via spacy.load('en_core_web_sm')\n",
            "\u001b[38;5;3m⚠ Restart to reload dependencies\u001b[0m\n",
            "If you are in a Jupyter or Colab notebook, you may need to restart Python in\n",
            "order to load all the package's dependencies. You can do this by selecting the\n",
            "'Restart kernel' or 'Restart runtime' option.\n"
          ]
        }
      ],
      "source": [
        "# Install spaCy model and other requirements if not already installed (for safety)\n",
        "!python -m spacy validate\n",
        "!python -m spacy download en_core_web_sm"
      ]
    },
    {
      "cell_type": "markdown",
      "id": "5eda18eb",
      "metadata": {
        "id": "5eda18eb"
      },
      "source": [
        "### Text Normalization\n",
        "\n",
        "Before indexing, we perform some text normalization to standardize terminology (especially for climate-related terms and abbreviations). We define a TextNormalizer that replaces various common terms and symbols with normalized forms (e.g., \"CO2\" → \"carbon dioxide\", \"°C\" → \"degree celsius temperature\", etc.), removes punctuation, accents, and excess whitespace, and converts text to lowercase. This normalization will be applied to evidence texts when building the index to improve matching."
      ]
    },
    {
      "cell_type": "code",
      "execution_count": 22,
      "id": "6eb27e41",
      "metadata": {
        "colab": {
          "base_uri": "https://localhost:8080/"
        },
        "id": "6eb27e41",
        "outputId": "d9aae67c-e77c-485e-ab48-74718c35d7f6"
      },
      "outputs": [
        {
          "name": "stdout",
          "output_type": "stream",
          "text": [
            "Normalized: the chlorofluorocarbons and methane levels near 45degree north latitude are increasing by 2percent annually according to the intergovernmental panel on climate change\n"
          ]
        }
      ],
      "source": [
        "import re\n",
        "import spacy\n",
        "import unicodedata\n",
        "\n",
        "# Load spaCy model\n",
        "spacy_model = spacy.load(\"en_core_web_sm\")\n",
        "\n",
        "# reference:\n",
        "# https://apps.ipcc.ch/glossary/search.php\n",
        "# https://blog.energyelephant.com/100-top-carbon-and-climate-acronyms/\n",
        "# Define a text normalization utility class for standardizing text\n",
        "class TextNormalizer:\n",
        "    \"\"\"A utility class for text normalization and term replacement in climate-related text.\"\"\"\n",
        "    def __init__(self):\n",
        "        self.patterns = [\n",
        "            # Greenhouse gases and their abbreviations\n",
        "            (r\"\\bCO\\s*2\\b\", \"carbon dioxide\"),\n",
        "            (r\"\\bCH\\s*4\\b\", \"methane\"),\n",
        "            (r\"\\bN\\s*2\\s*O\\b\", \"nitrous oxide\"),\n",
        "            (r\"\\bNO\\b\", \"nitric oxide\"),\n",
        "            (r\"\\bNO\\s*2\\b\", \"nitrogen dioxide\"),\n",
        "            (r\"\\bCFCs?\\b\", \"chlorofluorocarbons\"),\n",
        "            (r\"\\bHFCs?\\b\", \"hydrofluorocarbons\"),\n",
        "            (r\"\\bGHGs?\\b\", \"greenhouse gases\"),\n",
        "            (r\"\\bSF\\s*6\\b\", \"sulfur hexafluoride\"),\n",
        "            (r\"\\bPFCs?\\b\", \"perfluorocarbons\"),\n",
        "\n",
        "            # Climate change related terms\n",
        "            (r\"\\bRCP\\s*([0-9.]+)\\b\", r\"representative concentration pathway \\1\"),\n",
        "            (r\"\\bSSP\\s*([0-9.]+)\\b\", r\"shared socioeconomic pathway \\1\"),\n",
        "            (r\"\\bGCMs?\\b\", \"general circulation models\"),\n",
        "            (r\"\\bGWP\\b\", \"global warming potential\"),\n",
        "            (r\"\\bERF\\b\", \"effective radiative forcing\"),\n",
        "            (r\"\\bAR6\\b\", \"sixth assessment report\"),\n",
        "            (r\"\\bAR5\\b\", \"fifth assessment report\"),\n",
        "            (r\"\\bAR4\\b\", \"fourth assessment report\"),\n",
        "            (r\"\\bAR3\\b\", \"third assessment report\"),\n",
        "\n",
        "            # Climate system related terms\n",
        "            (r\"\\bENSO\\b\", \"el nino southern oscillation\"),\n",
        "            (r\"\\bAMOC\\b\", \"atlantic meridional overturning circulation\"),\n",
        "            (r\"\\bAO\\b\", \"arctic oscillation\"),\n",
        "            (r\"\\bNAO\\b\", \"north atlantic oscillation\"),\n",
        "            (r\"\\bPDO\\b\", \"pacific decadal oscillation\"),\n",
        "            (r\"\\bAMO\\b\", \"atlantic multidecadal oscillation\"),\n",
        "            (r\"\\bITCZ\\b\", \"intertropical convergence zone\"),\n",
        "            (r\"\\bMJO\\b\", \"madden julian oscillation\"),\n",
        "\n",
        "            # Organizations and agreements\n",
        "            (r\"\\bIPCC\\b\", \"intergovernmental panel on climate change\"),\n",
        "            (r\"\\bUNFCCC\\b\", \"united nations framework convention on climate change\"),\n",
        "            (r\"\\bCOP\\s*(\\d+)\\b\", r\"conference of the parties \\1\"),\n",
        "            (r\"\\bNDCs?\\b\", \"nationally determined contributions\"),\n",
        "            (r\"\\bREDD\\+?\\b\", \"reducing emissions from deforestation and forest degradation\"),\n",
        "            (r\"\\bLULUCF\\b\", \"land use land use change and forestry\"),\n",
        "            (r\"\\bAFOLU\\b\", \"agriculture forestry and other land use\"),\n",
        "            (r\"\\bSDGs?\\b\", \"sustainable development goals\"),\n",
        "            (r\"\\bMAPA\\b\", \"most affected people and areas\"),\n",
        "\n",
        "            # Units and symbols\n",
        "            (r\"\\bppm\\b\", \"parts per million\"),\n",
        "            (r\"\\bppb\\b\", \"parts per billion\"),\n",
        "            (r\"°\\s*N\", \"degree north latitude\"),\n",
        "            (r\"°\\s*S\", \"degree south latitude\"),\n",
        "            (r\"°\\s*E\", \"degree east longitude\"),\n",
        "            (r\"°\\s*W\", \"degree west longitude\"),\n",
        "            (r\"°\\s*C\", \"degree celsius temperature\"),\n",
        "            (r\"°\\s*F\", \"degree fahrenheit temperature\"),\n",
        "            (r\"%\", \"percent\"),\n",
        "\n",
        "            # Other processing\n",
        "            (r\"-\\B\", \"\"),        # remove hyphen when not at a word boundary (internal hyphens in words)\n",
        "            (r\"[(){}\\[\\]]+\", \"\") # remove brackets and braces\n",
        "        ]\n",
        "\n",
        "    def normalize(self, text: str) -> str:\n",
        "        \"\"\"Perform full text normalization:\n",
        "        - Replace special terms and abbreviations\n",
        "        - Remove punctuation and diacritical marks\n",
        "        - Normalize whitespace\n",
        "        - Convert to lowercase\n",
        "        - Compress repeated punctuation (e.g. \"!!\" -> \"!\")\"\"\"\n",
        "        # Apply term replacements (case-insensitive)\n",
        "        for pattern, repl in self.patterns:\n",
        "            text = re.sub(pattern, repl, text, flags=re.IGNORECASE)\n",
        "        # Remove diacritical marks (accents)\n",
        "        text = ''.join(c for c in unicodedata.normalize('NFD', text) if unicodedata.category(c) != 'Mn')\n",
        "        # Remove remaining non-alphanumeric characters (after replacements)\n",
        "        text = re.sub(r\"[^\\w\\s]\", \"\", text)\n",
        "        # Normalize spaces and lowercase\n",
        "        text = ' '.join(text.split())\n",
        "        text = text.lower()\n",
        "        return text\n",
        "\n",
        "# Create a TextNormalizer instance for use in evidence processing\n",
        "norm = TextNormalizer()\n",
        "\n",
        "# Example\n",
        "sample = \"The CFC and CH4 levels near 45°N are increasing by 2% annually according to the IPCC.\"\n",
        "print(\"Normalized:\", norm.normalize(sample))"
      ]
    },
    {
      "cell_type": "markdown",
      "id": "1a99b31a",
      "metadata": {
        "id": "1a99b31a"
      },
      "source": [
        "## Noun-Based Indexing and Co-occurrence Graph Construction\n",
        "\n",
        "This section defines tools for extracting **meaningful nouns** from evidence and claim texts, and for building two structures:\n",
        "\n",
        "1. **Reverse Index (noun → evidence IDs):**\n",
        "   For each noun, store a set of evidence passages that contain it. This helps quickly retrieve candidate evidence by noun matching.\n",
        "\n",
        "2. **Noun Co-occurrence Graph (noun ↔ noun):**\n",
        "   Build a graph showing how often nouns in claims co-occur with nouns in evidences. This is useful for modeling relationships between concepts mentioned in claim-evidence pairs.\n",
        "\n",
        "We also define a configuration class IndexPaths to manage the paths of all saved index files."
      ]
    },
    {
      "cell_type": "code",
      "execution_count": 23,
      "id": "51392612-3e4f-4d3e-9e4d-3963a0049bb0",
      "metadata": {
        "id": "51392612-3e4f-4d3e-9e4d-3963a0049bb0"
      },
      "outputs": [],
      "source": [
        "import json\n",
        "from pathlib import Path\n",
        "from collections import defaultdict, Counter\n",
        "from tqdm.auto import tqdm\n",
        "from dataclasses import dataclass, field\n",
        "from typing import Dict, Set\n",
        "\n",
        "# Assuming `spacy_model` and `norm` exist\n",
        "# spacy_model = spacy.load(\"en_core_web_sm\")\n",
        "# norm = TextNormalizer()\n",
        "\n",
        "# Configuration class to manage all related output file paths\n",
        "@dataclass\n",
        "class IndexPaths:\n",
        "    root: Path\n",
        "    noun_index: Path = field(init=False)\n",
        "    relation_index: Path = field(init=False)\n",
        "\n",
        "    def __post_init__(self):\n",
        "        self.root.mkdir(parents=True, exist_ok=True)\n",
        "        self.noun_index = self.root / \"noun-to-evidence.json\"\n",
        "        self.relation_index = self.root / \"train-noun-graph.json\"\n",
        "        self.tagged_evidences = self.root / \"noun-compound-noun-evidence.json\"\n",
        "        self.train_fwd_ngram_evidences = self.root / \"forward_ngram_evidences.json\"\n",
        "        self.train_rev_ngram_evidences = self.root / \"reversed_ngram_evidences.json\"\n",
        "        self.train_shortlist_evidences = self.root / \"train_shortlisting_500.json\"\n",
        "        self.dev_shortlist_evidences = self.root / \"dev_shortlisting_500.json\"\n",
        "\n",
        "# NounIndexer is the main indexing tool:\n",
        "# It handles noun extraction, reverse indexing, and co-occurrence graph building\n",
        "class NounIndexer:\n",
        "    def __init__(self, model, normalizer: \"TextNormalizer\", paths: IndexPaths):\n",
        "        self.model = model          # spaCy model\n",
        "        self.norm = normalizer      # text normalizer\n",
        "        self.paths = paths          # output path configuration\n",
        "\n",
        "    def _is_content_noun(self, tok) -> bool:\n",
        "        \"\"\"\n",
        "        Check if token is a meaningful noun:\n",
        "        - not a stopword or space\n",
        "        - POS must be NOUN or PROPN\n",
        "        - lemma length > 2\n",
        "        - does not contain digits\n",
        "        \"\"\"\n",
        "        if tok.is_stop or tok.is_space:\n",
        "            return False\n",
        "        if tok.pos_ not in {\"NOUN\", \"PROPN\"}:\n",
        "            return False\n",
        "        if len(tok.lemma_) <= 2:\n",
        "            return False\n",
        "        if any(c.isdigit() for c in tok.lemma_):\n",
        "            return False\n",
        "        return True\n",
        "\n",
        "    def _noun_set(self, raw_text: str) -> set[str]:\n",
        "        \"\"\"Normalize and tokenize text, then return a set of valid noun lemmas.\"\"\"\n",
        "        doc = self.model(self.norm.normalize(raw_text))\n",
        "        return {tok.lemma_ for tok in doc if self._is_content_noun(tok)}\n",
        "\n",
        "    def build_reverse_map(self, evid_dict: Dict[str, str]) -> Dict[str, Set[str]]:\n",
        "        \"\"\"\n",
        "        Build a noun-to-evidence index.\n",
        "        Each noun points to a set of evidence IDs that contain it.\n",
        "        Returns a dictionary: {noun: set of evidence IDs}\n",
        "        \"\"\"\n",
        "        if self.paths.noun_index.exists():\n",
        "            with open(self.paths.noun_index) as fh:\n",
        "                cache = json.load(fh)\n",
        "            print(f\"[INFO] Loaded cached noun→evidence index ({len(cache)} nouns)\")\n",
        "            return {n: set(lst) for n, lst in cache.items()}\n",
        "\n",
        "        print(\"[INFO] Creating noun→evidence index from scratch …\")\n",
        "        noun2evid: dict[str, set[str]] = defaultdict(set)\n",
        "\n",
        "        for evid_id, text in tqdm(evid_dict.items(), desc=\"Scanning evidences\"):\n",
        "            for noun in self._noun_set(text):\n",
        "                noun2evid[noun].add(evid_id)\n",
        "\n",
        "        # Save index to disk\n",
        "        with open(self.paths.noun_index, \"w\") as fh:\n",
        "            json.dump({n: list(s) for n, s in noun2evid.items()}, fh)\n",
        "        print(f\"[INFO] Index saved → {self.paths.noun_index}\")\n",
        "        return noun2evid\n",
        "\n",
        "    def build_relation_graph(self, pair_df) -> dict[str, Counter]:\n",
        "        \"\"\"\n",
        "        Build a noun co-occurrence graph.\n",
        "        For each claim-evidence pair, connect each claim noun to each evidence noun.\n",
        "        Returns a dictionary: {noun: Counter of related nouns}\n",
        "        \"\"\"\n",
        "        if self.paths.relation_index.exists():\n",
        "            with open(self.paths.relation_index) as fh:\n",
        "                cache = json.load(fh)\n",
        "            print(f\"[INFO] Loaded cached noun↔noun graph ({len(cache)} nouns)\")\n",
        "            return {n: Counter(c) for n, c in cache.items()}\n",
        "\n",
        "        print(\"[INFO] Constructing noun↔noun co-occurrence graph …\")\n",
        "        relations: dict[str, Counter] = defaultdict(Counter)\n",
        "\n",
        "        for _, row in tqdm(pair_df.iterrows(), total=len(pair_df), desc=\"Processing pairs\"):\n",
        "            claim_nouns = self._noun_set(row[\"claim_text\"])\n",
        "            evid_nouns  = self._noun_set(row[\"evidence_text\"])\n",
        "\n",
        "            # Count co-occurrence between claim and evidence nouns (bidirectional)\n",
        "            for c in claim_nouns:\n",
        "                for e in evid_nouns:\n",
        "                    if c != e:\n",
        "                        relations[c][e] += 1\n",
        "                        relations[e][c] += 1\n",
        "\n",
        "        # Save graph to disk\n",
        "        with open(self.paths.relation_index, \"w\") as fh:\n",
        "            json.dump({n: dict(cnt) for n, cnt in relations.items()}, fh)\n",
        "        print(f\"[INFO] Graph saved → {self.paths.relation_index}\")\n",
        "        return relations\n"
      ]
    },
    {
      "cell_type": "markdown",
      "id": "179cc21c",
      "metadata": {
        "id": "179cc21c"
      },
      "source": [
        "### Building the Evidence Index\n",
        "\n",
        "We use the `EvidenceProcessor` class to index the evidence corpus. This class performs the following tasks:\n",
        "\n",
        "- **Extract keyword tags**:  \n",
        "  It uses spaCy to identify nouns and proper nouns in each normalized evidence passage.  \n",
        "  These keywords are mapped to a list of evidence IDs that contain them.\n",
        "\n",
        "- **Build n-gram indices**:  \n",
        "  It creates two indices that map character prefixes and suffixes (4–8 characters long) of words to evidence IDs that contain those fragments.\n",
        "\n",
        "The generated indices are saved to disk to avoid repeated computation.  \n",
        "If index files already exist, the processor will load them instead of rebuilding."
      ]
    },
    {
      "cell_type": "code",
      "execution_count": 4,
      "id": "e61365f4-1f43-4b42-bbdd-9184493ac8fb",
      "metadata": {
        "id": "e61365f4-1f43-4b42-bbdd-9184493ac8fb"
      },
      "outputs": [],
      "source": [
        "# Define the evidence processor with normalization pipeline\n",
        "class EvidenceProcessor:\n",
        "    \"\"\"\n",
        "    Processes evidence texts to extract keyword tags and build n-gram indices for retrieval.\n",
        "    \"\"\"\n",
        "    def __init__(self, evidences: dict, normalize_pipeline, result_dir: Path):\n",
        "        self.evidences = evidences\n",
        "        self.normalize_pipeline = normalize_pipeline\n",
        "        self.result_dir = Path(result_dir)\n",
        "        self.result_dir.mkdir(parents=True, exist_ok=True)\n",
        "        # Define file paths for cached indices\n",
        "        self.tagged_path = self.result_dir / \"noun-compound-noun-evidence.json\"\n",
        "        self.fwd_path   = self.result_dir / \"forward_ngram_evidences.json\"\n",
        "        self.rev_path   = self.result_dir / \"reversed_ngram_evidences.json\"\n",
        "        # Initialize internal storage\n",
        "        self.tagged_evidences = {}  # keyword -> [evidence_ids]\n",
        "        self.fwd_index = {}        # prefix -> [evidence_ids]\n",
        "        self.rev_index = {}        # suffix -> [evidence_ids]\n",
        "        # Load spaCy English model for tokenization and POS tagging\n",
        "        self.nlp = spacy.load(\"en_core_web_sm\")\n",
        "\n",
        "    def extract_info_tags(self):\n",
        "        \"\"\"Extract noun/proper noun keywords from each evidence text and build the keyword->evidence index (tagged_evidences).\"\"\"\n",
        "        # If cached file exists, load it\n",
        "        if self.tagged_path.exists():\n",
        "            with open(self.tagged_path, 'r') as fh:\n",
        "                self.tagged_evidences = json.load(fh)\n",
        "            print(f\"[INFO] Loaded existing keyword index from {self.tagged_path}\")\n",
        "            return\n",
        "        # Otherwise, build the index\n",
        "        tagged_map = {}\n",
        "        for evid_id, text in self.evidences.items():\n",
        "            # Normalize text and tokenize with spaCy\n",
        "            doc = self.nlp(self.normalize_pipeline(text))\n",
        "            for token in doc:\n",
        "                if token.pos_ in (\"NOUN\", \"PROPN\"):\n",
        "                    keyword = token.lemma_.lower()\n",
        "                    tagged_map.setdefault(keyword, set()).add(evid_id)\n",
        "        # Convert sets to lists for JSON serialization\n",
        "        tagged_map = {key: list(ids) for key, ids in tagged_map.items()}\n",
        "        # Save to file\n",
        "        with open(self.tagged_path, 'w') as f:\n",
        "            json.dump(tagged_map, f, ensure_ascii=False, indent=2)\n",
        "        self.tagged_evidences = tagged_map\n",
        "        print(f\"[INFO] Keyword index built and saved to {self.tagged_path}\")\n",
        "\n",
        "    def build_ngram_index(self):\n",
        "        \"\"\"Build character n-gram (prefix and suffix) indices from evidence texts.\"\"\"\n",
        "        # If indices already exist, load them\n",
        "        if self.fwd_path.exists() and self.rev_path.exists():\n",
        "            print(f\"[INFO] Loaded existing n-gram index files: {self.fwd_path}, {self.rev_path}\")\n",
        "            return\n",
        "        fwd_index = {}\n",
        "        rev_index = {}\n",
        "        for evid_id, text in self.evidences.items():\n",
        "            text_norm = self.normalize_pipeline(text)\n",
        "            for word in text_norm.split():\n",
        "                if len(word) < 4:\n",
        "                    continue\n",
        "                # Generate prefixes and suffixes of length 4 to 8\n",
        "                for n in range(4, min(9, len(word) + 1)):\n",
        "                    prefix = word[:n]\n",
        "                    suffix = word[-n:]\n",
        "                    fwd_index.setdefault(prefix, set()).add(evid_id)\n",
        "                    rev_index.setdefault(suffix, set()).add(evid_id)\n",
        "        # Convert sets to lists and save to files\n",
        "        fwd_index = {gram: list(ids) for gram, ids in fwd_index.items()}\n",
        "        rev_index = {gram: list(ids) for gram, ids in rev_index.items()}\n",
        "        with open(self.fwd_path, 'w') as f:\n",
        "            json.dump(fwd_index, f)\n",
        "        with open(self.rev_path, 'w') as f:\n",
        "            json.dump(rev_index, f)\n",
        "        print(f\"[INFO] N-gram indices built and saved to disk\")\n",
        "\n",
        "        self.fwd_index = fwd_index\n",
        "        self.rev_index = rev_index\n",
        "\n",
        "    def retrieve_candidate_evidences_for_claims(self, claims: dict, train_or_dev: str, max_retrieved: int = 500):\n",
        "        \"\"\"\n",
        "        Retrieve up to max_retrieved candidate evidence IDs for each claim based on keyword and n-gram overlap.\n",
        "        Saves results as {claim_id: [evidence_id, ...]} in a JSON file.\n",
        "        \"\"\"\n",
        "        retrieved = {}\n",
        "        # Iterate through each claim\n",
        "        for claim_id, claim_data in claims.items():\n",
        "            claim_text = claim_data[\"claim_text\"]\n",
        "            doc = self.nlp(claim_text)\n",
        "            # Extract content words (nouns and proper nouns) from the claim\n",
        "            keywords = [token.lemma_.lower() for token in doc if token.pos_ in (\"NOUN\", \"PROPN\")]\n",
        "            # Construct prefixes and suffixes from claim keywords for matching\n",
        "            ngrams = []\n",
        "            for word in keywords:\n",
        "                if len(word) < 4:\n",
        "                    continue\n",
        "                for n in range(4, 9):\n",
        "                    if len(word) >= n:\n",
        "                        ngrams.append(word[:n])\n",
        "                        ngrams.append(word[-n:])\n",
        "            # Score evidences by keyword and n-gram matches (IDF weighted)\n",
        "            score_dict = {}\n",
        "            total_evidence_count = len(self.evidences)\n",
        "            # Score by keyword matches\n",
        "            for tag in keywords:\n",
        "                if tag in self.tagged_evidences:\n",
        "                    evidence_list = self.tagged_evidences[tag]\n",
        "                    # Compute IDF score for this keyword\n",
        "                    df = max(len(evidence_list), 1)\n",
        "                    idf_score = 1.0 if df == 0 else (10 ** 6 / df)  # (Using a large constant instead of log for simplicity)\n",
        "                    for eid in evidence_list:\n",
        "                        score_dict[eid] = score_dict.get(eid, 0.0) + idf_score\n",
        "            # Score by n-gram matches\n",
        "            for gram in ngrams:\n",
        "                if gram in self.fwd_index:\n",
        "                    evidence_list = self.fwd_index[gram]\n",
        "                    df = max(len(evidence_list), 1)\n",
        "                    idf_score = 1.0 if df == 0 else (10 ** 6 / df)\n",
        "                    for eid in evidence_list:\n",
        "                        score_dict[eid] = score_dict.get(eid, 0.0) + idf_score\n",
        "                if gram in self.rev_index:\n",
        "                    evidence_list = self.rev_index[gram]\n",
        "                    df = max(len(evidence_list), 1)\n",
        "                    idf_score = 1.0 if df == 0 else (10 ** 6 / df)\n",
        "                    for eid in evidence_list:\n",
        "                        score_dict[eid] = score_dict.get(eid, 0.0) + idf_score\n",
        "            # Take the top-N evidence IDs by score\n",
        "            top_eids = sorted(score_dict.keys(), key=lambda x: score_dict[x], reverse=True)[:max_retrieved]\n",
        "            retrieved[claim_id] = top_eids\n",
        "        # Save the shortlist for this set (train or dev) to a JSON file\n",
        "        filename = f\"{train_or_dev}_shortlisting_{max_retrieved}.json\"\n",
        "        output_path = self.result_dir / filename\n",
        "        with open(output_path, 'w') as f:\n",
        "            json.dump(retrieved, f, ensure_ascii=False, indent=2)\n",
        "        print(f\"[INFO] Saved {train_or_dev} candidate evidences to {output_path}\")\n",
        "        return retrieved\n"
      ]
    },
    {
      "cell_type": "markdown",
      "id": "MnCt3EUftdB5",
      "metadata": {
        "id": "MnCt3EUftdB5"
      },
      "source": [
        "### Displaying Noun-to-Evidence Index\n",
        "In this section, we load or build the noun-to-evidence mapping using the EvidenceProcessor. This mapping connects each extracted noun to the set of evidence IDs that contain it.\n"
      ]
    },
    {
      "cell_type": "code",
      "execution_count": 13,
      "id": "WRetc7vekFaa",
      "metadata": {
        "colab": {
          "base_uri": "https://localhost:8080/"
        },
        "id": "WRetc7vekFaa",
        "outputId": "4e17b64d-3699-46eb-f1a4-51464ddd35ce"
      },
      "outputs": [
        {
          "name": "stdout",
          "output_type": "stream",
          "text": [
            "[SKIP] Cached file already exists: noun-compound-noun-evidence.json\n",
            "[STAT] Indexed a total of 2071627 nouns\n",
            "\n",
            "Sample noun \"john\" corresponds to 11667 evidences\n",
            "Displaying the first 6 nouns and their candidate evidences:\n",
            "\n",
            "Noun: john\n",
            "  Corresponding evidences (total 11667):\n",
            "    evidence-0\n",
            "    evidence-1000054\n",
            "    evidence-1000120\n",
            "    evidence-1000122\n",
            "    evidence-1000184\n",
            "    evidence-1000202\n",
            "    evidence-1000267\n",
            "    evidence-1000289\n",
            "    evidence-1000382\n",
            "    evidence-1000460\n",
            "    ... (total 11667 evidences, truncated display)\n",
            "\n",
            "Noun: john lawes\n",
            "  Corresponding evidences (total 1):\n",
            "    evidence-0\n",
            "\n",
            "Noun: bennet\n",
            "  Corresponding evidences (total 20):\n",
            "    evidence-0\n",
            "    evidence-1015579\n",
            "    evidence-1025313\n",
            "    evidence-1064786\n",
            "    evidence-1086936\n",
            "    evidence-178499\n",
            "    evidence-339484\n",
            "    evidence-462809\n",
            "    evidence-584985\n",
            "    evidence-661380\n",
            "    ... (total 20 evidences, truncated display)\n",
            "\n",
            "Noun: bennet lawes\n",
            "  Corresponding evidences (total 1):\n",
            "    evidence-0\n",
            "\n",
            "Noun: english\n",
            "  Corresponding evidences (total 11930):\n",
            "    evidence-0\n",
            "    evidence-1000184\n",
            "    evidence-1000191\n",
            "    evidence-1000608\n",
            "    evidence-1000770\n",
            "    evidence-1000791\n",
            "    evidence-1000878\n",
            "    evidence-100097\n",
            "    evidence-1001026\n",
            "    evidence-1001132\n",
            "    ... (total 11930 evidences, truncated display)\n",
            "\n",
            "Noun: english entrepreneur\n",
            "  Corresponding evidences (total 5):\n",
            "    evidence-0\n",
            "    evidence-269299\n",
            "    evidence-360371\n",
            "    evidence-452844\n",
            "    evidence-508197\n",
            "\n"
          ]
        }
      ],
      "source": [
        "from itertools import islice\n",
        "from pathlib import Path\n",
        "output_home = Path(\"/content/drive/MyDrive/COMP90042/result/ner\")\n",
        "paths = IndexPaths(root=output_home)\n",
        "indexer = NounIndexer(\n",
        "    model=spacy_model,\n",
        "    normalizer=norm,\n",
        "    paths=paths\n",
        ")\n",
        "EP = EvidenceProcessor(evidences, norm.normalize, output_home)\n",
        "\n",
        "# Build / Load tagged_evidences\n",
        "# Display NOUN -> evidence mapping: noun and the evidence IDs it is associated with (tagged_evidences.json)\n",
        "if paths.tagged_evidences.exists():\n",
        "    print(f\"[SKIP] Cached file already exists: {paths.tagged_evidences.name}\")\n",
        "    with open(paths.tagged_evidences) as fh:\n",
        "        tagged_evidences_map = {n: set(lst) for n, lst in json.load(fh).items()}\n",
        "else:\n",
        "    print(\"[NOTICE] Building noun-compound-noun-evidence.json\")\n",
        "    # Build or load the keyword index (noun -> evidence IDs)\n",
        "    EP.extract_info_tags()\n",
        "\n",
        "print(f\"[STAT] Indexed a total of {len(tagged_evidences_map)} nouns\")\n",
        "\n",
        "sample_noun = next(iter(tagged_evidences_map))\n",
        "print(f\"\\nSample noun \\\"{sample_noun}\\\" corresponds to {len(tagged_evidences_map[sample_noun])} evidences\")\n",
        "\n",
        "print(\"Displaying the first 6 nouns and their candidate evidences:\\n\")\n",
        "for noun, evid_set in islice(tagged_evidences_map.items(), 6):\n",
        "    evid_list = sorted(evid_set)\n",
        "    print(f\"Noun: {noun}\")\n",
        "    print(f\"  Corresponding evidences (total {len(evid_list)}):\")\n",
        "    for eid in evid_list[:10]:  # Show only the first 10\n",
        "        print(f\"    {eid}\")\n",
        "    if len(evid_list) > 10:\n",
        "        print(f\"    ... (total {len(evid_list)} evidences, truncated display)\")\n",
        "    print()\n"
      ]
    },
    {
      "cell_type": "code",
      "execution_count": 14,
      "id": "lOC0I1FKoeli",
      "metadata": {
        "colab": {
          "base_uri": "https://localhost:8080/"
        },
        "id": "lOC0I1FKoeli",
        "outputId": "d9c8b24e-1dc1-4e01-bcb8-40ac485f05cc"
      },
      "outputs": [
        {
          "name": "stdout",
          "output_type": "stream",
          "text": [
            "[SKIP] Cached file already exists: forward_ngram_evidences.json\n",
            "[STAT] Total of 1287932 forward n-gram entries\n",
            "[SKIP] Cached file already exists: reversed_ngram_evidences.json\n",
            "[STAT] Total of 1293164 reverse n-gram entries\n"
          ]
        }
      ],
      "source": [
        "\n",
        "import re\n",
        "\n",
        "path = paths.train_fwd_ngram_evidences\n",
        "pattern = re.compile(r'\"[^\"]+\"\\s*:\\s*\\[')\n",
        "\n",
        "count = 0\n",
        "carry = \"\"  # Used to preserve the trailing characters from the previous chunk\n",
        "chunk_size = 64 * 1024  # Read 64KB per chunk for file processing\n",
        "\n",
        "# Count the number of forward n-gram entries in the evidence\n",
        "if paths.train_fwd_ngram_evidences.exists():\n",
        "    print(f\"[SKIP] Cached file already exists: {paths.train_fwd_ngram_evidences.name}\")\n",
        "    with open(path, 'r') as f:\n",
        "        while True:\n",
        "            chunk = f.read(chunk_size)\n",
        "            if not chunk:\n",
        "                break\n",
        "            data = carry + chunk\n",
        "            # Match the current concatenated chunk\n",
        "            matches = pattern.findall(data)\n",
        "            count += len(matches)\n",
        "            # Preserve the last 100 characters to avoid splitting keys\n",
        "            carry = data[-100:]\n",
        "else:\n",
        "    print(\"[NOTICE] Building forward/reversed_ngram_evidences.json\")\n",
        "    EP.build_ngram_index()\n",
        "\n",
        "print(f\"[STAT] Total of {count} forward n-gram entries\")\n",
        "\n",
        "# Build / Load train_rev_ngram_evidences\n",
        "path = paths.train_rev_ngram_evidences\n",
        "pattern = re.compile(r'\"[^\"]+\"\\s*:\\s*\\[')\n",
        "\n",
        "count = 0\n",
        "carry = \"\"\n",
        "chunk_size = 64 * 1024\n",
        "\n",
        "# Count the number of reverse n-gram entries in the evidence\n",
        "if paths.train_rev_ngram_evidences.exists():\n",
        "    print(f\"[SKIP] Cached file already exists: {paths.train_rev_ngram_evidences.name}\")\n",
        "    with open(path, 'r') as f:\n",
        "        while True:\n",
        "            chunk = f.read(chunk_size)\n",
        "            if not chunk:\n",
        "                break\n",
        "            data = carry + chunk\n",
        "            matches = pattern.findall(data)\n",
        "            count += len(matches)\n",
        "            carry = data[-100:]\n",
        "else:\n",
        "    print(\"[NOTICE] Building forward/reversed_ngram_evidences.json\")\n",
        "    EP.build_ngram_index()\n",
        "\n",
        "print(f\"[STAT] Total of {count} reverse n-gram entries\")"
      ]
    },
    {
      "cell_type": "markdown",
      "id": "5abf9f03",
      "metadata": {
        "id": "5abf9f03"
      },
      "source": [
        "### Evidence Shortlisting Output\n",
        "After this step (shortlisting), we have two files:\n",
        "- train_shortlisting_500.json – for each training claim, a list of up to 500 candidate evidence IDs likely to be relevant.\n",
        "- dev_shortlisting_500.json – similarly, candidate evidences for each dev claim.\n",
        "\n",
        "These shortlists dramatically reduce the search space for each claim, focusing on evidences with overlapping keywords or terms. For instance, the example claim might have a few hundred candidate evidences (instead of over a million) after this step.\n"
      ]
    },
    {
      "cell_type": "code",
      "execution_count": 17,
      "id": "ZXyAuN3arIxl",
      "metadata": {
        "colab": {
          "base_uri": "https://localhost:8080/"
        },
        "id": "ZXyAuN3arIxl",
        "outputId": "39adc15e-a1c8-44c5-fd4c-2dffa6a6f216"
      },
      "outputs": [
        {
          "name": "stdout",
          "output_type": "stream",
          "text": [
            "[SKIP] Cached file already exists: train_shortlisting_500.json\n",
            "[STAT] Indexed a total of 1228 claims\n",
            "\n",
            "Sample claim \"claim-1937\" corresponds to 488 evidences\n",
            "Displaying the first 5 claims and their candidate evidences:\n",
            "\n",
            "Claim: claim-1937\n",
            "  Candidate evidences (total 488):\n",
            "    evidence-100018\n",
            "    evidence-100171\n",
            "    evidence-1002574\n",
            "    evidence-1005062\n",
            "    evidence-100551\n",
            "    evidence-100625\n",
            "    evidence-1007748\n",
            "    evidence-1008043\n",
            "    evidence-1009038\n",
            "    evidence-1009391\n",
            "    ... (total 488 evidences, truncated display)\n",
            "\n",
            "Claim: claim-126\n",
            "  Candidate evidences (total 490):\n",
            "    evidence-1000255\n",
            "    evidence-1004316\n",
            "    evidence-1005847\n",
            "    evidence-1006244\n",
            "    evidence-1006262\n",
            "    evidence-1007748\n",
            "    evidence-1009195\n",
            "    evidence-1011357\n",
            "    evidence-1017598\n",
            "    evidence-1022914\n",
            "    ... (total 490 evidences, truncated display)\n",
            "\n",
            "Claim: claim-2510\n",
            "  Candidate evidences (total 450):\n",
            "    evidence-1004316\n",
            "    evidence-1006262\n",
            "    evidence-1012734\n",
            "    evidence-1014738\n",
            "    evidence-1014818\n",
            "    evidence-1020755\n",
            "    evidence-1021277\n",
            "    evidence-102139\n",
            "    evidence-1022125\n",
            "    evidence-1023025\n",
            "    ... (total 450 evidences, truncated display)\n",
            "\n",
            "Claim: claim-2021\n",
            "  Candidate evidences (total 427):\n",
            "    evidence-1005942\n",
            "    evidence-1007184\n",
            "    evidence-1007486\n",
            "    evidence-1007867\n",
            "    evidence-1009195\n",
            "    evidence-1013628\n",
            "    evidence-1013740\n",
            "    evidence-1015594\n",
            "    evidence-1015894\n",
            "    evidence-1018376\n",
            "    ... (total 427 evidences, truncated display)\n",
            "\n",
            "Claim: claim-2449\n",
            "  Candidate evidences (total 459):\n",
            "    evidence-100461\n",
            "    evidence-1005096\n",
            "    evidence-1007748\n",
            "    evidence-1012843\n",
            "    evidence-1013712\n",
            "    evidence-1016997\n",
            "    evidence-1022914\n",
            "    evidence-1023462\n",
            "    evidence-1035368\n",
            "    evidence-1036345\n",
            "    ... (total 459 evidences, truncated display)\n",
            "\n"
          ]
        }
      ],
      "source": [
        "# Build / Load shortlist_evidences\n",
        "if paths.train_shortlist_evidences.exists():\n",
        "    print(f\"[SKIP] Cached file already exists: {paths.train_shortlist_evidences.name}\")\n",
        "    with open(paths.train_shortlist_evidences) as fh:\n",
        "        train_shortlist_evidences_map = {n: set(lst) for n, lst in json.load(fh).items()}\n",
        "else:\n",
        "    print(\"[NOTICE] Building train_shortlist_evidences.json\")\n",
        "    train_shortlist_evidences_map = EP.retrieve_candidate_evidences_for_claims(train_claims)\n",
        "\n",
        "print(f\"[STAT] Indexed a total of {len(train_shortlist_evidences_map)} claims\")\n",
        "\n",
        "sample_claim = next(iter(train_shortlist_evidences_map))\n",
        "print(f\"\\nSample claim \\\"{sample_claim}\\\" corresponds to {len(train_shortlist_evidences_map[sample_claim])} evidences\")\n",
        "\n",
        "print(\"Displaying the first 5 claims and their candidate evidences:\\n\")\n",
        "for claim_id, evid_set in islice(train_shortlist_evidences_map.items(), 5):\n",
        "    evid_list = sorted(evid_set)\n",
        "    print(f\"Claim: {claim_id}\")\n",
        "    print(f\"  Candidate evidences (total {len(evid_list)}):\")\n",
        "    for eid in evid_list[:10]:  # Display only the first 10\n",
        "        print(f\"    {eid}\")\n",
        "    if len(evid_list) > 10:\n",
        "        print(f\"    ... (total {len(evid_list)} evidences, truncated display)\")\n",
        "    print()\n"
      ]
    },
    {
      "cell_type": "markdown",
      "id": "xgWIVQWlsUHg",
      "metadata": {
        "id": "xgWIVQWlsUHg"
      },
      "source": [
        "### Sampling and Dataset Construction for Evidence Retrieval\n",
        "This section prepares data for training and evaluating the evidence retrieval model, which classifies whether a claim-evidence pair is related.\n",
        "\n",
        "The key components include:\n",
        "1. Sample class: A data container that stores a claim, an evidence passage, their IDs, and the label.\n",
        "\n",
        "2. Sampling functions:\n",
        " - _build_samples: Creates labeled pairs (positive and negative) based on shortlist and evidence data.\n",
        "\n",
        " - generate_retrieval_data: Generates training data from a shortlist.\n",
        "\n",
        " - generate_dev_eval_data: Generates evaluation data with random negative samples.\n",
        "\n",
        "3. RetrieverListDataset: Wraps the samples into a PyTorch Dataset to enable batching and data loading."
      ]
    },
    {
      "cell_type": "code",
      "execution_count": 19,
      "id": "a3b011cd",
      "metadata": {
        "id": "a3b011cd"
      },
      "outputs": [],
      "source": [
        "import json\n",
        "import logging\n",
        "import random\n",
        "from pathlib import Path\n",
        "from typing import List, Dict, Optional\n",
        "from dataclasses import dataclass\n",
        "from tqdm.auto import tqdm\n",
        "from torch.utils.data import Dataset\n",
        "import torch\n",
        "\n",
        "logger = logging.getLogger(__name__)\n",
        "logging.basicConfig(level=logging.INFO)\n",
        "\n",
        "# Sample class for storing a single training or evaluation instance\n",
        "@dataclass(frozen=True)\n",
        "class Sample:\n",
        "    claim_text: str\n",
        "    evidence_text: str\n",
        "    label: torch.Tensor\n",
        "    claim_id: str\n",
        "    evidence_id: str\n",
        "\n",
        "# Load a JSON file into a Python dictionary\n",
        "def load_json(path: Path) -> Dict:\n",
        "    with open(path, 'r') as f:\n",
        "        return json.load(f)\n",
        "\n",
        "# Merge multiple JSON files into one dictionary\n",
        "def merge_jsons(paths: List[Path]) -> Dict:\n",
        "    merged = {}\n",
        "    for p in paths:\n",
        "        merged.update(load_json(p))\n",
        "    return merged\n",
        "\n",
        "# Main function to construct positive and negative samples\n",
        "def _build_samples(\n",
        "    claims: Dict[str, Dict],\n",
        "    shortlist: Dict[str, List[str]],\n",
        "    evidence: Dict[str, str],\n",
        "    pos_label: int,\n",
        "    neg_label: int,\n",
        "    n_neg: int,\n",
        "    inference: bool,\n",
        "    shuffle: bool,\n",
        "    device: torch.device,\n",
        "    verbose: bool,\n",
        "    target_claim_id: Optional[str] = None\n",
        ") -> List[Sample]:\n",
        "    \"\"\"\n",
        "    Construct a list of Sample objects for training or inference.\n",
        "    Each sample is a (claim, evidence, label) triple.\n",
        "    \"\"\"\n",
        "    samples: List[Sample] = []\n",
        "    iterator = claims.items()\n",
        "    if verbose:\n",
        "        iterator = tqdm(iterator, desc=\"Building samples\")\n",
        "\n",
        "    for cid, centry in iterator:\n",
        "        if target_claim_id and cid != target_claim_id:\n",
        "            continue\n",
        "\n",
        "        # Add positive samples if not in inference mode\n",
        "        if not inference:\n",
        "            for eid in centry.get(\"evidences\", []):\n",
        "                samples.append(\n",
        "                    Sample(\n",
        "                        claim_text    = centry[\"claim_text\"],\n",
        "                        evidence_text = evidence[eid],\n",
        "                        label         = torch.tensor(pos_label, device=device),\n",
        "                        claim_id      = cid,\n",
        "                        evidence_id   = eid\n",
        "                    )\n",
        "                )\n",
        "\n",
        "        # Add negative samples (sample from the shortlist)\n",
        "        neg_ids = shortlist.get(cid, []).copy()\n",
        "        if shuffle:\n",
        "            random.shuffle(neg_ids)\n",
        "\n",
        "        picked = 0\n",
        "        positives = set(centry.get(\"evidences\", []))\n",
        "        for eid in neg_ids:\n",
        "            if picked >= n_neg:\n",
        "                break\n",
        "            if eid in positives:\n",
        "                continue\n",
        "            samples.append(\n",
        "                Sample(\n",
        "                    claim_text    = centry[\"claim_text\"],\n",
        "                    evidence_text = evidence[eid],\n",
        "                    label         = torch.tensor(neg_label, device=device),\n",
        "                    claim_id      = cid,\n",
        "                    evidence_id   = eid\n",
        "                )\n",
        "            )\n",
        "            picked += 1\n",
        "\n",
        "    logger.info(\"Built %d samples\", len(samples))\n",
        "    return samples\n",
        "\n",
        "# Public function to generate training data for the retriever model\n",
        "def generate_retrieval_data(\n",
        "    claims_paths: List[Path],\n",
        "    shortlist_paths: List[Path],\n",
        "    evidence_path: Path,\n",
        "    *,\n",
        "    pos_label: int = 1,\n",
        "    neg_label: int = 0,\n",
        "    n_neg_samples: int = 10,\n",
        "    inference: bool = False,\n",
        "    shuffle: bool = False,\n",
        "    seed: int = 42,\n",
        "    verbose: bool = True,\n",
        "    device: Optional[torch.device] = None,\n",
        "    target_claim_id: Optional[str] = None\n",
        ") -> List[Sample]:\n",
        "    \"\"\"\n",
        "    Generate training or inference samples using retrieved evidence shortlist.\n",
        "    \"\"\"\n",
        "    random.seed(seed)\n",
        "    device = device or torch.device('cuda' if torch.cuda.is_available() else 'cpu')\n",
        "\n",
        "    claims    = merge_jsons(claims_paths)\n",
        "    shortlist = merge_jsons(shortlist_paths)\n",
        "    evidence  = load_json(evidence_path)\n",
        "\n",
        "    return _build_samples(\n",
        "        claims, shortlist, evidence,\n",
        "        pos_label, neg_label,\n",
        "        n_neg_samples, inference,\n",
        "        shuffle, device, verbose,\n",
        "        target_claim_id\n",
        "    )\n",
        "\n",
        "# Public function to generate evaluation samples for the dev set\n",
        "def generate_dev_eval_data(\n",
        "    dev_claims_path: Path,\n",
        "    evidence_path: Path,\n",
        "    *,\n",
        "    pos_label: int = 1,\n",
        "    neg_label: int = 0,\n",
        "    n_neg_samples: int = 10,\n",
        "    seed: int = 42,\n",
        "    verbose: bool = True,\n",
        "    device: Optional[torch.device] = None\n",
        ") -> List[Sample]:\n",
        "    \"\"\"\n",
        "    Generate evaluation samples by randomly choosing negative evidence IDs\n",
        "    from the global pool of all evidence used in the dataset.\n",
        "    \"\"\"\n",
        "    random.seed(seed)\n",
        "    device = device or torch.device('cuda' if torch.cuda.is_available() else 'cpu')\n",
        "\n",
        "    claims   = load_json(dev_claims_path)\n",
        "    evidence = load_json(evidence_path)\n",
        "\n",
        "    # Create a global pool of negative samples (all evidence IDs seen in claims)\n",
        "    neg_pool = [eid for c in claims.values() for eid in c[\"evidences\"]]\n",
        "    random.shuffle(neg_pool)\n",
        "\n",
        "    # Use the same negative pool for every claim\n",
        "    shortlist = {cid: neg_pool for cid in claims}\n",
        "\n",
        "    return _build_samples(\n",
        "        claims, shortlist, evidence,\n",
        "        pos_label, neg_label,\n",
        "        n_neg_samples,\n",
        "        inference=False,\n",
        "        shuffle=True,\n",
        "        device=device,\n",
        "        verbose=verbose\n",
        "    )\n",
        "\n",
        "# Wraps a list of Sample objects into a PyTorch Dataset\n",
        "class RetrieverListDataset(Dataset):\n",
        "    \"\"\"\n",
        "    Wraps a list of Sample objects into a torch Dataset.\n",
        "    Each item is a tuple: (claim_text, evidence_text, label, claim_id, evidence_id)\n",
        "    \"\"\"\n",
        "    def __init__(self, samples: List[Sample]):\n",
        "        self.samples = samples\n",
        "\n",
        "    def __len__(self):\n",
        "        return len(self.samples)\n",
        "\n",
        "    def __getitem__(self, idx):\n",
        "        s = self.samples[idx]\n",
        "        return s.claim_text, s.evidence_text, s.label, s.claim_id, s.evidence_id\n"
      ]
    },
    {
      "cell_type": "markdown",
      "id": "07f850f1",
      "metadata": {},
      "source": [
        "###  Dataset Construction for Label Classification - Prepare\n",
        "\n",
        "This module constructs training and evaluation datasets for a label classification task in fact verification. It defines a standardized label mapping (`LABEL_MAP`) from claim labels such as `\"REFUTES\"`, `\"SUPPORTS\"`, and `\"NOT_ENOUGH_INFO\"` to integer class indices, which are then used as classification targets.\n",
        "\n",
        "At its core is the function `generate_label_classification_samples`, which reads claim-evidence data from one or more JSON files (`claims_paths`) and aligns them with textual evidence from an `evidence_path`. For each `(claim, evidence)` pair, a `Sample` dataclass instance is constructed, storing the claim and evidence text, the associated class label as a `torch.Tensor`, and their corresponding IDs. If `training=True`, claims with the label `\"DISPUTED\"` are excluded.\n",
        "\n",
        "Once the samples are generated, they are wrapped in a `LabelClassificationListDataset`, which is a simple subclass of `torch.utils.data.Dataset` that allows PyTorch's `DataLoader` to iterate over the samples in mini-batches. The `__getitem__` method returns the text pairs and label in a tuple format suitable for training a neural classifier.\n",
        "\n",
        "This structure allows seamless integration with PyTorch-based training loops, making it easy to handle large-scale claim-evidence pairs for multi-class classification in tasks such as stance detection or fact verification."
      ]
    },
    {
      "cell_type": "code",
      "execution_count": null,
      "id": "d7378173",
      "metadata": {},
      "outputs": [],
      "source": [
        "# Label Classification with BERT Cross-Encoder\n",
        "\n",
        "# Define directories for data input and output\n",
        "DATA_DIR = Path(\"/content/drive/MyDrive/COMP90042/data\")\n",
        "RESULT_DIR = Path(\"/content/drive/MyDrive/COMP90042/result\")\n",
        "EVIDENCE_PATH = DATA_DIR / \"evidence.json\"\n",
        "PREDICT_INPUT_PATH = RESULT_DIR / \"ner\" / \"bert_retriver_claim_evidence.json\"\n",
        "PREDICT_OUTPUT_PATH = DATA_DIR / \"test-claims-predictions.json\"\n",
        "\n",
        "# Set the computation device\n",
        "DEVICE = torch.device(\"cuda\" if torch.cuda.is_available() else \"cpu\")\n",
        "print(f\"Using device: {DEVICE}\")\n",
        "\n",
        "# Label mapping for classification task\n",
        "LABEL_MAP: Dict[str, int] = {\n",
        "    \"REFUTES\": 0,\n",
        "    \"NOT_ENOUGH_INFO\": 1,\n",
        "    \"SUPPORTS\": 2,\n",
        "    # \"DISPUTED\" is not included in training\n",
        "}\n",
        "\n",
        "@dataclass(frozen=True)\n",
        "class Sample:\n",
        "    \"\"\"\n",
        "    Data container for a single claim-evidence-label sample.\n",
        "    \"\"\"\n",
        "    claim_text: str\n",
        "    evidence_text: str\n",
        "    label: torch.Tensor\n",
        "    claim_id: str\n",
        "    evidence_id: str\n",
        "\n",
        "def load_json(path: Path) -> Dict:\n",
        "    \"\"\"\n",
        "    Load a single JSON file and return it as a dictionary.\n",
        "    \"\"\"\n",
        "    with open(path, 'r') as f:\n",
        "        return json.load(f)\n",
        "\n",
        "def merge_jsons(paths: List[Path]) -> Dict:\n",
        "    \"\"\"\n",
        "    Merge multiple JSON files into a single dictionary.\n",
        "    \"\"\"\n",
        "    merged: Dict = {}\n",
        "    for p in paths:\n",
        "        merged.update(load_json(p))\n",
        "    return merged\n",
        "\n",
        "def generate_label_classification_samples(\n",
        "    claims_paths: List[Path],\n",
        "    evidence_path: Path,\n",
        "    *,\n",
        "    training: bool = False,\n",
        "    verbose: bool = True,\n",
        "    device: Optional[torch.device] = None\n",
        ") -> List[Sample]:\n",
        "    \"\"\"\n",
        "    Generate a list of label classification samples.\n",
        "\n",
        "    Args:\n",
        "        claims_paths: List of JSON files containing claims (train/dev)\n",
        "        evidence_path: JSON file containing the evidence corpus\n",
        "        training: Whether this is used for training (DISPUTED will be filtered out)\n",
        "        verbose: Whether to display progress with tqdm\n",
        "        device: The torch device to store the labels on\n",
        "\n",
        "    Returns:\n",
        "        A list of Sample objects containing claim-evidence-label pairs.\n",
        "    \"\"\"\n",
        "    device = device or torch.device('cuda' if torch.cuda.is_available() else 'cpu')\n",
        "\n",
        "    # Load claims and evidence data\n",
        "    claims   = merge_jsons(claims_paths)\n",
        "    evidence = load_json(evidence_path)\n",
        "\n",
        "    samples: List[Sample] = []\n",
        "    iterator = claims.items()\n",
        "    if verbose:\n",
        "        iterator = tqdm(iterator, desc=\"Building label classification samples\")\n",
        "\n",
        "    for cid, centry in iterator:\n",
        "        # Get the label string; use NOT_ENOUGH_INFO as default if missing\n",
        "        label_str = centry.get(\"claim_label\", \"NOT_ENOUGH_INFO\")\n",
        "        \n",
        "        # During training, skip claims with DISPUTED label\n",
        "        if training and label_str == \"DISPUTED\":\n",
        "            continue\n",
        "\n",
        "        # Convert label string to numeric index\n",
        "        label_int = LABEL_MAP.get(label_str, LABEL_MAP[\"NOT_ENOUGH_INFO\"])\n",
        "\n",
        "        # For each associated evidence ID, create a Sample object\n",
        "        for eid in centry.get(\"evidences\", []):\n",
        "            samples.append(\n",
        "                Sample(\n",
        "                    claim_text   = centry[\"claim_text\"],\n",
        "                    evidence_text= evidence[eid],\n",
        "                    label        = torch.tensor(label_int, device=device),\n",
        "                    claim_id     = cid,\n",
        "                    evidence_id  = eid\n",
        "                )\n",
        "            )\n",
        "\n",
        "    logger.info(\"Generated %d classification samples\", len(samples))\n",
        "    return samples\n",
        "\n",
        "class LabelClassificationListDataset(Dataset):\n",
        "    \"\"\"\n",
        "    Wrap a List[Sample] into a torch-compatible Dataset.\n",
        "\n",
        "    __getitem__ returns a tuple:\n",
        "    (claim_text, evidence_text, label_tensor, claim_id, evidence_id)\n",
        "    \"\"\"\n",
        "    def __init__(self, samples: List[Sample]):\n",
        "        self.samples = samples\n",
        "\n",
        "    def __len__(self):\n",
        "        return len(self.samples)\n",
        "\n",
        "    def __getitem__(self, idx):\n",
        "        s = self.samples[idx]\n",
        "        return s.claim_text, s.evidence_text, s.label, s.claim_id, s.evidence_id\n"
      ]
    },
    {
      "cell_type": "markdown",
      "id": "722c67cd",
      "metadata": {
        "id": "722c67cd"
      },
      "source": [
        "\n",
        "### Preparing Training Data for the Evidence Retrieval Model\n",
        "\n",
        "Using the candidate evidence shortlists, we now prepare training data to train a model that can distinguish relevant evidence from irrelevant ones. We will create positive and negative training examples:\n",
        "\n",
        "- Positive examples: Pair each claim with each evidence that is actually linked to it (from the ground-truth evidences in the dataset). These are labeled as \"related\" (1).\n",
        "- Negative examples: For each claim, pair it with some evidences that are not linked to it. We sample these from the candidate shortlist to ensure they are reasonable negatives (they might be topically related but not actually supporting the claim). These are labeled as \"not related\" (0).\n",
        "  \n",
        "Two types of negatives are used:\n",
        "  \n",
        "- **Related-negatives**:  \n",
        "  Evidences that were used by other claims (so they are real evidence passages but for a different claim).\n",
        "\n",
        "- **Distant-negatives**:  \n",
        "  Random evidences that were not used by any claim in the training set.\n",
        "\n",
        "We generate an equal number of both negative types. This creates a balanced training set for the retrieval classifier.\n",
        "\n",
        "We use utility functions generate_retrieval_data and generate_dev_eval_data (provided as part of the project code) to automate this process. These functions will read the claim files and shortlist files, and output a list of sample pairs."
      ]
    },
    {
      "cell_type": "code",
      "execution_count": 20,
      "id": "aea8407f",
      "metadata": {
        "colab": {
          "base_uri": "https://localhost:8080/",
          "height": 81,
          "referenced_widgets": [
            "6dc04ea964a040e3b4b080512e0a2921",
            "23da8a4411954177a94509865344c351",
            "4174d117143144f0816684a9e9e45c53",
            "0d1c86cf328f4949be7b5782eb660122",
            "913ce66060d148aeb2e4c54b60b6e248",
            "d254a10524aa419289d1f0d8a1fc8488",
            "773fadb3e0db4d519cb1a4a672a4981a",
            "d2d861d9f9d94ff2a52df551d72da789",
            "61c83def60a7457fa59ab5057f19f298",
            "1096345bd8054a819a2c1bc8e9a4547d",
            "b6b0fa0f0495460896611d48a618a766",
            "f546f76959fb4fe6ad734c6e00cf08f4",
            "a27ce0688cba46d09b0006035b163c1b",
            "460e6d7d0458451dbe2af8bba3ef97d7",
            "d8e1db4dbc7b49dab59e14bd62f21773",
            "77fddf77cf214490976b363439eee40b",
            "2a0a3dbd3a39485b93443010fff65542",
            "20cfca267808419eab212775561b7476",
            "846fc50eb19f48df8df0a2958da2f3b4",
            "44d535174e554402ae180d5f3ed79747",
            "71c6fa3079754b2fbf1d3443a9f03daa",
            "b7cc5cd7f4744a7c95109cad3dd0f4fc"
          ]
        },
        "id": "aea8407f",
        "outputId": "1db27a4d-daca-49eb-a327-9c55df75005b"
      },
      "outputs": [
        {
          "data": {
            "application/vnd.jupyter.widget-view+json": {
              "model_id": "6dc04ea964a040e3b4b080512e0a2921",
              "version_major": 2,
              "version_minor": 0
            },
            "text/plain": [
              "Building samples:   0%|          | 0/1228 [00:00<?, ?it/s]"
            ]
          },
          "metadata": {},
          "output_type": "display_data"
        },
        {
          "data": {
            "application/vnd.jupyter.widget-view+json": {
              "model_id": "f546f76959fb4fe6ad734c6e00cf08f4",
              "version_major": 2,
              "version_minor": 0
            },
            "text/plain": [
              "Building samples:   0%|          | 0/154 [00:00<?, ?it/s]"
            ]
          },
          "metadata": {},
          "output_type": "display_data"
        }
      ],
      "source": [
        "# Use the provided utility functions to generate training and validation samples for retrieval\n",
        "train_samples = generate_retrieval_data(\n",
        "    claims_paths=[train_claims_path],\n",
        "    shortlist_paths=[NER_DIR / \"train_shortlisting_500.json\"],\n",
        "    evidence_path=evidence_path,\n",
        "    n_neg_samples=10,   # use 10 negative samples per claim (balanced with positives)\n",
        "    pos_label=1,\n",
        "    neg_label=0\n",
        ")\n",
        "val_samples = generate_dev_eval_data(\n",
        "    dev_claims_path=dev_claims_path,\n",
        "    evidence_path=evidence_path,\n",
        "    n_neg_samples=3    # a few negatives per dev claim for evaluation\n",
        ")\n",
        "\n",
        "# Wrap the samples in PyTorch Dataset objects for loading\n",
        "train_data = RetrieverListDataset(train_samples)\n",
        "val_data   = RetrieverListDataset(val_samples)"
      ]
    },
    {
      "cell_type": "markdown",
      "id": "dc4fc9d4",
      "metadata": {
        "id": "dc4fc9d4"
      },
      "source": [
        "# 2.1 Model Implementation - Evidence Retrieval Model"
      ]
    },
    {
      "cell_type": "code",
      "execution_count": null,
      "id": "efd873ed-2d11-4b2c-9ed0-447e7a2d6211",
      "metadata": {
        "id": "efd873ed-2d11-4b2c-9ed0-447e7a2d6211"
      },
      "outputs": [],
      "source": [
        "# PyTorch (if don't have)\n",
        "# !pip uninstall -y torch torchvision torchaudio\n",
        "# !pip install torch torchvision torchaudio --index-url https://download.pytorch.org/whl/cu118\n",
        "# !pip install torcheval"
      ]
    },
    {
      "cell_type": "markdown",
      "id": "48f845db",
      "metadata": {
        "id": "48f845db"
      },
      "source": [
        "\n",
        "\n",
        "### Training the Evidence Retrieval Model\n",
        "\n",
        "We use a BERT-based classifier to predict whether a given claim and evidence pair is related or not. The model (BertRetriever) uses a pretrained BERT (bert-base-uncased) to encode the texts and a linear layer to output a binary classification. We fine-tune this model on our positive/negative samples.\n",
        "\n",
        "\n",
        "We define a `RetrieverTrainer` to:\n",
        "\n",
        "- Fine-tune the model using cross-entropy loss  \n",
        "- Track validation metrics: Accuracy and F1  \n",
        "- Run for a few epochs with validation on the dev set\n",
        "\n",
        "This model helps filter out irrelevant evidence and improves the precision of claim verification."
      ]
    },
    {
      "cell_type": "code",
      "execution_count": null,
      "id": "0-bWI9BTRA0I",
      "metadata": {
        "id": "0-bWI9BTRA0I"
      },
      "outputs": [],
      "source": [
        "# Claim-Evidence Retrieval with BERT Cross-Encoder\n",
        "import torch\n",
        "import torch.nn as nn\n",
        "from transformers import BertTokenizer, BertModel\n",
        "from torch.optim import AdamW\n",
        "from torch.utils.data import DataLoader, Dataset\n",
        "from torcheval.metrics import BinaryAccuracy, BinaryF1Score\n",
        "from torch.optim.lr_scheduler import LinearLR\n",
        "from typing import List, Union, Dict, Tuple\n",
        "from dataclasses import dataclass\n",
        "\n",
        "import json\n",
        "import numpy as np\n",
        "import random\n",
        "from pathlib import Path\n",
        "from tqdm import tqdm\n",
        "from datetime import datetime\n",
        "import matplotlib.pyplot as plt\n",
        "\n",
        "# Set device\n",
        "DEVICE = torch.device(\"cuda\" if torch.cuda.is_available() else \"cpu\")\n",
        "print(f\"Using device: {DEVICE}\")\n",
        "\n",
        "# Define paths\n",
        "# DATA_DIR = Path(\"/content/drive/MyDrive/COMP90042/data\")\n",
        "# RESULT_DIR = Path(\"/content/drive/MyDrive/COMP90042/result\")\n",
        "NER_DIR = RESULT_DIR / \"ner\"\n",
        "MODEL_SAVE_PATH = RESULT_DIR / f\"bert_retrieval_model_{datetime.now().strftime('%Y%m%d_%H%M%S')}.pth\"\n",
        "\n",
        "# Model class for evidence retrieval (BERT with a linear classifier for binary output)\n",
        "class BertRetriever(nn.Module):\n",
        "    def __init__(self, pretrained=\"bert-base-uncased\", num_labels=2):\n",
        "        super().__init__()\n",
        "        self.tokenizer = BertTokenizer.from_pretrained(pretrained)\n",
        "        self.bert = BertModel.from_pretrained(pretrained)\n",
        "        self.linear = nn.Linear(768, num_labels)\n",
        "        self.log_softmax = nn.LogSoftmax(dim=1)\n",
        "        self.to(DEVICE)\n",
        "\n",
        "    def forward(self, batch_texts, max_length=128, dropout_prob=None):\n",
        "        # batch_pairs: list of (claim_text, evidence_text) tuples\n",
        "        encoded = self.tokenizer(\n",
        "            batch_texts,\n",
        "            return_tensors=\"pt\",\n",
        "            padding=True,\n",
        "            truncation=True,\n",
        "            max_length=max_length\n",
        "        ).to(DEVICE)\n",
        "        outputs = self.bert(**encoded)\n",
        "        pooled = outputs.pooler_output  # pooled [CLS] token representation\n",
        "        if dropout_prob:\n",
        "            pooled = nn.Dropout(p=dropout_prob)(pooled)\n",
        "\n",
        "        logits = self.linear(pooled)\n",
        "        probs = torch.exp(self.log_softmax(logits))\n",
        "        return probs, logits\n",
        "\n",
        "\n",
        "# Trainer class to handle training loop for retrieval model\n",
        "class RetrieverTrainer:\n",
        "    def __init__(self, model, train_data, val_data, batch_size=16, lr=5e-6, weight_decay=0.02, warmup=0.1):\n",
        "        self.model = model\n",
        "        self.train_loader = DataLoader(train_data, batch_size=batch_size, shuffle=True)\n",
        "        self.val_loader = DataLoader(val_data, batch_size=batch_size)\n",
        "        self.loss_fn = nn.CrossEntropyLoss() # binary cross-entropy loss\n",
        "        self.optimizer = AdamW(model.parameters(), lr=lr, weight_decay=weight_decay)\n",
        "        # Simple linear warm-up scheduler for demonstration (not critical)\n",
        "        self.scheduler = LinearLR(self.optimizer, total_iters=int(warmup * len(self.train_loader)))\n",
        "        self.acc_metric = BinaryAccuracy()\n",
        "        self.f1_metric = BinaryF1Score()\n",
        "\n",
        "    def train(self, epochs=3):\n",
        "        loss_trace, acc_trace, f1_trace = [], [], []\n",
        "        for epoch in range(epochs):\n",
        "            print(f\"\\nEpoch {epoch+1}/{epochs}\")\n",
        "            self.model.train()\n",
        "            epoch_loss = 0.0\n",
        "            for batch in tqdm(self.train_loader):\n",
        "                claims, evidences, labels, *_ = batch\n",
        "                # Prepare inputs and labels\n",
        "                inputs = list(zip(claims, evidences))\n",
        "                # Forward pass\n",
        "                _, logits = self.model(inputs, max_length=512, dropout_prob=0.1)\n",
        "                loss = self.loss_fn(logits, labels.to(DEVICE))\n",
        "                # Backpropagation\n",
        "                self.optimizer.zero_grad()\n",
        "                loss.backward()\n",
        "                self.optimizer.step()\n",
        "                self.scheduler.step()\n",
        "                epoch_loss += loss.item()\n",
        "            avg_loss = epoch_loss / len(self.train_loader)\n",
        "            loss_trace.append(avg_loss)\n",
        "            print(f\"Training loss: {avg_loss:.4f}\")\n",
        "            # Evaluate on validation set\n",
        "            acc, f1 = self.evaluate()\n",
        "            acc_trace.append(acc)\n",
        "            f1_trace.append(f1)\n",
        "\n",
        "        self._plot_metrics(loss_trace, acc_trace, f1_trace)\n",
        "\n",
        "    def evaluate(self):\n",
        "        self.model.eval()\n",
        "        self.acc_metric.reset()\n",
        "        self.f1_metric.reset()\n",
        "        for batch in self.val_loader:\n",
        "            claims, evidences, labels, *_ = batch\n",
        "            inputs = list(zip(claims, evidences))\n",
        "            probs, _ = self.model(inputs, max_length=512)\n",
        "            preds = torch.argmax(probs, dim=1).cpu()\n",
        "            self.acc_metric.update(preds, labels.cpu())\n",
        "            self.f1_metric.update(preds, labels.cpu())\n",
        "        acc = self.acc_metric.compute().item()\n",
        "        f1 = self.f1_metric.compute().item()\n",
        "        print(f\"Validation Accuracy: {acc:.4f}, F1: {f1:.4f}\")\n",
        "        return acc, f1\n",
        "\n",
        "    def _plot_metrics(self, losses, accs, f1s):\n",
        "        plt.plot(losses, label=\"Loss\")\n",
        "        plt.plot(accs, label=\"Accuracy\")\n",
        "        plt.plot(f1s, label=\"F1 Score\")\n",
        "        plt.xlabel(\"Epoch\")\n",
        "        plt.title(\"Training Progress\")\n",
        "        plt.legend()\n",
        "        plt.grid()\n",
        "        plt.show()\n"
      ]
    },
    {
      "cell_type": "markdown",
      "id": "97dfec09",
      "metadata": {
        "id": "97dfec09"
      },
      "source": [
        "# 2.2 Test and Evaluation - Evidence Retrieval Model"
      ]
    },
    {
      "cell_type": "markdown",
      "id": "02457a20",
      "metadata": {},
      "source": [
        "### BERT Retriever Training Summary\n",
        "\n",
        "This notebook cell trains a BERT-based retriever model (`BertRetriever`) over 3 epochs using the `RetrieverTrainer` class. The training process tracks key metrics including training loss, validation accuracy, and F1 score.\n",
        "\n",
        "- **Epoch 1** achieves the highest validation F1 score (0.8183), with a training loss of 0.3419.\n",
        "- **Epochs 2–3** show decreasing training loss, but slightly lower F1 scores, indicating potential early overfitting.\n",
        "- A plot titled **\"Training Progress\"** visualizes the trends in loss, accuracy, and F1 score over time.\n",
        "\n",
        "After training, the model’s weights are saved to MODEL_SAVE_PATH"
      ]
    },
    {
      "cell_type": "code",
      "execution_count": null,
      "id": "47b5e979",
      "metadata": {
        "id": "47b5e979",
        "outputId": "63c21ab4-bdf2-47fb-cedf-0ca8292af9cc"
      },
      "outputs": [
        {
          "name": "stdout",
          "output_type": "stream",
          "text": [
            "\n",
            "Epoch 1/3\n"
          ]
        },
        {
          "name": "stderr",
          "output_type": "stream",
          "text": [
            "100%|██████████| 1026/1026 [06:18<00:00,  2.71it/s]\n"
          ]
        },
        {
          "name": "stdout",
          "output_type": "stream",
          "text": [
            "Training loss: 0.3419\n",
            "Validation Accuracy: 0.8080, F1: 0.8183\n",
            "\n",
            "Epoch 2/3\n"
          ]
        },
        {
          "name": "stderr",
          "output_type": "stream",
          "text": [
            "100%|██████████| 1026/1026 [06:18<00:00,  2.71it/s]\n"
          ]
        },
        {
          "name": "stdout",
          "output_type": "stream",
          "text": [
            "Training loss: 0.1746\n",
            "Validation Accuracy: 0.7513, F1: 0.7824\n",
            "\n",
            "Epoch 3/3\n"
          ]
        },
        {
          "name": "stderr",
          "output_type": "stream",
          "text": [
            "100%|██████████| 1026/1026 [06:17<00:00,  2.72it/s]\n"
          ]
        },
        {
          "name": "stdout",
          "output_type": "stream",
          "text": [
            "Training loss: 0.0922\n",
            "Validation Accuracy: 0.7345, F1: 0.7517\n"
          ]
        },
        {
          "data": {
            "image/png": "[encoded data removed]",
            "text/plain": [
              "<Figure size 640x480 with 1 Axes>"
            ]
          },
          "metadata": {},
          "output_type": "display_data"
        },
        {
          "name": "stdout",
          "output_type": "stream",
          "text": [
            "Model saved to /content/drive/MyDrive/COMP90042/result/bert_retrieval_model_20250524_111545.pth\n"
          ]
        }
      ],
      "source": [
        "# Load datasets\n",
        "# Instantiate and train\n",
        "model = BertRetriever()\n",
        "trainer = RetrieverTrainer(model, train_data, val_data)\n",
        "trainer.train(epochs=3)\n",
        "\n",
        "# Save model\n",
        "torch.save(model.state_dict(), MODEL_SAVE_PATH)\n",
        "print(f\"Model saved to {MODEL_SAVE_PATH}\")"
      ]
    },
    {
      "cell_type": "markdown",
      "id": "b8e45074",
      "metadata": {},
      "source": [
        "### Inference Pipeline for Claim-Evidence Retrieval\n",
        "\n",
        "This module defines a complete pipeline for performing **claim-evidence retrieval** using a trained BERT-based model.\n",
        "\n",
        "#### File & Path Configuration\n",
        "- Loads claims from `test-claims-unlabelled.json` and evidence from `evidence.json`.\n",
        "- Loads a pretrained model from `bert_retrieval_model_20250524_111545.pth`.\n",
        "- Uses a shortlist (pre-filtered evidence candidates) from `test_shortlisting_1000.json`.\n",
        "\n",
        "#### Key Components\n",
        "- **`RankedEvidence`**: A data class representing an evidence ID and its relevance score.\n",
        "- **`PredictionCollector`**: Collects predicted evidence for each claim, ranks them by score, and outputs the top-K candidates.\n",
        "- **`InferenceRunner`**: Encodes input (claim, evidence) pairs and computes softmax scores using the trained model.\n",
        "\n",
        "#### Retrieval Function: `run_retrieval()`\n",
        "This function:\n",
        "1. Generates all possible `(claim, evidence)` pairs based on shortlisting.\n",
        "2. Feeds batched pairs into the model to get relevance scores.\n",
        "3. Aggregates scores using `PredictionCollector` and retains the **Top-5** highest-scoring evidence IDs for each claim.\n",
        "4. Saves the retrieval result to `bert_retriver_claim_evidence.json` in the expected downstream format.\n",
        "\n",
        "The score used is typically the second class's probability (e.g., `\"relevant\"` class in binary classification).\n",
        "\n",
        "This pipeline forms the first stage in a two-step fact verification system: **(1) Evidence Retrieval → (2) Label Classification**."
      ]
    },
    {
      "cell_type": "code",
      "execution_count": null,
      "id": "abb169c1",
      "metadata": {
        "id": "abb169c1"
      },
      "outputs": [],
      "source": [
        "# Inference Pipeline for Claim-Evidence Retrieval\n",
        "import torch\n",
        "from torch.utils.data import DataLoader, Dataset\n",
        "from pathlib import Path\n",
        "import json\n",
        "from typing import List, Dict, Tuple\n",
        "from dataclasses import dataclass\n",
        "from tqdm import tqdm\n",
        "import numpy as np\n",
        "\n",
        "from transformers import BertTokenizer\n",
        "import matplotlib.pyplot as plt\n",
        "\n",
        "\n",
        "# Path Configuration\n",
        "NER_DIR = RESULT_DIR / \"ner\"\n",
        "CLAIM_FILE = DATA_DIR / \"test-claims-unlabelled.json\"\n",
        "EVIDENCE_FILE = DATA_DIR / \"evidence.json\"\n",
        "FINAL_OUTPUT = DATA_DIR / \"test-claims-predictions.json\"\n",
        "DEVICE = torch.device(\"cuda\" if torch.cuda.is_available() else \"cpu\")\n",
        "\n",
        "SHORTLIST_PATH = NER_DIR / \"test_shortlisting_1000.json\"\n",
        "RETRIEVAL_MODEL_PATH  = RESULT_DIR / \"bert_retrieval_model_20250524_111545.pth\"\n",
        "RETRI_SAVE_PATH = RESULT_DIR / \"bert_retriver_claim_evidence.json\"\n",
        "# Data Structures\n",
        "@dataclass\n",
        "class RankedEvidence:\n",
        "    evidence_id: str\n",
        "    score: float\n",
        "\n",
        "\n",
        "class PredictionCollector:\n",
        "    def __init__(self):\n",
        "        self.records = {}\n",
        "\n",
        "    def add_claim(self, claim_id: str, claim_text: str):\n",
        "        self.records[claim_id] = {\"claim_text\": claim_text, \"evidences\": []}\n",
        "\n",
        "    def add_evidence(self, claim_id: str, evidence_score: RankedEvidence):\n",
        "        self.records[claim_id][\"evidences\"].append(evidence_score)\n",
        "\n",
        "    def finalize(self, top_k: int = 5) -> Dict:\n",
        "        final_predictions = {}\n",
        "        for cid, claim in self.records.items():\n",
        "            sorted_evidences = sorted(claim[\"evidences\"], key=lambda e: e.score, reverse=True)\n",
        "            final_predictions[cid] = {\n",
        "                \"claim_text\": claim[\"claim_text\"],\n",
        "                \"evidences\": [e.evidence_id for e in sorted_evidences[:top_k]]\n",
        "            }\n",
        "        return final_predictions\n",
        "\n",
        "\n",
        "\n",
        "# Inference Utilities\n",
        "class InferenceRunner:\n",
        "    def __init__(self, model, tokenizer, max_len=512):\n",
        "        self.model = model.to(DEVICE)\n",
        "        self.tokenizer = tokenizer\n",
        "        self.max_len = max_len\n",
        "\n",
        "    def predict_scores(self, claim_evidence_pairs: List[Tuple[str, str]]) -> torch.Tensor:\n",
        "        encoded = self.tokenizer(claim_evidence_pairs, return_tensors='pt', padding=True,\n",
        "                                 truncation=True, max_length=self.max_len).to(DEVICE)\n",
        "        with torch.no_grad():\n",
        "            logits = self.model.bert(**encoded).pooler_output\n",
        "            logits = self.model.linear(logits)\n",
        "            probs = torch.softmax(logits, dim=1)\n",
        "        return probs\n",
        "\n",
        "\n",
        "# Bert Evidence Retrieval Inference\n",
        "def run_retrieval(model, tokenizer):\n",
        "    dataset = generate_retrieval_data(\n",
        "        claims_paths=[CLAIM_FILE],\n",
        "        shortlist_paths=[SHORTLIST_PATH],\n",
        "        evidence_path=EVIDENCE_FILE,\n",
        "        inference=True,\n",
        "        n_neg_samples=9999999999\n",
        "    )\n",
        "    dataset = RetrieverListDataset(dataset)\n",
        "    loader = DataLoader(dataset, batch_size=16, shuffle=False)\n",
        "    runner = InferenceRunner(model, tokenizer)\n",
        "\n",
        "    collector = PredictionCollector()\n",
        "    for batch in tqdm(loader, desc=\"Retrieving Evidence\"):\n",
        "        claims, evidences, _, claim_ids, evidence_ids = batch\n",
        "        inputs = list(zip(claims, evidences))\n",
        "        probs = runner.predict_scores(inputs)\n",
        "        relevance_scores = probs[:, 1].cpu().numpy()\n",
        "        for cid, eid, score, ctext in zip(claim_ids, evidence_ids, relevance_scores, claims):\n",
        "            if cid not in collector.records:\n",
        "                collector.add_claim(cid, ctext)\n",
        "            collector.add_evidence(cid, RankedEvidence(eid, float(score)))\n",
        "\n",
        "    retrieval_output = collector.finalize(top_k=5)\n",
        "    with open(RETRI_SAVE_PATH, \"w\") as f:\n",
        "        json.dump(retrieval_output, f)\n",
        "        print(\"Saved retrieval results.\")\n",
        "    return retrieval_output\n"
      ]
    },
    {
      "cell_type": "code",
      "execution_count": null,
      "id": "gt2yfExCUGzZ",
      "metadata": {
        "colab": {
          "base_uri": "https://localhost:8080/"
        },
        "id": "gt2yfExCUGzZ",
        "outputId": "d5277d52-602e-4bd0-8209-d49aaa1ff7e7"
      },
      "outputs": [
        {
          "name": "stderr",
          "output_type": "stream",
          "text": [
            "Building samples: 100%|██████████| 153/153 [00:05<00:00, 30.50it/s]\n",
            "Retrieving Evidence:  10%|█         | 849/8151 [01:48<14:04,  8.64it/s]Be aware, overflowing tokens are not returned for the setting you have chosen, i.e. sequence pairs with the 'longest_first' truncation strategy. So the returned list will always be empty even if some tokens have been removed.\n",
            "Retrieving Evidence:  16%|█▌        | 1291/8151 [02:42<16:33,  6.90it/s]Be aware, overflowing tokens are not returned for the setting you have chosen, i.e. sequence pairs with the 'longest_first' truncation strategy. So the returned list will always be empty even if some tokens have been removed.\n",
            "Retrieving Evidence:  19%|█▊        | 1520/8151 [03:13<14:03,  7.86it/s]Be aware, overflowing tokens are not returned for the setting you have chosen, i.e. sequence pairs with the 'longest_first' truncation strategy. So the returned list will always be empty even if some tokens have been removed.\n",
            "Retrieving Evidence:  22%|██▏       | 1801/8151 [03:48<13:44,  7.70it/s]Be aware, overflowing tokens are not returned for the setting you have chosen, i.e. sequence pairs with the 'longest_first' truncation strategy. So the returned list will always be empty even if some tokens have been removed.\n",
            "Retrieving Evidence:  23%|██▎       | 1862/8151 [03:57<23:52,  4.39it/s]Be aware, overflowing tokens are not returned for the setting you have chosen, i.e. sequence pairs with the 'longest_first' truncation strategy. So the returned list will always be empty even if some tokens have been removed.\n",
            "Retrieving Evidence:  24%|██▎       | 1926/8151 [04:10<23:39,  4.39it/s]Be aware, overflowing tokens are not returned for the setting you have chosen, i.e. sequence pairs with the 'longest_first' truncation strategy. So the returned list will always be empty even if some tokens have been removed.\n",
            "Retrieving Evidence:  27%|██▋       | 2209/8151 [04:49<17:32,  5.65it/s]Be aware, overflowing tokens are not returned for the setting you have chosen, i.e. sequence pairs with the 'longest_first' truncation strategy. So the returned list will always be empty even if some tokens have been removed.\n",
            "Retrieving Evidence:  33%|███▎      | 2684/8151 [05:49<11:18,  8.06it/s]Be aware, overflowing tokens are not returned for the setting you have chosen, i.e. sequence pairs with the 'longest_first' truncation strategy. So the returned list will always be empty even if some tokens have been removed.\n",
            "Retrieving Evidence:  40%|███▉      | 3247/8151 [06:57<08:38,  9.46it/s]Be aware, overflowing tokens are not returned for the setting you have chosen, i.e. sequence pairs with the 'longest_first' truncation strategy. So the returned list will always be empty even if some tokens have been removed.\n",
            "Retrieving Evidence:  44%|████▍     | 3604/8151 [07:40<10:51,  6.98it/s]Be aware, overflowing tokens are not returned for the setting you have chosen, i.e. sequence pairs with the 'longest_first' truncation strategy. So the returned list will always be empty even if some tokens have been removed.\n",
            "Retrieving Evidence:  60%|██████    | 4894/8151 [10:23<06:07,  8.87it/s]Be aware, overflowing tokens are not returned for the setting you have chosen, i.e. sequence pairs with the 'longest_first' truncation strategy. So the returned list will always be empty even if some tokens have been removed.\n",
            "Retrieving Evidence:  74%|███████▍  | 6067/8151 [12:51<04:02,  8.60it/s]Be aware, overflowing tokens are not returned for the setting you have chosen, i.e. sequence pairs with the 'longest_first' truncation strategy. So the returned list will always be empty even if some tokens have been removed.\n",
            "Retrieving Evidence:  76%|███████▌  | 6181/8151 [13:05<04:54,  6.70it/s]Be aware, overflowing tokens are not returned for the setting you have chosen, i.e. sequence pairs with the 'longest_first' truncation strategy. So the returned list will always be empty even if some tokens have been removed.\n",
            "Retrieving Evidence:  78%|███████▊  | 6346/8151 [13:29<04:32,  6.61it/s]Be aware, overflowing tokens are not returned for the setting you have chosen, i.e. sequence pairs with the 'longest_first' truncation strategy. So the returned list will always be empty even if some tokens have been removed.\n",
            "Retrieving Evidence:  86%|████████▌ | 6978/8151 [14:48<03:03,  6.41it/s]Be aware, overflowing tokens are not returned for the setting you have chosen, i.e. sequence pairs with the 'longest_first' truncation strategy. So the returned list will always be empty even if some tokens have been removed.\n",
            "Retrieving Evidence:  87%|████████▋ | 7100/8151 [15:06<03:34,  4.91it/s]Be aware, overflowing tokens are not returned for the setting you have chosen, i.e. sequence pairs with the 'longest_first' truncation strategy. So the returned list will always be empty even if some tokens have been removed.\n",
            "Retrieving Evidence:  89%|████████▊ | 7234/8151 [15:25<02:10,  7.02it/s]Be aware, overflowing tokens are not returned for the setting you have chosen, i.e. sequence pairs with the 'longest_first' truncation strategy. So the returned list will always be empty even if some tokens have been removed.\n",
            "Retrieving Evidence:  89%|████████▉ | 7293/8151 [15:35<02:47,  5.12it/s]Be aware, overflowing tokens are not returned for the setting you have chosen, i.e. sequence pairs with the 'longest_first' truncation strategy. So the returned list will always be empty even if some tokens have been removed.\n",
            "Retrieving Evidence:  91%|█████████ | 7391/8151 [15:48<01:59,  6.35it/s]Be aware, overflowing tokens are not returned for the setting you have chosen, i.e. sequence pairs with the 'longest_first' truncation strategy. So the returned list will always be empty even if some tokens have been removed.\n",
            "Retrieving Evidence:  95%|█████████▍| 7703/8151 [16:26<00:59,  7.53it/s]Be aware, overflowing tokens are not returned for the setting you have chosen, i.e. sequence pairs with the 'longest_first' truncation strategy. So the returned list will always be empty even if some tokens have been removed.\n",
            "Retrieving Evidence: 100%|██████████| 8151/8151 [17:21<00:00,  7.82it/s]\n"
          ]
        },
        {
          "name": "stdout",
          "output_type": "stream",
          "text": [
            "Saved retrieval results.\n"
          ]
        }
      ],
      "source": [
        "# Load and run retrieval\n",
        "retrieval_model = BertRetriever()\n",
        "retrieval_model.load_state_dict(torch.load(RETRIEVAL_MODEL_PATH, map_location=DEVICE))\n",
        "retrieval_tokenizer = BertTokenizer.from_pretrained(\"bert-base-uncased\")\n",
        "retrieval_results = run_retrieval(retrieval_model, retrieval_tokenizer)"
      ]
    },
    {
      "cell_type": "markdown",
      "id": "0ec25fd3",
      "metadata": {
        "id": "0ec25fd3"
      },
      "source": [
        "# 3.1 Model Implementation - Label Classification Model"
      ]
    },
    {
      "cell_type": "markdown",
      "id": "f89dd079",
      "metadata": {},
      "source": [
        "### BERT-Based Label Classification Pipeline\n",
        "\n",
        "This module defines a simple BERT-based model and training workflow for multi-class label classification (e.g., SUPPORTS / REFUTES / NOT_ENOUGH_INFO).\n",
        "\n",
        "#### `BertLabelClassifier`\n",
        "- Uses `BertModel` to encode input `[CLS]` token representation.\n",
        "- Applies a linear layer + `LogSoftmax` to classify into 3 labels.\n",
        "- Supports dropout during training and returns both logits and probabilities.\n",
        "\n",
        "#### `LabelTrainer`\n",
        "- Wraps the model with training and evaluation logic.\n",
        "- Uses `CrossEntropyLoss`, AdamW optimizer, and a linear warmup scheduler.\n",
        "- Tracks accuracy and F1 using TorchMetrics.\n",
        "- Plots loss, accuracy, and F1 over epochs for easy monitoring.\n",
        "\n",
        "This pipeline enables efficient fine-tuning of BERT for label prediction in claim-evidence classification tasks."
      ]
    },
    {
      "cell_type": "code",
      "execution_count": null,
      "id": "ZrOn8I19uzkn",
      "metadata": {
        "id": "ZrOn8I19uzkn"
      },
      "outputs": [],
      "source": [
        "# Model class\n",
        "class BertLabelClassifier(nn.Module):\n",
        "    def __init__(self, pretrained=\"bert-base-uncased\", num_labels=3):\n",
        "        super().__init__()\n",
        "        self.tokenizer = BertTokenizer.from_pretrained(pretrained)\n",
        "        self.bert = BertModel.from_pretrained(pretrained)\n",
        "        self.linear = nn.Linear(768, num_labels)\n",
        "        self.log_softmax = nn.LogSoftmax(dim=1)\n",
        "        self.to(DEVICE)\n",
        "\n",
        "    def forward(self, batch_texts, max_length=128, dropout_prob=None):\n",
        "        tokenized = self.tokenizer(\n",
        "            batch_texts,\n",
        "            return_tensors=\"pt\",\n",
        "            padding=True,\n",
        "            truncation=True,\n",
        "            max_length=max_length\n",
        "        ).to(DEVICE)\n",
        "\n",
        "        pooled = self.bert(**tokenized).pooler_output\n",
        "        if dropout_prob:\n",
        "            pooled = nn.Dropout(p=dropout_prob)(pooled)\n",
        "\n",
        "        logits = self.linear(pooled)\n",
        "        probs = torch.exp(self.log_softmax(logits))\n",
        "        return probs, logits\n",
        "\n",
        "# Trainer class\n",
        "class LabelTrainer:\n",
        "    def __init__(self, model, train_data, val_data, batch_size=16, lr=5e-6, weight_decay=0.01, warmup=0.1, label_weights=None):\n",
        "        self.model = model\n",
        "        self.train_loader = DataLoader(train_data, batch_size=batch_size, shuffle=True)\n",
        "        self.val_loader = DataLoader(val_data, batch_size=batch_size)\n",
        "        self.loss_fn = nn.CrossEntropyLoss(weight=torch.tensor(label_weights, device=DEVICE))\n",
        "        self.optimizer = AdamW(model.parameters(), lr=lr, weight_decay=weight_decay)\n",
        "        self.scheduler = LinearLR(self.optimizer, total_iters=int(warmup * len(self.train_loader)))\n",
        "        self.acc_metric = MulticlassAccuracy(num_classes=3)\n",
        "        self.f1_metric = MulticlassF1Score(num_classes=3)\n",
        "\n",
        "    def train(self, epochs=3):\n",
        "        loss_trace, acc_trace, f1_trace = [], [], []\n",
        "        for epoch in range(epochs):\n",
        "            print(f\"\\nEpoch {epoch+1}/{epochs}\")\n",
        "            self.model.train()\n",
        "            total_loss = 0\n",
        "            for batch in tqdm(self.train_loader):\n",
        "                claims, evidences, labels, *_ = batch\n",
        "                inputs = list(zip(claims, evidences))\n",
        "                self.optimizer.zero_grad()\n",
        "                _, logits = self.model(inputs, max_length=512, dropout_prob=0.1)\n",
        "                loss = self.loss_fn(logits, labels.to(DEVICE))\n",
        "                loss.backward()\n",
        "                self.optimizer.step()\n",
        "                self.scheduler.step()\n",
        "                total_loss += loss.item()\n",
        "            avg_loss = total_loss / len(self.train_loader)\n",
        "            loss_trace.append(avg_loss)\n",
        "            print(f\"Training loss: {avg_loss:.4f}\")\n",
        "\n",
        "            acc, f1 = self.evaluate()\n",
        "            acc_trace.append(acc)\n",
        "            f1_trace.append(f1)\n",
        "\n",
        "        self._plot_metrics(loss_trace, acc_trace, f1_trace)\n",
        "\n",
        "    def evaluate(self):\n",
        "        self.model.eval()\n",
        "        self.acc_metric.reset()\n",
        "        self.f1_metric.reset()\n",
        "        for batch in self.val_loader:\n",
        "            claims, evidences, labels, *_ = batch\n",
        "            inputs = list(zip(claims, evidences))\n",
        "            probs, _ = self.model(inputs, max_length=512)\n",
        "            preds = torch.argmax(probs, dim=1).cpu()\n",
        "            self.acc_metric.update(preds, labels.cpu())\n",
        "            self.f1_metric.update(preds, labels.cpu())\n",
        "        acc = self.acc_metric.compute().item()\n",
        "        f1 = self.f1_metric.compute().item()\n",
        "        print(f\"Validation Accuracy: {acc:.4f}, F1: {f1:.4f}\")\n",
        "        return acc, f1\n",
        "\n",
        "    def _plot_metrics(self, losses, accs, f1s):\n",
        "        plt.plot(losses, label=\"Loss\")\n",
        "        plt.plot(accs, label=\"Accuracy\")\n",
        "        plt.plot(f1s, label=\"F1 Score\")\n",
        "        plt.xlabel(\"Epoch\")\n",
        "        plt.title(\"Label Classifier Training\")\n",
        "        plt.legend()\n",
        "        plt.grid()\n",
        "        plt.show()"
      ]
    },
    {
      "cell_type": "markdown",
      "id": "b439286d",
      "metadata": {
        "id": "b439286d"
      },
      "source": [
        "# 3.2 Test and Evaluation - Label Classification Model"
      ]
    },
    {
      "cell_type": "markdown",
      "id": "32266462",
      "metadata": {},
      "source": [
        "### Label Classification Model Training\n",
        "\n",
        "This cell trains a BERT-based label classifier (`BertLabelClassifier`) to predict the stance of a claim with respect to selected evidence. The dataset is loaded from `train-claims.json` and `dev-claims.json`, with samples preprocessed using `generate_label_classification_samples()`.\n",
        "\n",
        "#### Training Details\n",
        "- The model is trained using `LabelTrainer` over **5 epochs**.\n",
        "- Class imbalance is addressed with label weights: `[1.0, 0.6, 0.4]` for `REFUTES`, `NEI`, and `SUPPORTS`.\n",
        "- Metrics tracked include training loss, validation accuracy, and F1 score.\n",
        "\n",
        "#### Results\n",
        "- Accuracy improves steadily from **0.33 → 0.60**.\n",
        "- F1 score increases from **0.30 → 0.62**, indicating better overall performance.\n",
        "- Training loss decreases from **1.0086 → 0.2767**, showing successful convergence.\n",
        "\n",
        "The training progress is visualized with a line plot showing the evolution of loss, accuracy, and F1 score over epochs.\n",
        "\n",
        "#### Output\n",
        "The trained model is saved to:"
      ]
    },
    {
      "cell_type": "code",
      "execution_count": null,
      "id": "79e76181-5778-4921-b84d-7b91f82b1c3e",
      "metadata": {
        "colab": {
          "base_uri": "https://localhost:8080/",
          "height": 1000
        },
        "id": "79e76181-5778-4921-b84d-7b91f82b1c3e",
        "outputId": "be5ff804-2ba7-4a93-d438-90e93a8ca06b"
      },
      "outputs": [
        {
          "name": "stderr",
          "output_type": "stream",
          "text": [
            "claims: 100%|██████████| 1228/1228 [00:00<00:00, 314003.86it/s]\n"
          ]
        },
        {
          "name": "stdout",
          "output_type": "stream",
          "text": [
            "generated dataset n=3730\n"
          ]
        },
        {
          "name": "stderr",
          "output_type": "stream",
          "text": [
            "claims: 100%|██████████| 154/154 [00:00<00:00, 334675.03it/s]\n"
          ]
        },
        {
          "name": "stdout",
          "output_type": "stream",
          "text": [
            "generated dataset n=433\n",
            "\n",
            "Epoch 1/5\n"
          ]
        },
        {
          "name": "stderr",
          "output_type": "stream",
          "text": [
            "100%|██████████| 234/234 [01:19<00:00,  2.96it/s]\n"
          ]
        },
        {
          "name": "stdout",
          "output_type": "stream",
          "text": [
            "Training loss: 1.0086\n",
            "Validation Accuracy: 0.3333, F1: 0.3042\n",
            "\n",
            "Epoch 2/5\n"
          ]
        },
        {
          "name": "stderr",
          "output_type": "stream",
          "text": [
            "100%|██████████| 234/234 [01:18<00:00,  2.99it/s]\n"
          ]
        },
        {
          "name": "stdout",
          "output_type": "stream",
          "text": [
            "Training loss: 0.8482\n",
            "Validation Accuracy: 0.5024, F1: 0.5000\n",
            "\n",
            "Epoch 3/5\n"
          ]
        },
        {
          "name": "stderr",
          "output_type": "stream",
          "text": [
            "100%|██████████| 234/234 [01:18<00:00,  3.00it/s]\n"
          ]
        },
        {
          "name": "stdout",
          "output_type": "stream",
          "text": [
            "Training loss: 0.6411\n",
            "Validation Accuracy: 0.5245, F1: 0.5832\n",
            "\n",
            "Epoch 4/5\n"
          ]
        },
        {
          "name": "stderr",
          "output_type": "stream",
          "text": [
            "100%|██████████| 234/234 [01:18<00:00,  3.00it/s]\n"
          ]
        },
        {
          "name": "stdout",
          "output_type": "stream",
          "text": [
            "Training loss: 0.4378\n",
            "Validation Accuracy: 0.5583, F1: 0.6091\n",
            "\n",
            "Epoch 5/5\n"
          ]
        },
        {
          "name": "stderr",
          "output_type": "stream",
          "text": [
            "100%|██████████| 234/234 [01:18<00:00,  2.99it/s]\n"
          ]
        },
        {
          "name": "stdout",
          "output_type": "stream",
          "text": [
            "Training loss: 0.2767\n",
            "Validation Accuracy: 0.6015, F1: 0.6196\n"
          ]
        },
        {
          "data": {
            "image/png": "[encoded data removed]",
            "text/plain": [
              "<Figure size 640x480 with 1 Axes>"
            ]
          },
          "metadata": {},
          "output_type": "display_data"
        },
        {
          "name": "stdout",
          "output_type": "stream",
          "text": [
            "Model saved to /content/drive/MyDrive/COMP90042/result/bert_label_model_20250524_084428.pth\n"
          ]
        }
      ],
      "source": [
        "# Load datasets\n",
        "train_data = generate_label_classification_samples(\n",
        "    claims_paths=[DATA_DIR / \"train-claims.json\"], training=True\n",
        ")\n",
        "val_data = generate_label_classification_samples(\n",
        "    claims_paths=[DATA_DIR / \"dev-claims.json\"], training=True\n",
        ")\n",
        "\n",
        "# Instantiate and train\n",
        "label_model = BertLabelClassifier()\n",
        "label_trainer = LabelTrainer(\n",
        "    label_model, train_data, val_data,\n",
        "    label_weights=[1.0, 0.6, 0.4]\n",
        ")\n",
        "label_trainer.train(epochs=5)\n",
        "\n",
        "# Save model\n",
        "model_path = RESULT_DIR / f\"bert_label_model_{datetime.now().strftime('%Y%m%d_%H%M%S')}.pth\"\n",
        "# torch.save(label_model, model_path)\n",
        "torch.save(model.state_dict(), model_path)\n",
        "\n",
        "print(f\"Model saved to {model_path}\")"
      ]
    },
    {
      "cell_type": "markdown",
      "id": "8ec424b3",
      "metadata": {},
      "source": [
        "### Label Classification Inference\n",
        "\n",
        "This cell performs the second stage of fact verification: **classifying the stance of a claim based on retrieved evidence** using a fine-tuned BERT classifier.\n",
        "\n",
        "#### Pipeline Overview\n",
        "- Loads retrieval results from `bert_retriver_claim_evidence.json`, containing each claim and its top-k evidence candidates.\n",
        "- For each claim, constructs a small dataset of `(claim, evidence)` pairs.\n",
        "- Uses a trained classifier (`BertLabelClassifier`) to predict a label for each pair.\n",
        "- Aggregates all predictions per claim and assigns a final label using simple heuristics:\n",
        "  - If both `SUPPORTS` and `REFUTES` are predicted → `DISPUTED`\n",
        "  - Else if any `SUPPORTS` → `SUPPORTS`\n",
        "  - Else if any `REFUTES` → `REFUTES`\n",
        "  - Else → `NOT_ENOUGH_INFO`\n"
      ]
    },
    {
      "cell_type": "code",
      "execution_count": null,
      "id": "bf0f54e1",
      "metadata": {
        "id": "bf0f54e1",
        "outputId": "6e119f1e-987d-41f9-9ee8-a7e877b95f34"
      },
      "outputs": [
        {
          "name": "stderr",
          "output_type": "stream",
          "text": [
            "Classifying Labels:   1%|          | 1/153 [00:01<03:48,  1.50s/it]"
          ]
        },
        {
          "name": "stdout",
          "output_type": "stream",
          "text": [
            "generated dataset n=5\n"
          ]
        },
        {
          "name": "stderr",
          "output_type": "stream",
          "text": [
            "\rClassifying Labels:   1%|▏         | 2/153 [00:03<03:49,  1.52s/it]"
          ]
        },
        {
          "name": "stdout",
          "output_type": "stream",
          "text": [
            "generated dataset n=5\n"
          ]
        },
        {
          "name": "stderr",
          "output_type": "stream",
          "text": [
            "\rClassifying Labels:   2%|▏         | 3/153 [00:04<03:46,  1.51s/it]"
          ]
        },
        {
          "name": "stdout",
          "output_type": "stream",
          "text": [
            "generated dataset n=5\n"
          ]
        },
        {
          "name": "stderr",
          "output_type": "stream",
          "text": [
            "\rClassifying Labels:   3%|▎         | 4/153 [00:06<03:44,  1.50s/it]"
          ]
        },
        {
          "name": "stdout",
          "output_type": "stream",
          "text": [
            "generated dataset n=5\n"
          ]
        },
        {
          "name": "stderr",
          "output_type": "stream",
          "text": [
            "\rClassifying Labels:   3%|▎         | 5/153 [00:07<03:40,  1.49s/it]"
          ]
        },
        {
          "name": "stdout",
          "output_type": "stream",
          "text": [
            "generated dataset n=5\n"
          ]
        },
        {
          "name": "stderr",
          "output_type": "stream",
          "text": [
            "\rClassifying Labels:   4%|▍         | 6/153 [00:09<03:50,  1.57s/it]"
          ]
        },
        {
          "name": "stdout",
          "output_type": "stream",
          "text": [
            "generated dataset n=5\n"
          ]
        },
        {
          "name": "stderr",
          "output_type": "stream",
          "text": [
            "\rClassifying Labels:   5%|▍         | 7/153 [00:11<04:26,  1.82s/it]"
          ]
        },
        {
          "name": "stdout",
          "output_type": "stream",
          "text": [
            "generated dataset n=5\n"
          ]
        },
        {
          "name": "stderr",
          "output_type": "stream",
          "text": [
            "\rClassifying Labels:   5%|▌         | 8/153 [00:13<04:13,  1.75s/it]"
          ]
        },
        {
          "name": "stdout",
          "output_type": "stream",
          "text": [
            "generated dataset n=5\n"
          ]
        },
        {
          "name": "stderr",
          "output_type": "stream",
          "text": [
            "\rClassifying Labels:   6%|▌         | 9/153 [00:14<04:01,  1.68s/it]"
          ]
        },
        {
          "name": "stdout",
          "output_type": "stream",
          "text": [
            "generated dataset n=5\n"
          ]
        },
        {
          "name": "stderr",
          "output_type": "stream",
          "text": [
            "\rClassifying Labels:   7%|▋         | 10/153 [00:16<03:52,  1.63s/it]"
          ]
        },
        {
          "name": "stdout",
          "output_type": "stream",
          "text": [
            "generated dataset n=5\n"
          ]
        },
        {
          "name": "stderr",
          "output_type": "stream",
          "text": [
            "\rClassifying Labels:   7%|▋         | 11/153 [00:17<03:44,  1.58s/it]"
          ]
        },
        {
          "name": "stdout",
          "output_type": "stream",
          "text": [
            "generated dataset n=5\n"
          ]
        },
        {
          "name": "stderr",
          "output_type": "stream",
          "text": [
            "\rClassifying Labels:   8%|▊         | 12/153 [00:19<03:39,  1.56s/it]"
          ]
        },
        {
          "name": "stdout",
          "output_type": "stream",
          "text": [
            "generated dataset n=5\n"
          ]
        },
        {
          "name": "stderr",
          "output_type": "stream",
          "text": [
            "\rClassifying Labels:   8%|▊         | 13/153 [00:20<03:36,  1.54s/it]"
          ]
        },
        {
          "name": "stdout",
          "output_type": "stream",
          "text": [
            "generated dataset n=5\n"
          ]
        },
        {
          "name": "stderr",
          "output_type": "stream",
          "text": [
            "\rClassifying Labels:   9%|▉         | 14/153 [00:22<03:43,  1.61s/it]"
          ]
        },
        {
          "name": "stdout",
          "output_type": "stream",
          "text": [
            "generated dataset n=5\n"
          ]
        },
        {
          "name": "stderr",
          "output_type": "stream",
          "text": [
            "\rClassifying Labels:  10%|▉         | 15/153 [00:24<04:10,  1.82s/it]"
          ]
        },
        {
          "name": "stdout",
          "output_type": "stream",
          "text": [
            "generated dataset n=5\n"
          ]
        },
        {
          "name": "stderr",
          "output_type": "stream",
          "text": [
            "\rClassifying Labels:  10%|█         | 16/153 [00:26<03:56,  1.73s/it]"
          ]
        },
        {
          "name": "stdout",
          "output_type": "stream",
          "text": [
            "generated dataset n=5\n"
          ]
        },
        {
          "name": "stderr",
          "output_type": "stream",
          "text": [
            "\rClassifying Labels:  11%|█         | 17/153 [00:27<03:46,  1.67s/it]"
          ]
        },
        {
          "name": "stdout",
          "output_type": "stream",
          "text": [
            "generated dataset n=5\n"
          ]
        },
        {
          "name": "stderr",
          "output_type": "stream",
          "text": [
            "\rClassifying Labels:  12%|█▏        | 18/153 [00:29<03:40,  1.63s/it]"
          ]
        },
        {
          "name": "stdout",
          "output_type": "stream",
          "text": [
            "generated dataset n=5\n"
          ]
        },
        {
          "name": "stderr",
          "output_type": "stream",
          "text": [
            "\rClassifying Labels:  12%|█▏        | 19/153 [00:30<03:33,  1.59s/it]"
          ]
        },
        {
          "name": "stdout",
          "output_type": "stream",
          "text": [
            "generated dataset n=5\n"
          ]
        },
        {
          "name": "stderr",
          "output_type": "stream",
          "text": [
            "\rClassifying Labels:  13%|█▎        | 20/153 [00:32<03:28,  1.57s/it]"
          ]
        },
        {
          "name": "stdout",
          "output_type": "stream",
          "text": [
            "generated dataset n=5\n"
          ]
        },
        {
          "name": "stderr",
          "output_type": "stream",
          "text": [
            "\rClassifying Labels:  14%|█▎        | 21/153 [00:33<03:23,  1.54s/it]"
          ]
        },
        {
          "name": "stdout",
          "output_type": "stream",
          "text": [
            "generated dataset n=5\n"
          ]
        },
        {
          "name": "stderr",
          "output_type": "stream",
          "text": [
            "\rClassifying Labels:  14%|█▍        | 22/153 [00:35<03:35,  1.65s/it]"
          ]
        },
        {
          "name": "stdout",
          "output_type": "stream",
          "text": [
            "generated dataset n=5\n"
          ]
        },
        {
          "name": "stderr",
          "output_type": "stream",
          "text": [
            "\rClassifying Labels:  15%|█▌        | 23/153 [00:37<03:57,  1.83s/it]"
          ]
        },
        {
          "name": "stdout",
          "output_type": "stream",
          "text": [
            "generated dataset n=5\n"
          ]
        },
        {
          "name": "stderr",
          "output_type": "stream",
          "text": [
            "\rClassifying Labels:  16%|█▌        | 24/153 [00:39<03:44,  1.74s/it]"
          ]
        },
        {
          "name": "stdout",
          "output_type": "stream",
          "text": [
            "generated dataset n=5\n"
          ]
        },
        {
          "name": "stderr",
          "output_type": "stream",
          "text": [
            "\rClassifying Labels:  16%|█▋        | 25/153 [00:41<03:35,  1.68s/it]"
          ]
        },
        {
          "name": "stdout",
          "output_type": "stream",
          "text": [
            "generated dataset n=5\n"
          ]
        },
        {
          "name": "stderr",
          "output_type": "stream",
          "text": [
            "\rClassifying Labels:  17%|█▋        | 26/153 [00:42<03:27,  1.63s/it]"
          ]
        },
        {
          "name": "stdout",
          "output_type": "stream",
          "text": [
            "generated dataset n=5\n"
          ]
        },
        {
          "name": "stderr",
          "output_type": "stream",
          "text": [
            "\rClassifying Labels:  18%|█▊        | 27/153 [00:44<03:21,  1.60s/it]"
          ]
        },
        {
          "name": "stdout",
          "output_type": "stream",
          "text": [
            "generated dataset n=5\n"
          ]
        },
        {
          "name": "stderr",
          "output_type": "stream",
          "text": [
            "\rClassifying Labels:  18%|█▊        | 28/153 [00:45<03:16,  1.57s/it]"
          ]
        },
        {
          "name": "stdout",
          "output_type": "stream",
          "text": [
            "generated dataset n=5\n"
          ]
        },
        {
          "name": "stderr",
          "output_type": "stream",
          "text": [
            "\rClassifying Labels:  19%|█▉        | 29/153 [00:47<03:13,  1.56s/it]"
          ]
        },
        {
          "name": "stdout",
          "output_type": "stream",
          "text": [
            "generated dataset n=5\n"
          ]
        },
        {
          "name": "stderr",
          "output_type": "stream",
          "text": [
            "\rClassifying Labels:  20%|█▉        | 30/153 [00:49<03:30,  1.71s/it]"
          ]
        },
        {
          "name": "stdout",
          "output_type": "stream",
          "text": [
            "generated dataset n=5\n"
          ]
        },
        {
          "name": "stderr",
          "output_type": "stream",
          "text": [
            "\rClassifying Labels:  20%|██        | 31/153 [00:51<03:43,  1.83s/it]"
          ]
        },
        {
          "name": "stdout",
          "output_type": "stream",
          "text": [
            "generated dataset n=5\n"
          ]
        },
        {
          "name": "stderr",
          "output_type": "stream",
          "text": [
            "\rClassifying Labels:  21%|██        | 32/153 [00:52<03:30,  1.74s/it]"
          ]
        },
        {
          "name": "stdout",
          "output_type": "stream",
          "text": [
            "generated dataset n=5\n"
          ]
        },
        {
          "name": "stderr",
          "output_type": "stream",
          "text": [
            "\rClassifying Labels:  22%|██▏       | 33/153 [00:54<03:21,  1.68s/it]"
          ]
        },
        {
          "name": "stdout",
          "output_type": "stream",
          "text": [
            "generated dataset n=5\n"
          ]
        },
        {
          "name": "stderr",
          "output_type": "stream",
          "text": [
            "\rClassifying Labels:  22%|██▏       | 34/153 [00:55<03:14,  1.63s/it]"
          ]
        },
        {
          "name": "stdout",
          "output_type": "stream",
          "text": [
            "generated dataset n=5\n"
          ]
        },
        {
          "name": "stderr",
          "output_type": "stream",
          "text": [
            "\rClassifying Labels:  23%|██▎       | 35/153 [00:57<03:08,  1.60s/it]"
          ]
        },
        {
          "name": "stdout",
          "output_type": "stream",
          "text": [
            "generated dataset n=5\n"
          ]
        },
        {
          "name": "stderr",
          "output_type": "stream",
          "text": [
            "\rClassifying Labels:  24%|██▎       | 36/153 [00:58<03:03,  1.56s/it]"
          ]
        },
        {
          "name": "stdout",
          "output_type": "stream",
          "text": [
            "generated dataset n=5\n"
          ]
        },
        {
          "name": "stderr",
          "output_type": "stream",
          "text": [
            "\rClassifying Labels:  24%|██▍       | 37/153 [01:00<03:00,  1.55s/it]"
          ]
        },
        {
          "name": "stdout",
          "output_type": "stream",
          "text": [
            "generated dataset n=5\n"
          ]
        },
        {
          "name": "stderr",
          "output_type": "stream",
          "text": [
            "\rClassifying Labels:  25%|██▍       | 38/153 [01:02<03:18,  1.72s/it]"
          ]
        },
        {
          "name": "stdout",
          "output_type": "stream",
          "text": [
            "generated dataset n=5\n"
          ]
        },
        {
          "name": "stderr",
          "output_type": "stream",
          "text": [
            "\rClassifying Labels:  25%|██▌       | 39/153 [01:04<03:25,  1.80s/it]"
          ]
        },
        {
          "name": "stdout",
          "output_type": "stream",
          "text": [
            "generated dataset n=5\n"
          ]
        },
        {
          "name": "stderr",
          "output_type": "stream",
          "text": [
            "\rClassifying Labels:  26%|██▌       | 40/153 [01:06<03:14,  1.72s/it]"
          ]
        },
        {
          "name": "stdout",
          "output_type": "stream",
          "text": [
            "generated dataset n=5\n"
          ]
        },
        {
          "name": "stderr",
          "output_type": "stream",
          "text": [
            "\rClassifying Labels:  27%|██▋       | 41/153 [01:07<03:04,  1.65s/it]"
          ]
        },
        {
          "name": "stdout",
          "output_type": "stream",
          "text": [
            "generated dataset n=5\n"
          ]
        },
        {
          "name": "stderr",
          "output_type": "stream",
          "text": [
            "\rClassifying Labels:  27%|██▋       | 42/153 [01:09<02:59,  1.61s/it]"
          ]
        },
        {
          "name": "stdout",
          "output_type": "stream",
          "text": [
            "generated dataset n=5\n"
          ]
        },
        {
          "name": "stderr",
          "output_type": "stream",
          "text": [
            "\rClassifying Labels:  28%|██▊       | 43/153 [01:10<02:54,  1.59s/it]"
          ]
        },
        {
          "name": "stdout",
          "output_type": "stream",
          "text": [
            "generated dataset n=5\n"
          ]
        },
        {
          "name": "stderr",
          "output_type": "stream",
          "text": [
            "\rClassifying Labels:  29%|██▉       | 44/153 [01:12<02:53,  1.59s/it]"
          ]
        },
        {
          "name": "stdout",
          "output_type": "stream",
          "text": [
            "generated dataset n=5\n"
          ]
        },
        {
          "name": "stderr",
          "output_type": "stream",
          "text": [
            "\rClassifying Labels:  29%|██▉       | 45/153 [01:13<02:49,  1.57s/it]"
          ]
        },
        {
          "name": "stdout",
          "output_type": "stream",
          "text": [
            "generated dataset n=5\n"
          ]
        },
        {
          "name": "stderr",
          "output_type": "stream",
          "text": [
            "\rClassifying Labels:  30%|███       | 46/153 [01:15<03:08,  1.76s/it]"
          ]
        },
        {
          "name": "stdout",
          "output_type": "stream",
          "text": [
            "generated dataset n=5\n"
          ]
        },
        {
          "name": "stderr",
          "output_type": "stream",
          "text": [
            "\rClassifying Labels:  31%|███       | 47/153 [01:17<03:10,  1.79s/it]"
          ]
        },
        {
          "name": "stdout",
          "output_type": "stream",
          "text": [
            "generated dataset n=5\n"
          ]
        },
        {
          "name": "stderr",
          "output_type": "stream",
          "text": [
            "\rClassifying Labels:  31%|███▏      | 48/153 [01:19<03:00,  1.72s/it]"
          ]
        },
        {
          "name": "stdout",
          "output_type": "stream",
          "text": [
            "generated dataset n=5\n"
          ]
        },
        {
          "name": "stderr",
          "output_type": "stream",
          "text": [
            "\rClassifying Labels:  32%|███▏      | 49/153 [01:20<02:52,  1.66s/it]"
          ]
        },
        {
          "name": "stdout",
          "output_type": "stream",
          "text": [
            "generated dataset n=5\n"
          ]
        },
        {
          "name": "stderr",
          "output_type": "stream",
          "text": [
            "\rClassifying Labels:  33%|███▎      | 50/153 [01:22<02:46,  1.61s/it]"
          ]
        },
        {
          "name": "stdout",
          "output_type": "stream",
          "text": [
            "generated dataset n=5\n"
          ]
        },
        {
          "name": "stderr",
          "output_type": "stream",
          "text": [
            "\rClassifying Labels:  33%|███▎      | 51/153 [01:23<02:41,  1.58s/it]"
          ]
        },
        {
          "name": "stdout",
          "output_type": "stream",
          "text": [
            "generated dataset n=5\n"
          ]
        },
        {
          "name": "stderr",
          "output_type": "stream",
          "text": [
            "\rClassifying Labels:  34%|███▍      | 52/153 [01:25<02:36,  1.55s/it]"
          ]
        },
        {
          "name": "stdout",
          "output_type": "stream",
          "text": [
            "generated dataset n=5\n"
          ]
        },
        {
          "name": "stderr",
          "output_type": "stream",
          "text": [
            "\rClassifying Labels:  35%|███▍      | 53/153 [01:26<02:33,  1.54s/it]"
          ]
        },
        {
          "name": "stdout",
          "output_type": "stream",
          "text": [
            "generated dataset n=5\n"
          ]
        },
        {
          "name": "stderr",
          "output_type": "stream",
          "text": [
            "\rClassifying Labels:  35%|███▌      | 54/153 [01:29<02:55,  1.77s/it]"
          ]
        },
        {
          "name": "stdout",
          "output_type": "stream",
          "text": [
            "generated dataset n=5\n"
          ]
        },
        {
          "name": "stderr",
          "output_type": "stream",
          "text": [
            "\rClassifying Labels:  36%|███▌      | 55/153 [01:30<02:55,  1.79s/it]"
          ]
        },
        {
          "name": "stdout",
          "output_type": "stream",
          "text": [
            "generated dataset n=5\n"
          ]
        },
        {
          "name": "stderr",
          "output_type": "stream",
          "text": [
            "\rClassifying Labels:  37%|███▋      | 56/153 [01:32<02:44,  1.70s/it]"
          ]
        },
        {
          "name": "stdout",
          "output_type": "stream",
          "text": [
            "generated dataset n=5\n"
          ]
        },
        {
          "name": "stderr",
          "output_type": "stream",
          "text": [
            "\rClassifying Labels:  37%|███▋      | 57/153 [01:34<02:38,  1.65s/it]"
          ]
        },
        {
          "name": "stdout",
          "output_type": "stream",
          "text": [
            "generated dataset n=5\n"
          ]
        },
        {
          "name": "stderr",
          "output_type": "stream",
          "text": [
            "\rClassifying Labels:  38%|███▊      | 58/153 [01:35<02:32,  1.60s/it]"
          ]
        },
        {
          "name": "stdout",
          "output_type": "stream",
          "text": [
            "generated dataset n=5\n"
          ]
        },
        {
          "name": "stderr",
          "output_type": "stream",
          "text": [
            "\rClassifying Labels:  39%|███▊      | 59/153 [01:37<02:27,  1.57s/it]"
          ]
        },
        {
          "name": "stdout",
          "output_type": "stream",
          "text": [
            "generated dataset n=5\n"
          ]
        },
        {
          "name": "stderr",
          "output_type": "stream",
          "text": [
            "\rClassifying Labels:  39%|███▉      | 60/153 [01:38<02:24,  1.55s/it]"
          ]
        },
        {
          "name": "stdout",
          "output_type": "stream",
          "text": [
            "generated dataset n=5\n"
          ]
        },
        {
          "name": "stderr",
          "output_type": "stream",
          "text": [
            "\rClassifying Labels:  40%|███▉      | 61/153 [01:41<03:09,  2.06s/it]"
          ]
        },
        {
          "name": "stdout",
          "output_type": "stream",
          "text": [
            "generated dataset n=5\n"
          ]
        },
        {
          "name": "stderr",
          "output_type": "stream",
          "text": [
            "\rClassifying Labels:  41%|████      | 62/153 [01:44<03:24,  2.25s/it]"
          ]
        },
        {
          "name": "stdout",
          "output_type": "stream",
          "text": [
            "generated dataset n=5\n"
          ]
        },
        {
          "name": "stderr",
          "output_type": "stream",
          "text": [
            "\rClassifying Labels:  41%|████      | 63/153 [01:45<03:02,  2.02s/it]"
          ]
        },
        {
          "name": "stdout",
          "output_type": "stream",
          "text": [
            "generated dataset n=5\n"
          ]
        },
        {
          "name": "stderr",
          "output_type": "stream",
          "text": [
            "\rClassifying Labels:  42%|████▏     | 64/153 [01:47<02:46,  1.87s/it]"
          ]
        },
        {
          "name": "stdout",
          "output_type": "stream",
          "text": [
            "generated dataset n=5\n"
          ]
        },
        {
          "name": "stderr",
          "output_type": "stream",
          "text": [
            "\rClassifying Labels:  42%|████▏     | 65/153 [01:48<02:35,  1.76s/it]"
          ]
        },
        {
          "name": "stdout",
          "output_type": "stream",
          "text": [
            "generated dataset n=5\n"
          ]
        },
        {
          "name": "stderr",
          "output_type": "stream",
          "text": [
            "\rClassifying Labels:  43%|████▎     | 66/153 [01:50<02:27,  1.69s/it]"
          ]
        },
        {
          "name": "stdout",
          "output_type": "stream",
          "text": [
            "generated dataset n=5\n"
          ]
        },
        {
          "name": "stderr",
          "output_type": "stream",
          "text": [
            "\rClassifying Labels:  44%|████▍     | 67/153 [01:52<02:20,  1.63s/it]"
          ]
        },
        {
          "name": "stdout",
          "output_type": "stream",
          "text": [
            "generated dataset n=5\n"
          ]
        },
        {
          "name": "stderr",
          "output_type": "stream",
          "text": [
            "\rClassifying Labels:  44%|████▍     | 68/153 [01:53<02:15,  1.60s/it]"
          ]
        },
        {
          "name": "stdout",
          "output_type": "stream",
          "text": [
            "generated dataset n=5\n"
          ]
        },
        {
          "name": "stderr",
          "output_type": "stream",
          "text": [
            "\rClassifying Labels:  45%|████▌     | 69/153 [01:55<02:30,  1.79s/it]"
          ]
        },
        {
          "name": "stdout",
          "output_type": "stream",
          "text": [
            "generated dataset n=5\n"
          ]
        },
        {
          "name": "stderr",
          "output_type": "stream",
          "text": [
            "\rClassifying Labels:  46%|████▌     | 70/153 [01:57<02:29,  1.80s/it]"
          ]
        },
        {
          "name": "stdout",
          "output_type": "stream",
          "text": [
            "generated dataset n=5\n"
          ]
        },
        {
          "name": "stderr",
          "output_type": "stream",
          "text": [
            "\rClassifying Labels:  46%|████▋     | 71/153 [01:59<02:21,  1.73s/it]"
          ]
        },
        {
          "name": "stdout",
          "output_type": "stream",
          "text": [
            "generated dataset n=5\n"
          ]
        },
        {
          "name": "stderr",
          "output_type": "stream",
          "text": [
            "\rClassifying Labels:  47%|████▋     | 72/153 [02:00<02:15,  1.67s/it]"
          ]
        },
        {
          "name": "stdout",
          "output_type": "stream",
          "text": [
            "generated dataset n=5\n"
          ]
        },
        {
          "name": "stderr",
          "output_type": "stream",
          "text": [
            "\rClassifying Labels:  48%|████▊     | 73/153 [02:02<02:09,  1.62s/it]"
          ]
        },
        {
          "name": "stdout",
          "output_type": "stream",
          "text": [
            "generated dataset n=5\n"
          ]
        },
        {
          "name": "stderr",
          "output_type": "stream",
          "text": [
            "\rClassifying Labels:  48%|████▊     | 74/153 [02:03<02:05,  1.58s/it]"
          ]
        },
        {
          "name": "stdout",
          "output_type": "stream",
          "text": [
            "generated dataset n=5\n"
          ]
        },
        {
          "name": "stderr",
          "output_type": "stream",
          "text": [
            "\rClassifying Labels:  49%|████▉     | 75/153 [02:05<02:01,  1.56s/it]"
          ]
        },
        {
          "name": "stdout",
          "output_type": "stream",
          "text": [
            "generated dataset n=5\n"
          ]
        },
        {
          "name": "stderr",
          "output_type": "stream",
          "text": [
            "\rClassifying Labels:  50%|████▉     | 76/153 [02:06<01:58,  1.54s/it]"
          ]
        },
        {
          "name": "stdout",
          "output_type": "stream",
          "text": [
            "generated dataset n=5\n"
          ]
        },
        {
          "name": "stderr",
          "output_type": "stream",
          "text": [
            "\rClassifying Labels:  50%|█████     | 77/153 [02:08<02:13,  1.76s/it]"
          ]
        },
        {
          "name": "stdout",
          "output_type": "stream",
          "text": [
            "generated dataset n=5\n"
          ]
        },
        {
          "name": "stderr",
          "output_type": "stream",
          "text": [
            "\rClassifying Labels:  51%|█████     | 78/153 [02:10<02:13,  1.77s/it]"
          ]
        },
        {
          "name": "stdout",
          "output_type": "stream",
          "text": [
            "generated dataset n=5\n"
          ]
        },
        {
          "name": "stderr",
          "output_type": "stream",
          "text": [
            "\rClassifying Labels:  52%|█████▏    | 79/153 [02:12<02:05,  1.69s/it]"
          ]
        },
        {
          "name": "stdout",
          "output_type": "stream",
          "text": [
            "generated dataset n=5\n"
          ]
        },
        {
          "name": "stderr",
          "output_type": "stream",
          "text": [
            "\rClassifying Labels:  52%|█████▏    | 80/153 [02:13<01:59,  1.64s/it]"
          ]
        },
        {
          "name": "stdout",
          "output_type": "stream",
          "text": [
            "generated dataset n=5\n"
          ]
        },
        {
          "name": "stderr",
          "output_type": "stream",
          "text": [
            "\rClassifying Labels:  53%|█████▎    | 81/153 [02:15<01:55,  1.60s/it]"
          ]
        },
        {
          "name": "stdout",
          "output_type": "stream",
          "text": [
            "generated dataset n=5\n"
          ]
        },
        {
          "name": "stderr",
          "output_type": "stream",
          "text": [
            "\rClassifying Labels:  54%|█████▎    | 82/153 [02:16<01:51,  1.58s/it]"
          ]
        },
        {
          "name": "stdout",
          "output_type": "stream",
          "text": [
            "generated dataset n=5\n"
          ]
        },
        {
          "name": "stderr",
          "output_type": "stream",
          "text": [
            "\rClassifying Labels:  54%|█████▍    | 83/153 [02:18<01:48,  1.55s/it]"
          ]
        },
        {
          "name": "stdout",
          "output_type": "stream",
          "text": [
            "generated dataset n=5\n"
          ]
        },
        {
          "name": "stderr",
          "output_type": "stream",
          "text": [
            "\rClassifying Labels:  55%|█████▍    | 84/153 [02:19<01:48,  1.57s/it]"
          ]
        },
        {
          "name": "stdout",
          "output_type": "stream",
          "text": [
            "generated dataset n=5\n"
          ]
        },
        {
          "name": "stderr",
          "output_type": "stream",
          "text": [
            "\rClassifying Labels:  56%|█████▌    | 85/153 [02:22<02:02,  1.81s/it]"
          ]
        },
        {
          "name": "stdout",
          "output_type": "stream",
          "text": [
            "generated dataset n=5\n"
          ]
        },
        {
          "name": "stderr",
          "output_type": "stream",
          "text": [
            "\rClassifying Labels:  56%|█████▌    | 86/153 [02:23<01:59,  1.78s/it]"
          ]
        },
        {
          "name": "stdout",
          "output_type": "stream",
          "text": [
            "generated dataset n=5\n"
          ]
        },
        {
          "name": "stderr",
          "output_type": "stream",
          "text": [
            "\rClassifying Labels:  57%|█████▋    | 87/153 [02:25<01:51,  1.70s/it]"
          ]
        },
        {
          "name": "stdout",
          "output_type": "stream",
          "text": [
            "generated dataset n=5\n"
          ]
        },
        {
          "name": "stderr",
          "output_type": "stream",
          "text": [
            "\rClassifying Labels:  58%|█████▊    | 88/153 [02:27<01:47,  1.65s/it]"
          ]
        },
        {
          "name": "stdout",
          "output_type": "stream",
          "text": [
            "generated dataset n=5\n"
          ]
        },
        {
          "name": "stderr",
          "output_type": "stream",
          "text": [
            "\rClassifying Labels:  58%|█████▊    | 89/153 [02:28<01:42,  1.60s/it]"
          ]
        },
        {
          "name": "stdout",
          "output_type": "stream",
          "text": [
            "generated dataset n=5\n"
          ]
        },
        {
          "name": "stderr",
          "output_type": "stream",
          "text": [
            "\rClassifying Labels:  59%|█████▉    | 90/153 [02:30<01:39,  1.58s/it]"
          ]
        },
        {
          "name": "stdout",
          "output_type": "stream",
          "text": [
            "generated dataset n=5\n"
          ]
        },
        {
          "name": "stderr",
          "output_type": "stream",
          "text": [
            "\rClassifying Labels:  59%|█████▉    | 91/153 [02:31<01:36,  1.56s/it]"
          ]
        },
        {
          "name": "stdout",
          "output_type": "stream",
          "text": [
            "generated dataset n=5\n"
          ]
        },
        {
          "name": "stderr",
          "output_type": "stream",
          "text": [
            "\rClassifying Labels:  60%|██████    | 92/153 [02:33<01:36,  1.58s/it]"
          ]
        },
        {
          "name": "stdout",
          "output_type": "stream",
          "text": [
            "generated dataset n=5\n"
          ]
        },
        {
          "name": "stderr",
          "output_type": "stream",
          "text": [
            "\rClassifying Labels:  61%|██████    | 93/153 [02:35<01:48,  1.81s/it]"
          ]
        },
        {
          "name": "stdout",
          "output_type": "stream",
          "text": [
            "generated dataset n=5\n"
          ]
        },
        {
          "name": "stderr",
          "output_type": "stream",
          "text": [
            "\rClassifying Labels:  61%|██████▏   | 94/153 [02:37<01:43,  1.76s/it]"
          ]
        },
        {
          "name": "stdout",
          "output_type": "stream",
          "text": [
            "generated dataset n=5\n"
          ]
        },
        {
          "name": "stderr",
          "output_type": "stream",
          "text": [
            "\rClassifying Labels:  62%|██████▏   | 95/153 [02:38<01:37,  1.68s/it]"
          ]
        },
        {
          "name": "stdout",
          "output_type": "stream",
          "text": [
            "generated dataset n=5\n"
          ]
        },
        {
          "name": "stderr",
          "output_type": "stream",
          "text": [
            "\rClassifying Labels:  63%|██████▎   | 96/153 [02:40<01:33,  1.64s/it]"
          ]
        },
        {
          "name": "stdout",
          "output_type": "stream",
          "text": [
            "generated dataset n=5\n"
          ]
        },
        {
          "name": "stderr",
          "output_type": "stream",
          "text": [
            "\rClassifying Labels:  63%|██████▎   | 97/153 [02:41<01:30,  1.61s/it]"
          ]
        },
        {
          "name": "stdout",
          "output_type": "stream",
          "text": [
            "generated dataset n=5\n"
          ]
        },
        {
          "name": "stderr",
          "output_type": "stream",
          "text": [
            "\rClassifying Labels:  64%|██████▍   | 98/153 [02:43<01:26,  1.58s/it]"
          ]
        },
        {
          "name": "stdout",
          "output_type": "stream",
          "text": [
            "generated dataset n=5\n"
          ]
        },
        {
          "name": "stderr",
          "output_type": "stream",
          "text": [
            "\rClassifying Labels:  65%|██████▍   | 99/153 [02:44<01:24,  1.57s/it]"
          ]
        },
        {
          "name": "stdout",
          "output_type": "stream",
          "text": [
            "generated dataset n=5\n"
          ]
        },
        {
          "name": "stderr",
          "output_type": "stream",
          "text": [
            "\rClassifying Labels:  65%|██████▌   | 100/153 [02:46<01:29,  1.68s/it]"
          ]
        },
        {
          "name": "stdout",
          "output_type": "stream",
          "text": [
            "generated dataset n=5\n"
          ]
        },
        {
          "name": "stderr",
          "output_type": "stream",
          "text": [
            "\rClassifying Labels:  66%|██████▌   | 101/153 [02:49<01:36,  1.86s/it]"
          ]
        },
        {
          "name": "stdout",
          "output_type": "stream",
          "text": [
            "generated dataset n=5\n"
          ]
        },
        {
          "name": "stderr",
          "output_type": "stream",
          "text": [
            "\rClassifying Labels:  67%|██████▋   | 102/153 [02:50<01:29,  1.76s/it]"
          ]
        },
        {
          "name": "stdout",
          "output_type": "stream",
          "text": [
            "generated dataset n=5\n"
          ]
        },
        {
          "name": "stderr",
          "output_type": "stream",
          "text": [
            "\rClassifying Labels:  67%|██████▋   | 103/153 [02:52<01:24,  1.68s/it]"
          ]
        },
        {
          "name": "stdout",
          "output_type": "stream",
          "text": [
            "generated dataset n=5\n"
          ]
        },
        {
          "name": "stderr",
          "output_type": "stream",
          "text": [
            "\rClassifying Labels:  68%|██████▊   | 104/153 [02:53<01:20,  1.64s/it]"
          ]
        },
        {
          "name": "stdout",
          "output_type": "stream",
          "text": [
            "generated dataset n=5\n"
          ]
        },
        {
          "name": "stderr",
          "output_type": "stream",
          "text": [
            "\rClassifying Labels:  69%|██████▊   | 105/153 [02:55<01:17,  1.61s/it]"
          ]
        },
        {
          "name": "stdout",
          "output_type": "stream",
          "text": [
            "generated dataset n=5\n"
          ]
        },
        {
          "name": "stderr",
          "output_type": "stream",
          "text": [
            "\rClassifying Labels:  69%|██████▉   | 106/153 [02:56<01:14,  1.58s/it]"
          ]
        },
        {
          "name": "stdout",
          "output_type": "stream",
          "text": [
            "generated dataset n=5\n"
          ]
        },
        {
          "name": "stderr",
          "output_type": "stream",
          "text": [
            "\rClassifying Labels:  70%|██████▉   | 107/153 [02:58<01:11,  1.56s/it]"
          ]
        },
        {
          "name": "stdout",
          "output_type": "stream",
          "text": [
            "generated dataset n=5\n"
          ]
        },
        {
          "name": "stderr",
          "output_type": "stream",
          "text": [
            "\rClassifying Labels:  71%|███████   | 108/153 [03:00<01:15,  1.67s/it]"
          ]
        },
        {
          "name": "stdout",
          "output_type": "stream",
          "text": [
            "generated dataset n=5\n"
          ]
        },
        {
          "name": "stderr",
          "output_type": "stream",
          "text": [
            "\rClassifying Labels:  71%|███████   | 109/153 [03:02<01:20,  1.83s/it]"
          ]
        },
        {
          "name": "stdout",
          "output_type": "stream",
          "text": [
            "generated dataset n=5\n"
          ]
        },
        {
          "name": "stderr",
          "output_type": "stream",
          "text": [
            "\rClassifying Labels:  72%|███████▏  | 110/153 [03:03<01:14,  1.73s/it]"
          ]
        },
        {
          "name": "stdout",
          "output_type": "stream",
          "text": [
            "generated dataset n=5\n"
          ]
        },
        {
          "name": "stderr",
          "output_type": "stream",
          "text": [
            "\rClassifying Labels:  73%|███████▎  | 111/153 [03:05<01:10,  1.67s/it]"
          ]
        },
        {
          "name": "stdout",
          "output_type": "stream",
          "text": [
            "generated dataset n=5\n"
          ]
        },
        {
          "name": "stderr",
          "output_type": "stream",
          "text": [
            "\rClassifying Labels:  73%|███████▎  | 112/153 [03:06<01:06,  1.63s/it]"
          ]
        },
        {
          "name": "stdout",
          "output_type": "stream",
          "text": [
            "generated dataset n=5\n"
          ]
        },
        {
          "name": "stderr",
          "output_type": "stream",
          "text": [
            "\rClassifying Labels:  74%|███████▍  | 113/153 [03:08<01:03,  1.58s/it]"
          ]
        },
        {
          "name": "stdout",
          "output_type": "stream",
          "text": [
            "generated dataset n=5\n"
          ]
        },
        {
          "name": "stderr",
          "output_type": "stream",
          "text": [
            "\rClassifying Labels:  75%|███████▍  | 114/153 [03:09<01:01,  1.57s/it]"
          ]
        },
        {
          "name": "stdout",
          "output_type": "stream",
          "text": [
            "generated dataset n=5\n"
          ]
        },
        {
          "name": "stderr",
          "output_type": "stream",
          "text": [
            "\rClassifying Labels:  75%|███████▌  | 115/153 [03:11<00:59,  1.55s/it]"
          ]
        },
        {
          "name": "stdout",
          "output_type": "stream",
          "text": [
            "generated dataset n=5\n"
          ]
        },
        {
          "name": "stderr",
          "output_type": "stream",
          "text": [
            "\rClassifying Labels:  76%|███████▌  | 116/153 [03:13<01:02,  1.70s/it]"
          ]
        },
        {
          "name": "stdout",
          "output_type": "stream",
          "text": [
            "generated dataset n=5\n"
          ]
        },
        {
          "name": "stderr",
          "output_type": "stream",
          "text": [
            "\rClassifying Labels:  76%|███████▋  | 117/153 [03:15<01:04,  1.80s/it]"
          ]
        },
        {
          "name": "stdout",
          "output_type": "stream",
          "text": [
            "generated dataset n=5\n"
          ]
        },
        {
          "name": "stderr",
          "output_type": "stream",
          "text": [
            "\rClassifying Labels:  77%|███████▋  | 118/153 [03:17<01:00,  1.73s/it]"
          ]
        },
        {
          "name": "stdout",
          "output_type": "stream",
          "text": [
            "generated dataset n=5\n"
          ]
        },
        {
          "name": "stderr",
          "output_type": "stream",
          "text": [
            "\rClassifying Labels:  78%|███████▊  | 119/153 [03:18<00:56,  1.67s/it]"
          ]
        },
        {
          "name": "stdout",
          "output_type": "stream",
          "text": [
            "generated dataset n=5\n"
          ]
        },
        {
          "name": "stderr",
          "output_type": "stream",
          "text": [
            "\rClassifying Labels:  78%|███████▊  | 120/153 [03:20<00:53,  1.63s/it]"
          ]
        },
        {
          "name": "stdout",
          "output_type": "stream",
          "text": [
            "generated dataset n=5\n"
          ]
        },
        {
          "name": "stderr",
          "output_type": "stream",
          "text": [
            "\rClassifying Labels:  79%|███████▉  | 121/153 [03:21<00:51,  1.60s/it]"
          ]
        },
        {
          "name": "stdout",
          "output_type": "stream",
          "text": [
            "generated dataset n=5\n"
          ]
        },
        {
          "name": "stderr",
          "output_type": "stream",
          "text": [
            "\rClassifying Labels:  80%|███████▉  | 122/153 [03:23<00:48,  1.57s/it]"
          ]
        },
        {
          "name": "stdout",
          "output_type": "stream",
          "text": [
            "generated dataset n=5\n"
          ]
        },
        {
          "name": "stderr",
          "output_type": "stream",
          "text": [
            "\rClassifying Labels:  80%|████████  | 123/153 [03:24<00:46,  1.55s/it]"
          ]
        },
        {
          "name": "stdout",
          "output_type": "stream",
          "text": [
            "generated dataset n=5\n"
          ]
        },
        {
          "name": "stderr",
          "output_type": "stream",
          "text": [
            "\rClassifying Labels:  81%|████████  | 124/153 [03:26<00:50,  1.75s/it]"
          ]
        },
        {
          "name": "stdout",
          "output_type": "stream",
          "text": [
            "generated dataset n=5\n"
          ]
        },
        {
          "name": "stderr",
          "output_type": "stream",
          "text": [
            "\rClassifying Labels:  82%|████████▏ | 125/153 [03:28<00:50,  1.80s/it]"
          ]
        },
        {
          "name": "stdout",
          "output_type": "stream",
          "text": [
            "generated dataset n=5\n"
          ]
        },
        {
          "name": "stderr",
          "output_type": "stream",
          "text": [
            "\rClassifying Labels:  82%|████████▏ | 126/153 [03:30<00:46,  1.72s/it]"
          ]
        },
        {
          "name": "stdout",
          "output_type": "stream",
          "text": [
            "generated dataset n=5\n"
          ]
        },
        {
          "name": "stderr",
          "output_type": "stream",
          "text": [
            "\rClassifying Labels:  83%|████████▎ | 127/153 [03:31<00:43,  1.67s/it]"
          ]
        },
        {
          "name": "stdout",
          "output_type": "stream",
          "text": [
            "generated dataset n=5\n"
          ]
        },
        {
          "name": "stderr",
          "output_type": "stream",
          "text": [
            "\rClassifying Labels:  84%|████████▎ | 128/153 [03:33<00:40,  1.62s/it]"
          ]
        },
        {
          "name": "stdout",
          "output_type": "stream",
          "text": [
            "generated dataset n=5\n"
          ]
        },
        {
          "name": "stderr",
          "output_type": "stream",
          "text": [
            "\rClassifying Labels:  84%|████████▍ | 129/153 [03:34<00:38,  1.59s/it]"
          ]
        },
        {
          "name": "stdout",
          "output_type": "stream",
          "text": [
            "generated dataset n=5\n"
          ]
        },
        {
          "name": "stderr",
          "output_type": "stream",
          "text": [
            "\rClassifying Labels:  85%|████████▍ | 130/153 [03:36<00:36,  1.57s/it]"
          ]
        },
        {
          "name": "stdout",
          "output_type": "stream",
          "text": [
            "generated dataset n=5\n"
          ]
        },
        {
          "name": "stderr",
          "output_type": "stream",
          "text": [
            "\rClassifying Labels:  86%|████████▌ | 131/153 [03:37<00:34,  1.56s/it]"
          ]
        },
        {
          "name": "stdout",
          "output_type": "stream",
          "text": [
            "generated dataset n=5\n"
          ]
        },
        {
          "name": "stderr",
          "output_type": "stream",
          "text": [
            "\rClassifying Labels:  86%|████████▋ | 132/153 [03:40<00:37,  1.81s/it]"
          ]
        },
        {
          "name": "stdout",
          "output_type": "stream",
          "text": [
            "generated dataset n=5\n"
          ]
        },
        {
          "name": "stderr",
          "output_type": "stream",
          "text": [
            "\rClassifying Labels:  87%|████████▋ | 133/153 [03:42<00:36,  1.80s/it]"
          ]
        },
        {
          "name": "stdout",
          "output_type": "stream",
          "text": [
            "generated dataset n=5\n"
          ]
        },
        {
          "name": "stderr",
          "output_type": "stream",
          "text": [
            "\rClassifying Labels:  88%|████████▊ | 134/153 [03:43<00:32,  1.72s/it]"
          ]
        },
        {
          "name": "stdout",
          "output_type": "stream",
          "text": [
            "generated dataset n=5\n"
          ]
        },
        {
          "name": "stderr",
          "output_type": "stream",
          "text": [
            "\rClassifying Labels:  88%|████████▊ | 135/153 [03:45<00:29,  1.66s/it]"
          ]
        },
        {
          "name": "stdout",
          "output_type": "stream",
          "text": [
            "generated dataset n=5\n"
          ]
        },
        {
          "name": "stderr",
          "output_type": "stream",
          "text": [
            "\rClassifying Labels:  89%|████████▉ | 136/153 [03:46<00:27,  1.63s/it]"
          ]
        },
        {
          "name": "stdout",
          "output_type": "stream",
          "text": [
            "generated dataset n=5\n"
          ]
        },
        {
          "name": "stderr",
          "output_type": "stream",
          "text": [
            "\rClassifying Labels:  90%|████████▉ | 137/153 [03:48<00:25,  1.59s/it]"
          ]
        },
        {
          "name": "stdout",
          "output_type": "stream",
          "text": [
            "generated dataset n=5\n"
          ]
        },
        {
          "name": "stderr",
          "output_type": "stream",
          "text": [
            "\rClassifying Labels:  90%|█████████ | 138/153 [03:49<00:23,  1.59s/it]"
          ]
        },
        {
          "name": "stdout",
          "output_type": "stream",
          "text": [
            "generated dataset n=5\n"
          ]
        },
        {
          "name": "stderr",
          "output_type": "stream",
          "text": [
            "\rClassifying Labels:  91%|█████████ | 139/153 [03:51<00:22,  1.62s/it]"
          ]
        },
        {
          "name": "stdout",
          "output_type": "stream",
          "text": [
            "generated dataset n=5\n"
          ]
        },
        {
          "name": "stderr",
          "output_type": "stream",
          "text": [
            "\rClassifying Labels:  92%|█████████▏| 140/153 [03:53<00:24,  1.85s/it]"
          ]
        },
        {
          "name": "stdout",
          "output_type": "stream",
          "text": [
            "generated dataset n=5\n"
          ]
        },
        {
          "name": "stderr",
          "output_type": "stream",
          "text": [
            "\rClassifying Labels:  92%|█████████▏| 141/153 [03:55<00:21,  1.77s/it]"
          ]
        },
        {
          "name": "stdout",
          "output_type": "stream",
          "text": [
            "generated dataset n=5\n"
          ]
        },
        {
          "name": "stderr",
          "output_type": "stream",
          "text": [
            "\rClassifying Labels:  93%|█████████▎| 142/153 [03:56<00:18,  1.70s/it]"
          ]
        },
        {
          "name": "stdout",
          "output_type": "stream",
          "text": [
            "generated dataset n=5\n"
          ]
        },
        {
          "name": "stderr",
          "output_type": "stream",
          "text": [
            "\rClassifying Labels:  93%|█████████▎| 143/153 [03:58<00:16,  1.65s/it]"
          ]
        },
        {
          "name": "stdout",
          "output_type": "stream",
          "text": [
            "generated dataset n=5\n"
          ]
        },
        {
          "name": "stderr",
          "output_type": "stream",
          "text": [
            "\rClassifying Labels:  94%|█████████▍| 144/153 [04:00<00:14,  1.61s/it]"
          ]
        },
        {
          "name": "stdout",
          "output_type": "stream",
          "text": [
            "generated dataset n=5\n"
          ]
        },
        {
          "name": "stderr",
          "output_type": "stream",
          "text": [
            "\rClassifying Labels:  95%|█████████▍| 145/153 [04:01<00:12,  1.59s/it]"
          ]
        },
        {
          "name": "stdout",
          "output_type": "stream",
          "text": [
            "generated dataset n=5\n"
          ]
        },
        {
          "name": "stderr",
          "output_type": "stream",
          "text": [
            "\rClassifying Labels:  95%|█████████▌| 146/153 [04:03<00:10,  1.57s/it]"
          ]
        },
        {
          "name": "stdout",
          "output_type": "stream",
          "text": [
            "generated dataset n=5\n"
          ]
        },
        {
          "name": "stderr",
          "output_type": "stream",
          "text": [
            "\rClassifying Labels:  96%|█████████▌| 147/153 [04:04<00:09,  1.65s/it]"
          ]
        },
        {
          "name": "stdout",
          "output_type": "stream",
          "text": [
            "generated dataset n=5\n"
          ]
        },
        {
          "name": "stderr",
          "output_type": "stream",
          "text": [
            "\rClassifying Labels:  97%|█████████▋| 148/153 [04:07<00:09,  1.84s/it]"
          ]
        },
        {
          "name": "stdout",
          "output_type": "stream",
          "text": [
            "generated dataset n=5\n"
          ]
        },
        {
          "name": "stderr",
          "output_type": "stream",
          "text": [
            "\rClassifying Labels:  97%|█████████▋| 149/153 [04:08<00:06,  1.74s/it]"
          ]
        },
        {
          "name": "stdout",
          "output_type": "stream",
          "text": [
            "generated dataset n=5\n"
          ]
        },
        {
          "name": "stderr",
          "output_type": "stream",
          "text": [
            "\rClassifying Labels:  98%|█████████▊| 150/153 [04:10<00:05,  1.68s/it]"
          ]
        },
        {
          "name": "stdout",
          "output_type": "stream",
          "text": [
            "generated dataset n=5\n"
          ]
        },
        {
          "name": "stderr",
          "output_type": "stream",
          "text": [
            "\rClassifying Labels:  99%|█████████▊| 151/153 [04:11<00:03,  1.64s/it]"
          ]
        },
        {
          "name": "stdout",
          "output_type": "stream",
          "text": [
            "generated dataset n=5\n"
          ]
        },
        {
          "name": "stderr",
          "output_type": "stream",
          "text": [
            "\rClassifying Labels:  99%|█████████▉| 152/153 [04:13<00:01,  1.62s/it]"
          ]
        },
        {
          "name": "stdout",
          "output_type": "stream",
          "text": [
            "generated dataset n=5\n"
          ]
        },
        {
          "name": "stderr",
          "output_type": "stream",
          "text": [
            "Classifying Labels: 100%|██████████| 153/153 [04:14<00:00,  1.67s/it]"
          ]
        },
        {
          "name": "stdout",
          "output_type": "stream",
          "text": [
            "generated dataset n=5\n"
          ]
        },
        {
          "name": "stderr",
          "output_type": "stream",
          "text": [
            "\n"
          ]
        },
        {
          "name": "stdout",
          "output_type": "stream",
          "text": [
            "Saved final prediction to /content/drive/MyDrive/COMP90042/data/test-claims-predictions.json\n"
          ]
        }
      ],
      "source": [
        "#  Label Classification Inference\n",
        "def run_classification(model, tokenizer, retrieval_results):\n",
        "    label_map = {0: \"REFUTES\", 1: \"NOT_ENOUGH_INFO\", 2: \"SUPPORTS\", 3: \"DISPUTED\"}\n",
        "    runner = InferenceRunner(model, tokenizer)\n",
        "\n",
        "    final_labels = retrieval_results.copy()\n",
        "    for cid, record in tqdm(retrieval_results.items(), desc=\"Classifying Labels\"):\n",
        "        claim_text = record[\"claim_text\"]\n",
        "        evidences = record[\"evidences\"]\n",
        "        inputs = [(claim_text, eid) for eid in evidences]\n",
        "\n",
        "        dataset = LabelClassificationDataset(\n",
        "            claim_id=cid,\n",
        "            claims_paths=[RESULT_DIR / \"bert_retriver_claim_evidence.json\"],\n",
        "            evidence_path=EVIDENCE_FILE,\n",
        "            training=False,\n",
        "            verbose=False\n",
        "        )\n",
        "        loader = DataLoader(dataset, batch_size=16, shuffle=False)\n",
        "\n",
        "        all_preds = []\n",
        "        for batch in loader:\n",
        "            claims, evidences, labels, *_ = batch\n",
        "            input_pairs = list(zip(claims, evidences))\n",
        "            probs = runner.predict_scores(input_pairs)\n",
        "            preds = torch.argmax(probs, dim=1).tolist()\n",
        "            all_preds.extend(preds)\n",
        "\n",
        "        if 2 in all_preds and 0 in all_preds:\n",
        "            final_labels[cid][\"claim_label\"] = label_map[3]\n",
        "        elif 2 in all_preds:\n",
        "            final_labels[cid][\"claim_label\"] = label_map[2]\n",
        "        elif 0 in all_preds:\n",
        "            final_labels[cid][\"claim_label\"] = label_map[0]\n",
        "        else:\n",
        "            final_labels[cid][\"claim_label\"] = label_map[1]\n",
        "\n",
        "    with open(FINAL_OUTPUT, \"w\") as f:\n",
        "        json.dump(final_labels, f)\n",
        "        print(f\"Saved final prediction to {FINAL_OUTPUT}\")\n",
        "\n",
        "\n",
        "# Load and run classification\n",
        "LABEL_MODEL_PATH = RESULT_DIR / \"bert_base_label_2025_0524_084428.pth\"\n",
        "RETRIEVAL_RESULT_PATH = RESULT_DIR / \"bert_retriver_claim_evidence.json\"\n",
        "classification_model = BertLabelClassifier()\n",
        "classification_model.load_state_dict(torch.load(LABEL_MODEL_PATH, map_location=DEVICE))\n",
        "classification_model.to(DEVICE)\n",
        "classification_model.eval()\n",
        "classification_tokenizer = BertTokenizer.from_pretrained(\"bert-base-uncased\")\n",
        "\n",
        "\n",
        "with open(RETRIEVAL_RESULT_PATH, \"r\") as f:\n",
        "    retrieval_results_dict = json.load(f)\n",
        "run_classification(classification_model, classification_tokenizer, retrieval_results_dict)"
      ]
    },
    {
      "cell_type": "markdown",
      "id": "b42e2c1f",
      "metadata": {
        "id": "b42e2c1f"
      },
      "source": [
        "### Final Predictions\n",
        "\n",
        "The final output, `final_predictions`, is a dictionary mapping each test claim ID to one of the labels:\n",
        "\n",
        "- `SUPPORTS`  \n",
        "- `REFUTES`  \n",
        "- `NOT_ENOUGH_INFO`  \n",
        "- `DISPUTED`  \n",
        "\n",
        "We have now completed the claim verification pipeline:\n",
        "\n",
        "- Retrieved evidence for each claim using a trained retrieval model  \n",
        "- Classified each claim based on its evidence  \n",
        "- Handled `DISPUTED` cases by detecting conflicting evidence predictions  \n",
        "\n",
        "This end-to-end approach combines information retrieval with natural language understanding.\n",
        "\n",
        "The final predictions are saved in `test-claims-predictions.json`.  \n",
        "They can be evaluated against ground-truth labels, submitted to a leaderboard, or used in further analysis."
      ]
    },
    {
      "cell_type": "markdown",
      "id": "4eec25da",
      "metadata": {},
      "source": []
    }
  ],
  "metadata": {
    "colab": {
      "provenance": []
    },
    "kernelspec": {
      "display_name": "Python 3",
      "name": "python3"
    },
    "language_info": {
      "codemirror_mode": {
        "name": "ipython",
        "version": 3
      },
      "file_extension": ".py",
      "mimetype": "text/x-python",
      "name": "python",
      "nbconvert_exporter": "python",
      "pygments_lexer": "ipython3",
      "version": "3.8.20"
    },
    "widgets": {
      "application/vnd.jupyter.widget-state+json": {
        "0d1c86cf328f4949be7b5782eb660122": {
          "model_module": "@jupyter-widgets/controls",
          "model_module_version": "1.5.0",
          "model_name": "HTMLModel",
          "state": {
            "_dom_classes": [],
            "_model_module": "@jupyter-widgets/controls",
            "_model_module_version": "1.5.0",
            "_model_name": "HTMLModel",
            "_view_count": null,
            "_view_module": "@jupyter-widgets/controls",
            "_view_module_version": "1.5.0",
            "_view_name": "HTMLView",
            "description": "",
            "description_tooltip": null,
            "layout": "IPY_MODEL_1096345bd8054a819a2c1bc8e9a4547d",
            "placeholder": "​",
            "style": "IPY_MODEL_b6b0fa0f0495460896611d48a618a766",
            "value": " 1228/1228 [00:00&lt;00:00, 4360.25it/s]"
          }
        },
        "1096345bd8054a819a2c1bc8e9a4547d": {
          "model_module": "@jupyter-widgets/base",
          "model_module_version": "1.2.0",
          "model_name": "LayoutModel",
          "state": {
            "_model_module": "@jupyter-widgets/base",
            "_model_module_version": "1.2.0",
            "_model_name": "LayoutModel",
            "_view_count": null,
            "_view_module": "@jupyter-widgets/base",
            "_view_module_version": "1.2.0",
            "_view_name": "LayoutView",
            "align_content": null,
            "align_items": null,
            "align_self": null,
            "border": null,
            "bottom": null,
            "display": null,
            "flex": null,
            "flex_flow": null,
            "grid_area": null,
            "grid_auto_columns": null,
            "grid_auto_flow": null,
            "grid_auto_rows": null,
            "grid_column": null,
            "grid_gap": null,
            "grid_row": null,
            "grid_template_areas": null,
            "grid_template_columns": null,
            "grid_template_rows": null,
            "height": null,
            "justify_content": null,
            "justify_items": null,
            "left": null,
            "margin": null,
            "max_height": null,
            "max_width": null,
            "min_height": null,
            "min_width": null,
            "object_fit": null,
            "object_position": null,
            "order": null,
            "overflow": null,
            "overflow_x": null,
            "overflow_y": null,
            "padding": null,
            "right": null,
            "top": null,
            "visibility": null,
            "width": null
          }
        },
        "20cfca267808419eab212775561b7476": {
          "model_module": "@jupyter-widgets/controls",
          "model_module_version": "1.5.0",
          "model_name": "DescriptionStyleModel",
          "state": {
            "_model_module": "@jupyter-widgets/controls",
            "_model_module_version": "1.5.0",
            "_model_name": "DescriptionStyleModel",
            "_view_count": null,
            "_view_module": "@jupyter-widgets/base",
            "_view_module_version": "1.2.0",
            "_view_name": "StyleView",
            "description_width": ""
          }
        },
        "23da8a4411954177a94509865344c351": {
          "model_module": "@jupyter-widgets/controls",
          "model_module_version": "1.5.0",
          "model_name": "HTMLModel",
          "state": {
            "_dom_classes": [],
            "_model_module": "@jupyter-widgets/controls",
            "_model_module_version": "1.5.0",
            "_model_name": "HTMLModel",
            "_view_count": null,
            "_view_module": "@jupyter-widgets/controls",
            "_view_module_version": "1.5.0",
            "_view_name": "HTMLView",
            "description": "",
            "description_tooltip": null,
            "layout": "IPY_MODEL_d254a10524aa419289d1f0d8a1fc8488",
            "placeholder": "​",
            "style": "IPY_MODEL_773fadb3e0db4d519cb1a4a672a4981a",
            "value": "Building samples: 100%"
          }
        },
        "2a0a3dbd3a39485b93443010fff65542": {
          "model_module": "@jupyter-widgets/base",
          "model_module_version": "1.2.0",
          "model_name": "LayoutModel",
          "state": {
            "_model_module": "@jupyter-widgets/base",
            "_model_module_version": "1.2.0",
            "_model_name": "LayoutModel",
            "_view_count": null,
            "_view_module": "@jupyter-widgets/base",
            "_view_module_version": "1.2.0",
            "_view_name": "LayoutView",
            "align_content": null,
            "align_items": null,
            "align_self": null,
            "border": null,
            "bottom": null,
            "display": null,
            "flex": null,
            "flex_flow": null,
            "grid_area": null,
            "grid_auto_columns": null,
            "grid_auto_flow": null,
            "grid_auto_rows": null,
            "grid_column": null,
            "grid_gap": null,
            "grid_row": null,
            "grid_template_areas": null,
            "grid_template_columns": null,
            "grid_template_rows": null,
            "height": null,
            "justify_content": null,
            "justify_items": null,
            "left": null,
            "margin": null,
            "max_height": null,
            "max_width": null,
            "min_height": null,
            "min_width": null,
            "object_fit": null,
            "object_position": null,
            "order": null,
            "overflow": null,
            "overflow_x": null,
            "overflow_y": null,
            "padding": null,
            "right": null,
            "top": null,
            "visibility": null,
            "width": null
          }
        },
        "4174d117143144f0816684a9e9e45c53": {
          "model_module": "@jupyter-widgets/controls",
          "model_module_version": "1.5.0",
          "model_name": "FloatProgressModel",
          "state": {
            "_dom_classes": [],
            "_model_module": "@jupyter-widgets/controls",
            "_model_module_version": "1.5.0",
            "_model_name": "FloatProgressModel",
            "_view_count": null,
            "_view_module": "@jupyter-widgets/controls",
            "_view_module_version": "1.5.0",
            "_view_name": "ProgressView",
            "bar_style": "success",
            "description": "",
            "description_tooltip": null,
            "layout": "IPY_MODEL_d2d861d9f9d94ff2a52df551d72da789",
            "max": 1228,
            "min": 0,
            "orientation": "horizontal",
            "style": "IPY_MODEL_61c83def60a7457fa59ab5057f19f298",
            "value": 1228
          }
        },
        "44d535174e554402ae180d5f3ed79747": {
          "model_module": "@jupyter-widgets/controls",
          "model_module_version": "1.5.0",
          "model_name": "ProgressStyleModel",
          "state": {
            "_model_module": "@jupyter-widgets/controls",
            "_model_module_version": "1.5.0",
            "_model_name": "ProgressStyleModel",
            "_view_count": null,
            "_view_module": "@jupyter-widgets/base",
            "_view_module_version": "1.2.0",
            "_view_name": "StyleView",
            "bar_color": null,
            "description_width": ""
          }
        },
        "460e6d7d0458451dbe2af8bba3ef97d7": {
          "model_module": "@jupyter-widgets/controls",
          "model_module_version": "1.5.0",
          "model_name": "FloatProgressModel",
          "state": {
            "_dom_classes": [],
            "_model_module": "@jupyter-widgets/controls",
            "_model_module_version": "1.5.0",
            "_model_name": "FloatProgressModel",
            "_view_count": null,
            "_view_module": "@jupyter-widgets/controls",
            "_view_module_version": "1.5.0",
            "_view_name": "ProgressView",
            "bar_style": "success",
            "description": "",
            "description_tooltip": null,
            "layout": "IPY_MODEL_846fc50eb19f48df8df0a2958da2f3b4",
            "max": 154,
            "min": 0,
            "orientation": "horizontal",
            "style": "IPY_MODEL_44d535174e554402ae180d5f3ed79747",
            "value": 154
          }
        },
        "61c83def60a7457fa59ab5057f19f298": {
          "model_module": "@jupyter-widgets/controls",
          "model_module_version": "1.5.0",
          "model_name": "ProgressStyleModel",
          "state": {
            "_model_module": "@jupyter-widgets/controls",
            "_model_module_version": "1.5.0",
            "_model_name": "ProgressStyleModel",
            "_view_count": null,
            "_view_module": "@jupyter-widgets/base",
            "_view_module_version": "1.2.0",
            "_view_name": "StyleView",
            "bar_color": null,
            "description_width": ""
          }
        },
        "6dc04ea964a040e3b4b080512e0a2921": {
          "model_module": "@jupyter-widgets/controls",
          "model_module_version": "1.5.0",
          "model_name": "HBoxModel",
          "state": {
            "_dom_classes": [],
            "_model_module": "@jupyter-widgets/controls",
            "_model_module_version": "1.5.0",
            "_model_name": "HBoxModel",
            "_view_count": null,
            "_view_module": "@jupyter-widgets/controls",
            "_view_module_version": "1.5.0",
            "_view_name": "HBoxView",
            "box_style": "",
            "children": [
              "IPY_MODEL_23da8a4411954177a94509865344c351",
              "IPY_MODEL_4174d117143144f0816684a9e9e45c53",
              "IPY_MODEL_0d1c86cf328f4949be7b5782eb660122"
            ],
            "layout": "IPY_MODEL_913ce66060d148aeb2e4c54b60b6e248"
          }
        },
        "71c6fa3079754b2fbf1d3443a9f03daa": {
          "model_module": "@jupyter-widgets/base",
          "model_module_version": "1.2.0",
          "model_name": "LayoutModel",
          "state": {
            "_model_module": "@jupyter-widgets/base",
            "_model_module_version": "1.2.0",
            "_model_name": "LayoutModel",
            "_view_count": null,
            "_view_module": "@jupyter-widgets/base",
            "_view_module_version": "1.2.0",
            "_view_name": "LayoutView",
            "align_content": null,
            "align_items": null,
            "align_self": null,
            "border": null,
            "bottom": null,
            "display": null,
            "flex": null,
            "flex_flow": null,
            "grid_area": null,
            "grid_auto_columns": null,
            "grid_auto_flow": null,
            "grid_auto_rows": null,
            "grid_column": null,
            "grid_gap": null,
            "grid_row": null,
            "grid_template_areas": null,
            "grid_template_columns": null,
            "grid_template_rows": null,
            "height": null,
            "justify_content": null,
            "justify_items": null,
            "left": null,
            "margin": null,
            "max_height": null,
            "max_width": null,
            "min_height": null,
            "min_width": null,
            "object_fit": null,
            "object_position": null,
            "order": null,
            "overflow": null,
            "overflow_x": null,
            "overflow_y": null,
            "padding": null,
            "right": null,
            "top": null,
            "visibility": null,
            "width": null
          }
        },
        "773fadb3e0db4d519cb1a4a672a4981a": {
          "model_module": "@jupyter-widgets/controls",
          "model_module_version": "1.5.0",
          "model_name": "DescriptionStyleModel",
          "state": {
            "_model_module": "@jupyter-widgets/controls",
            "_model_module_version": "1.5.0",
            "_model_name": "DescriptionStyleModel",
            "_view_count": null,
            "_view_module": "@jupyter-widgets/base",
            "_view_module_version": "1.2.0",
            "_view_name": "StyleView",
            "description_width": ""
          }
        },
        "77fddf77cf214490976b363439eee40b": {
          "model_module": "@jupyter-widgets/base",
          "model_module_version": "1.2.0",
          "model_name": "LayoutModel",
          "state": {
            "_model_module": "@jupyter-widgets/base",
            "_model_module_version": "1.2.0",
            "_model_name": "LayoutModel",
            "_view_count": null,
            "_view_module": "@jupyter-widgets/base",
            "_view_module_version": "1.2.0",
            "_view_name": "LayoutView",
            "align_content": null,
            "align_items": null,
            "align_self": null,
            "border": null,
            "bottom": null,
            "display": null,
            "flex": null,
            "flex_flow": null,
            "grid_area": null,
            "grid_auto_columns": null,
            "grid_auto_flow": null,
            "grid_auto_rows": null,
            "grid_column": null,
            "grid_gap": null,
            "grid_row": null,
            "grid_template_areas": null,
            "grid_template_columns": null,
            "grid_template_rows": null,
            "height": null,
            "justify_content": null,
            "justify_items": null,
            "left": null,
            "margin": null,
            "max_height": null,
            "max_width": null,
            "min_height": null,
            "min_width": null,
            "object_fit": null,
            "object_position": null,
            "order": null,
            "overflow": null,
            "overflow_x": null,
            "overflow_y": null,
            "padding": null,
            "right": null,
            "top": null,
            "visibility": null,
            "width": null
          }
        },
        "846fc50eb19f48df8df0a2958da2f3b4": {
          "model_module": "@jupyter-widgets/base",
          "model_module_version": "1.2.0",
          "model_name": "LayoutModel",
          "state": {
            "_model_module": "@jupyter-widgets/base",
            "_model_module_version": "1.2.0",
            "_model_name": "LayoutModel",
            "_view_count": null,
            "_view_module": "@jupyter-widgets/base",
            "_view_module_version": "1.2.0",
            "_view_name": "LayoutView",
            "align_content": null,
            "align_items": null,
            "align_self": null,
            "border": null,
            "bottom": null,
            "display": null,
            "flex": null,
            "flex_flow": null,
            "grid_area": null,
            "grid_auto_columns": null,
            "grid_auto_flow": null,
            "grid_auto_rows": null,
            "grid_column": null,
            "grid_gap": null,
            "grid_row": null,
            "grid_template_areas": null,
            "grid_template_columns": null,
            "grid_template_rows": null,
            "height": null,
            "justify_content": null,
            "justify_items": null,
            "left": null,
            "margin": null,
            "max_height": null,
            "max_width": null,
            "min_height": null,
            "min_width": null,
            "object_fit": null,
            "object_position": null,
            "order": null,
            "overflow": null,
            "overflow_x": null,
            "overflow_y": null,
            "padding": null,
            "right": null,
            "top": null,
            "visibility": null,
            "width": null
          }
        },
        "913ce66060d148aeb2e4c54b60b6e248": {
          "model_module": "@jupyter-widgets/base",
          "model_module_version": "1.2.0",
          "model_name": "LayoutModel",
          "state": {
            "_model_module": "@jupyter-widgets/base",
            "_model_module_version": "1.2.0",
            "_model_name": "LayoutModel",
            "_view_count": null,
            "_view_module": "@jupyter-widgets/base",
            "_view_module_version": "1.2.0",
            "_view_name": "LayoutView",
            "align_content": null,
            "align_items": null,
            "align_self": null,
            "border": null,
            "bottom": null,
            "display": null,
            "flex": null,
            "flex_flow": null,
            "grid_area": null,
            "grid_auto_columns": null,
            "grid_auto_flow": null,
            "grid_auto_rows": null,
            "grid_column": null,
            "grid_gap": null,
            "grid_row": null,
            "grid_template_areas": null,
            "grid_template_columns": null,
            "grid_template_rows": null,
            "height": null,
            "justify_content": null,
            "justify_items": null,
            "left": null,
            "margin": null,
            "max_height": null,
            "max_width": null,
            "min_height": null,
            "min_width": null,
            "object_fit": null,
            "object_position": null,
            "order": null,
            "overflow": null,
            "overflow_x": null,
            "overflow_y": null,
            "padding": null,
            "right": null,
            "top": null,
            "visibility": null,
            "width": null
          }
        },
        "a27ce0688cba46d09b0006035b163c1b": {
          "model_module": "@jupyter-widgets/controls",
          "model_module_version": "1.5.0",
          "model_name": "HTMLModel",
          "state": {
            "_dom_classes": [],
            "_model_module": "@jupyter-widgets/controls",
            "_model_module_version": "1.5.0",
            "_model_name": "HTMLModel",
            "_view_count": null,
            "_view_module": "@jupyter-widgets/controls",
            "_view_module_version": "1.5.0",
            "_view_name": "HTMLView",
            "description": "",
            "description_tooltip": null,
            "layout": "IPY_MODEL_2a0a3dbd3a39485b93443010fff65542",
            "placeholder": "​",
            "style": "IPY_MODEL_20cfca267808419eab212775561b7476",
            "value": "Building samples: 100%"
          }
        },
        "b6b0fa0f0495460896611d48a618a766": {
          "model_module": "@jupyter-widgets/controls",
          "model_module_version": "1.5.0",
          "model_name": "DescriptionStyleModel",
          "state": {
            "_model_module": "@jupyter-widgets/controls",
            "_model_module_version": "1.5.0",
            "_model_name": "DescriptionStyleModel",
            "_view_count": null,
            "_view_module": "@jupyter-widgets/base",
            "_view_module_version": "1.2.0",
            "_view_name": "StyleView",
            "description_width": ""
          }
        },
        "b7cc5cd7f4744a7c95109cad3dd0f4fc": {
          "model_module": "@jupyter-widgets/controls",
          "model_module_version": "1.5.0",
          "model_name": "DescriptionStyleModel",
          "state": {
            "_model_module": "@jupyter-widgets/controls",
            "_model_module_version": "1.5.0",
            "_model_name": "DescriptionStyleModel",
            "_view_count": null,
            "_view_module": "@jupyter-widgets/base",
            "_view_module_version": "1.2.0",
            "_view_name": "StyleView",
            "description_width": ""
          }
        },
        "d254a10524aa419289d1f0d8a1fc8488": {
          "model_module": "@jupyter-widgets/base",
          "model_module_version": "1.2.0",
          "model_name": "LayoutModel",
          "state": {
            "_model_module": "@jupyter-widgets/base",
            "_model_module_version": "1.2.0",
            "_model_name": "LayoutModel",
            "_view_count": null,
            "_view_module": "@jupyter-widgets/base",
            "_view_module_version": "1.2.0",
            "_view_name": "LayoutView",
            "align_content": null,
            "align_items": null,
            "align_self": null,
            "border": null,
            "bottom": null,
            "display": null,
            "flex": null,
            "flex_flow": null,
            "grid_area": null,
            "grid_auto_columns": null,
            "grid_auto_flow": null,
            "grid_auto_rows": null,
            "grid_column": null,
            "grid_gap": null,
            "grid_row": null,
            "grid_template_areas": null,
            "grid_template_columns": null,
            "grid_template_rows": null,
            "height": null,
            "justify_content": null,
            "justify_items": null,
            "left": null,
            "margin": null,
            "max_height": null,
            "max_width": null,
            "min_height": null,
            "min_width": null,
            "object_fit": null,
            "object_position": null,
            "order": null,
            "overflow": null,
            "overflow_x": null,
            "overflow_y": null,
            "padding": null,
            "right": null,
            "top": null,
            "visibility": null,
            "width": null
          }
        },
        "d2d861d9f9d94ff2a52df551d72da789": {
          "model_module": "@jupyter-widgets/base",
          "model_module_version": "1.2.0",
          "model_name": "LayoutModel",
          "state": {
            "_model_module": "@jupyter-widgets/base",
            "_model_module_version": "1.2.0",
            "_model_name": "LayoutModel",
            "_view_count": null,
            "_view_module": "@jupyter-widgets/base",
            "_view_module_version": "1.2.0",
            "_view_name": "LayoutView",
            "align_content": null,
            "align_items": null,
            "align_self": null,
            "border": null,
            "bottom": null,
            "display": null,
            "flex": null,
            "flex_flow": null,
            "grid_area": null,
            "grid_auto_columns": null,
            "grid_auto_flow": null,
            "grid_auto_rows": null,
            "grid_column": null,
            "grid_gap": null,
            "grid_row": null,
            "grid_template_areas": null,
            "grid_template_columns": null,
            "grid_template_rows": null,
            "height": null,
            "justify_content": null,
            "justify_items": null,
            "left": null,
            "margin": null,
            "max_height": null,
            "max_width": null,
            "min_height": null,
            "min_width": null,
            "object_fit": null,
            "object_position": null,
            "order": null,
            "overflow": null,
            "overflow_x": null,
            "overflow_y": null,
            "padding": null,
            "right": null,
            "top": null,
            "visibility": null,
            "width": null
          }
        },
        "d8e1db4dbc7b49dab59e14bd62f21773": {
          "model_module": "@jupyter-widgets/controls",
          "model_module_version": "1.5.0",
          "model_name": "HTMLModel",
          "state": {
            "_dom_classes": [],
            "_model_module": "@jupyter-widgets/controls",
            "_model_module_version": "1.5.0",
            "_model_name": "HTMLModel",
            "_view_count": null,
            "_view_module": "@jupyter-widgets/controls",
            "_view_module_version": "1.5.0",
            "_view_name": "HTMLView",
            "description": "",
            "description_tooltip": null,
            "layout": "IPY_MODEL_71c6fa3079754b2fbf1d3443a9f03daa",
            "placeholder": "​",
            "style": "IPY_MODEL_b7cc5cd7f4744a7c95109cad3dd0f4fc",
            "value": " 154/154 [00:00&lt;00:00, 1664.13it/s]"
          }
        },
        "f546f76959fb4fe6ad734c6e00cf08f4": {
          "model_module": "@jupyter-widgets/controls",
          "model_module_version": "1.5.0",
          "model_name": "HBoxModel",
          "state": {
            "_dom_classes": [],
            "_model_module": "@jupyter-widgets/controls",
            "_model_module_version": "1.5.0",
            "_model_name": "HBoxModel",
            "_view_count": null,
            "_view_module": "@jupyter-widgets/controls",
            "_view_module_version": "1.5.0",
            "_view_name": "HBoxView",
            "box_style": "",
            "children": [
              "IPY_MODEL_a27ce0688cba46d09b0006035b163c1b",
              "IPY_MODEL_460e6d7d0458451dbe2af8bba3ef97d7",
              "IPY_MODEL_d8e1db4dbc7b49dab59e14bd62f21773"
            ],
            "layout": "IPY_MODEL_77fddf77cf214490976b363439eee40b"
          }
        }
      }
    }
  },
  "nbformat": 4,
  "nbformat_minor": 5
}
